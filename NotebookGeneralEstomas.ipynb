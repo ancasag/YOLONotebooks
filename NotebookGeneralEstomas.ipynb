{
 "cells": [
  {
   "cell_type": "markdown",
   "metadata": {
    "colab_type": "text",
    "id": "QxYJRp6nhAS5"
   },
   "source": [
    "# YOLO General aplicado a un dataset de estomas\n",
    "\n",
    "En este caso se particulariza el notebook general para crear un modelo de detección de estomas en imágenes de plantas. Para ejecutar este notebook es necesario estar dentro de la carpeta darknet, que dicha librería esté instalada, y trabajar con Python 2.7."
   ]
  },
  {
   "cell_type": "markdown",
   "metadata": {},
   "source": [
    "Comenzamos descargando e instalando las librerías de Python que vamos a necesitar. Suponemos que ya está instalada la librería de OpenCV."
   ]
  },
  {
   "cell_type": "code",
   "execution_count": 1,
   "metadata": {},
   "outputs": [
    {
     "name": "stdout",
     "output_type": "stream",
     "text": [
      "Requirement already satisfied (use --upgrade to upgrade): matplotlib in /home/joheras/.virtualenvs/keras/lib/python2.7/site-packages\n",
      "Requirement already satisfied (use --upgrade to upgrade): cycler in /home/joheras/.virtualenvs/keras/lib/python2.7/site-packages (from matplotlib)\n",
      "Requirement already satisfied (use --upgrade to upgrade): pytz in /home/joheras/.virtualenvs/keras/lib/python2.7/site-packages (from matplotlib)\n",
      "Requirement already satisfied (use --upgrade to upgrade): numpy>=1.6 in /home/joheras/.virtualenvs/keras/lib/python2.7/site-packages (from matplotlib)\n",
      "Requirement already satisfied (use --upgrade to upgrade): python-dateutil in /home/joheras/.virtualenvs/keras/lib/python2.7/site-packages (from matplotlib)\n",
      "Requirement already satisfied (use --upgrade to upgrade): pyparsing!=2.0.0,!=2.0.4,>=1.5.6 in /home/joheras/.virtualenvs/keras/lib/python2.7/site-packages (from matplotlib)\n",
      "Requirement already satisfied (use --upgrade to upgrade): six in /home/joheras/.virtualenvs/keras/lib/python2.7/site-packages (from cycler->matplotlib)\n",
      "\u001b[33mYou are using pip version 8.1.2, however version 10.0.1 is available.\n",
      "You should consider upgrading via the 'pip install --upgrade pip' command.\u001b[0m\n",
      "Requirement already satisfied (use --upgrade to upgrade): clodsa in /home/joheras/.virtualenvs/keras/lib/python2.7/site-packages\n",
      "Requirement already satisfied (use --upgrade to upgrade): numpy in /home/joheras/.virtualenvs/keras/lib/python2.7/site-packages (from clodsa)\n",
      "Requirement already satisfied (use --upgrade to upgrade): mahotas in /home/joheras/.virtualenvs/keras/lib/python2.7/site-packages (from clodsa)\n",
      "Requirement already satisfied (use --upgrade to upgrade): h5py in /home/joheras/.virtualenvs/keras/lib/python2.7/site-packages (from clodsa)\n",
      "Requirement already satisfied (use --upgrade to upgrade): scipy in /home/joheras/.virtualenvs/keras/lib/python2.7/site-packages (from clodsa)\n",
      "Requirement already satisfied (use --upgrade to upgrade): commentjson in /home/joheras/.virtualenvs/keras/lib/python2.7/site-packages (from clodsa)\n",
      "Requirement already satisfied (use --upgrade to upgrade): progressbar2 in /home/joheras/.virtualenvs/keras/lib/python2.7/site-packages (from clodsa)\n",
      "Requirement already satisfied (use --upgrade to upgrade): scikit-learn in /home/joheras/.virtualenvs/keras/lib/python2.7/site-packages (from clodsa)\n",
      "Requirement already satisfied (use --upgrade to upgrade): Keras in /home/joheras/.virtualenvs/keras/lib/python2.7/site-packages (from clodsa)\n",
      "Requirement already satisfied (use --upgrade to upgrade): imutils in /home/joheras/.virtualenvs/keras/lib/python2.7/site-packages (from clodsa)\n",
      "Requirement already satisfied (use --upgrade to upgrade): six in /home/joheras/.virtualenvs/keras/lib/python2.7/site-packages (from h5py->clodsa)\n",
      "Requirement already satisfied (use --upgrade to upgrade): python-utils>=2.1.0 in /home/joheras/.virtualenvs/keras/lib/python2.7/site-packages (from progressbar2->clodsa)\n",
      "Requirement already satisfied (use --upgrade to upgrade): pyyaml in /home/joheras/.virtualenvs/keras/lib/python2.7/site-packages (from Keras->clodsa)\n",
      "Requirement already satisfied (use --upgrade to upgrade): theano in /home/joheras/.virtualenvs/keras/lib/python2.7/site-packages (from Keras->clodsa)\n",
      "\u001b[33mYou are using pip version 8.1.2, however version 10.0.1 is available.\n",
      "You should consider upgrading via the 'pip install --upgrade pip' command.\u001b[0m\n",
      "Requirement already satisfied (use --upgrade to upgrade): imutils in /home/joheras/.virtualenvs/keras/lib/python2.7/site-packages\n",
      "\u001b[33mYou are using pip version 8.1.2, however version 10.0.1 is available.\n",
      "You should consider upgrading via the 'pip install --upgrade pip' command.\u001b[0m\n"
     ]
    }
   ],
   "source": [
    "!pip install matplotlib\n",
    "!pip install clodsa\n",
    "!pip install imutils"
   ]
  },
  {
   "cell_type": "markdown",
   "metadata": {
    "colab_type": "text",
    "id": "b_ilgGRHlNwo"
   },
   "source": [
    "En primer lugar, vamos a definir unos parámetros y cargar la librería donde se encuentran las funciones que nos van a permitir realizar los pasos necesarios para configurar y entrenar la red YOLO."
   ]
  },
  {
   "cell_type": "code",
   "execution_count": 2,
   "metadata": {
    "colab": {
     "autoexec": {
      "startup": false,
      "wait_interval": 0
     }
    },
    "colab_type": "code",
    "id": "I33mlRNng3J1"
   },
   "outputs": [],
   "source": [
    "from funciones import *"
   ]
  },
  {
   "cell_type": "markdown",
   "metadata": {
    "colab_type": "text",
    "id": "aaRJId2gmfJJ"
   },
   "source": [
    "En el siguiente paso indicamos cuál va a ser el nombre del proyecto:"
   ]
  },
  {
   "cell_type": "code",
   "execution_count": 3,
   "metadata": {
    "colab": {
     "autoexec": {
      "startup": false,
      "wait_interval": 0
     }
    },
    "colab_type": "code",
    "collapsed": true,
    "id": "3DdhYjyXmfJJ"
   },
   "outputs": [],
   "source": [
    "DATASET = \"estomas\""
   ]
  },
  {
   "cell_type": "markdown",
   "metadata": {
    "colab_type": "text",
    "id": "nUQ7QkrNmfJM"
   },
   "source": [
    "Después introducimos la ruta donde se ha descargado la librería darknet. La siguiente instrucción nos indica donde se encuentra la librería."
   ]
  },
  {
   "cell_type": "code",
   "execution_count": 4,
   "metadata": {
    "colab": {
     "autoexec": {
      "startup": false,
      "wait_interval": 0
     }
    },
    "colab_type": "code",
    "id": "YEdOo9iFmfJN",
    "outputId": "4edc253a-d3c6-4097-9713-bc8effd6664f"
   },
   "outputs": [
    {
     "name": "stdout",
     "output_type": "stream",
     "text": [
      "/home/joheras/Escritorio/Research/darknet\r\n"
     ]
    }
   ],
   "source": [
    "!pwd"
   ]
  },
  {
   "cell_type": "code",
   "execution_count": 5,
   "metadata": {
    "colab": {
     "autoexec": {
      "startup": false,
      "wait_interval": 0
     }
    },
    "colab_type": "code",
    "collapsed": true,
    "id": "HdhjIjiRmfJS"
   },
   "outputs": [],
   "source": [
    "DARKNET = \"/home/joheras/Escritorio/Research/darknet\""
   ]
  },
  {
   "cell_type": "markdown",
   "metadata": {
    "colab_type": "text",
    "id": "_MlaaT9umhwg"
   },
   "source": [
    "### 1- Recolección del dataset.\n",
    "\n",
    "Para entrenar YOLO nos hace falta un conjunto de imágenes que formen el dataset, la única condición que se pide aquí es que las imágenes estén en formato *.jpg*. Descargamos y descomprimimos el dataset de imágenes de estomas desde la siguiente dirección. "
   ]
  },
  {
   "cell_type": "code",
   "execution_count": 6,
   "metadata": {},
   "outputs": [
    {
     "name": "stdout",
     "output_type": "stream",
     "text": [
      "--2018-06-19 12:37:41--  https://www.dropbox.com/s/9f3fdco2tngkncw/estomas.zip?dl=0\n",
      "Resolviendo www.dropbox.com (www.dropbox.com)... 162.125.68.1, 2620:100:6024:1::a27d:4401\n",
      "Conectando con www.dropbox.com (www.dropbox.com)[162.125.68.1]:443... conectado.\n",
      "Petición HTTP enviada, esperando respuesta... 302 Found\n",
      "Ubicación: https://uccb409f1a591bf142f1b6ba379b.dl.dropboxusercontent.com/cd/0/get/AJS_7c5h0JWLctD58_m4TAXKvL6upsjXYOkLDirdIiBdoO-ebikDN7N-34ghG477cWrTzK5n5TY6cvcg8ai_WaBllMCM5v1tNKJgjEFVRWeLWxgZ3bzLmmEsMyy2_q7Lx_V9OG8C1O4jxbmrJzpGHeAA8IMp8NTY3gveu2d8aoNVeBJs4joVZisSuCrHoQc8jjU/file [siguiente]\n",
      "--2018-06-19 12:37:41--  https://uccb409f1a591bf142f1b6ba379b.dl.dropboxusercontent.com/cd/0/get/AJS_7c5h0JWLctD58_m4TAXKvL6upsjXYOkLDirdIiBdoO-ebikDN7N-34ghG477cWrTzK5n5TY6cvcg8ai_WaBllMCM5v1tNKJgjEFVRWeLWxgZ3bzLmmEsMyy2_q7Lx_V9OG8C1O4jxbmrJzpGHeAA8IMp8NTY3gveu2d8aoNVeBJs4joVZisSuCrHoQc8jjU/file\n",
      "Resolviendo uccb409f1a591bf142f1b6ba379b.dl.dropboxusercontent.com (uccb409f1a591bf142f1b6ba379b.dl.dropboxusercontent.com)... 162.125.68.6, 2620:100:6024:6::a27d:4406\n",
      "Conectando con uccb409f1a591bf142f1b6ba379b.dl.dropboxusercontent.com (uccb409f1a591bf142f1b6ba379b.dl.dropboxusercontent.com)[162.125.68.6]:443... conectado.\n",
      "Petición HTTP enviada, esperando respuesta... 200 OK\n",
      "Longitud: 18994174 (18M) [application/zip]\n",
      "Grabando a: “estomas.zip”\n",
      "\n",
      "estomas.zip         100%[===================>]  18,11M  11,0MB/s    in 1,6s    \n",
      "\n",
      "2018-06-19 12:37:44 (11,0 MB/s) - “estomas.zip” guardado [18994174/18994174]\n",
      "\n",
      "Archive:  estomas.zip\n",
      "   creating: estomas/\n",
      "  inflating: estomas/13_3_1044.1.A2.txt  \n",
      "  inflating: estomas/10_1_1042.1.B4.txt  \n",
      "  inflating: estomas/19_1_1044.2.A1.jpg  \n",
      "  inflating: estomas/33_9_4022.1.B4.jpg  \n",
      "  inflating: estomas/3_6_1042.1.A2.jpg  \n",
      "  inflating: estomas/20_1_1044.2.A2.txt  \n",
      "  inflating: estomas/33_6_4022.1.B4.jpg  \n",
      "  inflating: estomas/5_7_1042.1.A4.jpg  \n",
      "  inflating: estomas/11_2_1042.1.B5.jpg  \n",
      "  inflating: estomas/36_4_4026.2.A2.txt  \n",
      "  inflating: estomas/13_11_1044.1.A2.jpg  \n",
      "  inflating: estomas/26_7_2016.1.A3.txt  \n",
      "  inflating: estomas/14_4_1044.1.A3.jpg  \n",
      "  inflating: estomas/37_4_4042.1.A1.jpg  \n",
      "  inflating: estomas/26_3_2016.1.A3.jpg  \n",
      "  inflating: estomas/19_8_1044.2.A1.txt  \n",
      "  inflating: estomas/18_2_1044.1.B2.txt  \n",
      "  inflating: estomas/2_6_1042.1.A1.jpg  \n",
      "  inflating: estomas/38_4_4044.2.A4.txt  \n",
      "  inflating: estomas/35_10_4024.1.A4.txt  \n",
      "  inflating: estomas/7_1_1042.1.B1.jpg  \n",
      "  inflating: estomas/19_1_1044.2.A1.txt  \n",
      "  inflating: estomas/25_4_2014.2.A3.txt  \n",
      "  inflating: estomas/0_7_1044.1.B3.txt  \n",
      "  inflating: estomas/22_11_1054.1.A5.jpg  \n",
      "  inflating: estomas/30_11_3034.1.B1.txt  \n",
      "  inflating: estomas/26_4_2016.1.A3.txt  \n",
      "  inflating: estomas/36_6_4026.2.A2.txt  \n",
      "  inflating: estomas/0_4_1044.1.B3.jpg  \n",
      "  inflating: estomas/24_6_1054.1.B3.jpg  \n",
      "  inflating: estomas/11_7_1042.1.B5.txt  \n",
      "  inflating: estomas/28_7_3032.2.B3.jpg  \n",
      "  inflating: estomas/3_7_1042.1.A2.jpg  \n",
      "  inflating: estomas/16_1_1044.1.A5.jpg  \n",
      "  inflating: estomas/27_0_2016.1.A4.jpg  \n",
      "  inflating: estomas/29_4_3034.1.A1.jpg  \n",
      "  inflating: estomas/3_10_1042.1.A2.txt  \n",
      "  inflating: estomas/34_2_4022.2.A5.txt  \n",
      "  inflating: estomas/7_10_1042.1.B1.txt  \n",
      "  inflating: estomas/9_11_1042.1.B3.txt  \n",
      "  inflating: estomas/0_5_1044.1.B3.jpg  \n",
      "  inflating: estomas/18_11_1044.1.B2.txt  \n",
      "  inflating: estomas/22_4_1054.1.A5.jpg  \n",
      "  inflating: estomas/10_9_1042.1.B4.jpg  \n",
      "  inflating: estomas/36_3_4026.2.A2.jpg  \n",
      "  inflating: estomas/15_9_1044.1.A4.jpg  \n",
      "  inflating: estomas/11_10_1042.1.B5.txt  \n",
      "  inflating: estomas/13_1_1044.1.A2.txt  \n",
      "  inflating: estomas/13_0_1044.1.A2.txt  \n",
      "  inflating: estomas/18_3_1044.1.B2.txt  \n",
      "  inflating: estomas/25_3_2014.2.A3.txt  \n",
      "  inflating: estomas/37_5_4042.1.A1.jpg  \n",
      "  inflating: estomas/25_7_2014.2.A3.jpg  \n",
      "  inflating: estomas/33_7_4022.1.B4.jpg  \n",
      "  inflating: estomas/20_9_1044.2.A2.txt  \n",
      "  inflating: estomas/1_7_2016.2.A3.txt  \n",
      "  inflating: estomas/32_8_4022.1.A3.jpg  \n",
      "  inflating: estomas/13_4_1044.1.A2.txt  \n",
      "  inflating: estomas/22_4_1054.1.A5.txt  \n",
      "  inflating: estomas/36_9_4026.2.A2.txt  \n",
      "  inflating: estomas/2_8_1042.1.A1.txt  \n",
      "  inflating: estomas/25_2_2014.2.A3.jpg  \n",
      "  inflating: estomas/2_2_1042.1.A1.txt  \n",
      "  inflating: estomas/35_9_4024.1.A4.jpg  \n",
      "  inflating: estomas/9_5_1042.1.B3.txt  \n",
      "  inflating: estomas/20_10_1044.2.A2.txt  \n",
      "  inflating: estomas/33_1_4022.1.B4.jpg  \n",
      "  inflating: estomas/36_1_4026.2.A2.jpg  \n",
      "  inflating: estomas/23_3_1054.1.B1.jpg  \n",
      "  inflating: estomas/17_0_1044.1.B1.txt  \n",
      "  inflating: estomas/28_10_3032.2.B3.jpg  \n",
      "  inflating: estomas/1_5_2016.2.A3.jpg  \n",
      "  inflating: estomas/15_2_1044.1.A4.txt  \n",
      "  inflating: estomas/7_11_1042.1.B1.txt  \n",
      "  inflating: estomas/22_9_1054.1.A5.txt  \n",
      "  inflating: estomas/19_11_1044.2.A1.jpg  \n",
      "  inflating: estomas/12_0_1044.1.A1.jpg  \n",
      "  inflating: estomas/29_7_3034.1.A1.txt  \n",
      "  inflating: estomas/12_6_1044.1.A1.txt  \n",
      "  inflating: estomas/35_4_4024.1.A4.txt  \n",
      "  inflating: estomas/28_1_3032.2.B3.txt  \n",
      "  inflating: estomas/10_0_1042.1.B4.txt  \n",
      "  inflating: estomas/34_8_4022.2.A5.txt  \n",
      "  inflating: estomas/27_0_2016.1.A4.txt  \n",
      "  inflating: estomas/18_1_1044.1.B2.txt  \n",
      "  inflating: estomas/18_4_1044.1.B2.jpg  \n",
      "  inflating: estomas/17_3_1044.1.B1.txt  \n",
      "  inflating: estomas/18_6_1044.1.B2.txt  \n",
      "  inflating: estomas/37_7_4042.1.A1.txt  \n",
      "  inflating: estomas/37_1_4042.1.A1.txt  \n",
      "  inflating: estomas/21_1_1046.1.A5.jpg  \n",
      "  inflating: estomas/38_4_4044.2.A4.jpg  \n",
      "  inflating: estomas/27_10_2016.1.A4.jpg  \n",
      "  inflating: estomas/24_9_1054.1.B3.jpg  \n",
      "  inflating: estomas/15_5_1044.1.A4.jpg  \n",
      "  inflating: estomas/14_7_1044.1.A3.jpg  \n",
      "  inflating: estomas/17_9_1044.1.B1.txt  \n",
      "  inflating: estomas/28_0_3032.2.B3.jpg  \n",
      "  inflating: estomas/0_8_1044.1.B3.jpg  \n",
      "  inflating: estomas/33_2_4022.1.B4.jpg  \n",
      "  inflating: estomas/30_0_3034.1.B1.txt  \n",
      "  inflating: estomas/27_3_2016.1.A4.txt  \n",
      "  inflating: estomas/2_0_1042.1.A1.jpg  \n",
      "  inflating: estomas/24_7_1054.1.B3.jpg  \n",
      "  inflating: estomas/9_11_1042.1.B3.jpg  \n",
      "  inflating: estomas/30_5_3034.1.B1.txt  \n",
      "  inflating: estomas/7_10_1042.1.B1.jpg  \n",
      "  inflating: estomas/25_2_2014.2.A3.txt  \n",
      "  inflating: estomas/15_10_1044.1.A4.jpg  \n",
      "  inflating: estomas/4_0_1042.1.A3.txt  \n",
      "  inflating: estomas/15_3_1044.1.A4.txt  \n",
      "  inflating: estomas/2_8_1042.1.A1.jpg  \n",
      "  inflating: estomas/28_6_3032.2.B3.jpg  \n",
      "  inflating: estomas/27_11_2016.1.A4.txt  \n",
      "  inflating: estomas/33_0_4022.1.B4.txt  \n",
      "  inflating: estomas/13_8_1044.1.A2.jpg  \n",
      "  inflating: estomas/22_0_1054.1.A5.jpg  \n",
      "  inflating: estomas/4_11_1042.1.A3.jpg  \n",
      "  inflating: estomas/3_2_1042.1.A2.txt  \n",
      "  inflating: estomas/36_5_4026.2.A2.jpg  \n",
      "  inflating: estomas/14_1_1044.1.A3.txt  \n",
      "  inflating: estomas/5_9_1042.1.A4.jpg  \n",
      "  inflating: estomas/25_11_2014.2.A3.txt  \n",
      "  inflating: estomas/28_2_3032.2.B3.jpg  \n",
      "  inflating: estomas/0_8_1044.1.B3.txt  \n",
      "  inflating: estomas/34_6_4022.2.A5.jpg  \n",
      "  inflating: estomas/19_7_1044.2.A1.txt  \n",
      "  inflating: estomas/36_3_4026.2.A2.txt  \n",
      "  inflating: estomas/21_4_1046.1.A5.jpg  \n",
      "  inflating: estomas/36_7_4026.2.A2.txt  \n",
      "  inflating: estomas/4_6_1042.1.A3.jpg  \n",
      "  inflating: estomas/14_0_1044.1.A3.jpg  \n",
      "  inflating: estomas/15_1_1044.1.A4.jpg  \n",
      "  inflating: estomas/18_1_1044.1.B2.jpg  \n",
      "  inflating: estomas/31_3_3034.2.A1.jpg  \n",
      "  inflating: estomas/10_3_1042.1.B4.jpg  \n",
      "  inflating: estomas/23_9_1054.1.B1.jpg  \n",
      "  inflating: estomas/18_0_1044.1.B2.jpg  \n",
      "  inflating: estomas/25_8_2014.2.A3.jpg  \n",
      "  inflating: estomas/4_9_1042.1.A3.txt  \n",
      "  inflating: estomas/3_2_1042.1.A2.jpg  \n",
      "  inflating: estomas/37_6_4042.1.A1.jpg  \n",
      "  inflating: estomas/28_8_3032.2.B3.txt  \n",
      "  inflating: estomas/1_4_2016.2.A3.jpg  \n",
      "  inflating: estomas/26_3_2016.1.A3.txt  \n",
      "  inflating: estomas/22_7_1054.1.A5.jpg  \n",
      "  inflating: estomas/26_8_2016.1.A3.jpg  \n",
      "  inflating: estomas/26_6_2016.1.A3.jpg  \n",
      "  inflating: estomas/14_2_1044.1.A3.txt  \n",
      "  inflating: estomas/34_11_4022.2.A5.txt  \n",
      "  inflating: estomas/29_11_3034.1.A1.txt  \n",
      "  inflating: estomas/34_7_4022.2.A5.jpg  \n",
      "  inflating: estomas/21_3_1046.1.A5.jpg  \n",
      "  inflating: estomas/21_1_1046.1.A5.txt  \n",
      "  inflating: estomas/3_9_1042.1.A2.txt  \n",
      "  inflating: estomas/6_11_1042.1.A5.jpg  \n",
      "  inflating: estomas/29_3_3034.1.A1.jpg  \n",
      "  inflating: estomas/25_10_2014.2.A3.jpg  \n",
      "  inflating: estomas/12_3_1044.1.A1.jpg  \n",
      "  inflating: estomas/6_10_1042.1.A5.jpg  \n",
      "  inflating: estomas/12_11_1044.1.A1.txt  \n",
      "  inflating: estomas/8_7_1042.1.B2.jpg  \n",
      "  inflating: estomas/20_5_1044.2.A2.jpg  \n",
      "  inflating: estomas/23_4_1054.1.B1.jpg  \n",
      "  inflating: estomas/32_6_4022.1.A3.jpg  \n",
      "  inflating: estomas/7_0_1042.1.B1.jpg  \n",
      "  inflating: estomas/15_9_1044.1.A4.txt  \n",
      "  inflating: estomas/8_8_1042.1.B2.txt  \n",
      "  inflating: estomas/16_6_1044.1.A5.jpg  \n",
      "  inflating: estomas/12_5_1044.1.A1.txt  \n",
      "  inflating: estomas/0_9_1044.1.B3.jpg  \n",
      "  inflating: estomas/38_9_4044.2.A4.txt  \n",
      "  inflating: estomas/18_7_1044.1.B2.txt  \n",
      "  inflating: estomas/25_6_2014.2.A3.jpg  \n",
      "  inflating: estomas/31_4_3034.2.A1.jpg  \n",
      "  inflating: estomas/14_4_1044.1.A3.txt  \n",
      "  inflating: estomas/5_8_1042.1.A4.txt  \n",
      "  inflating: estomas/31_5_3034.2.A1.txt  \n",
      "  inflating: estomas/18_10_1044.1.B2.txt  \n",
      "  inflating: estomas/25_5_2014.2.A3.jpg  \n",
      "  inflating: estomas/5_0_1042.1.A4.txt  \n",
      "  inflating: estomas/18_4_1044.1.B2.txt  \n",
      "  inflating: estomas/1_2_2016.2.A3.txt  \n",
      "  inflating: estomas/14_11_1044.1.A3.txt  \n",
      "  inflating: estomas/32_9_4022.1.A3.jpg  \n",
      "  inflating: estomas/37_0_4042.1.A1.txt  \n",
      "  inflating: estomas/1_6_2016.2.A3.txt  \n",
      "  inflating: estomas/36_10_4026.2.A2.jpg  \n",
      "  inflating: estomas/27_1_2016.1.A4.txt  \n",
      "  inflating: estomas/3_4_1042.1.A2.txt  \n",
      "  inflating: estomas/1_8_2016.2.A3.txt  \n",
      "  inflating: estomas/5_6_1042.1.A4.txt  \n",
      "  inflating: estomas/3_10_1042.1.A2.jpg  \n",
      "  inflating: estomas/12_1_1044.1.A1.jpg  \n",
      "  inflating: estomas/20_3_1044.2.A2.txt  \n",
      "  inflating: estomas/18_9_1044.1.B2.txt  \n",
      "  inflating: estomas/34_9_4022.2.A5.jpg  \n",
      "  inflating: estomas/23_7_1054.1.B1.txt  \n",
      "  inflating: estomas/36_11_4026.2.A2.txt  \n",
      "  inflating: estomas/3_4_1042.1.A2.jpg  \n",
      "  inflating: estomas/12_8_1044.1.A1.txt  \n",
      "  inflating: estomas/34_3_4022.2.A5.jpg  \n",
      "  inflating: estomas/1_9_2016.2.A3.txt  \n",
      "  inflating: estomas/37_11_4042.1.A1.txt  \n",
      "  inflating: estomas/34_9_4022.2.A5.txt  \n",
      "  inflating: estomas/10_5_1042.1.B4.txt  \n",
      "  inflating: estomas/3_0_1042.1.A2.txt  \n",
      "  inflating: estomas/31_5_3034.2.A1.jpg  \n",
      "  inflating: estomas/9_1_1042.1.B3.txt  \n",
      "  inflating: estomas/6_8_1042.1.A5.txt  \n",
      "  inflating: estomas/23_8_1054.1.B1.jpg  \n",
      "  inflating: estomas/10_6_1042.1.B4.txt  \n",
      "  inflating: estomas/9_0_1042.1.B3.txt  \n",
      "  inflating: estomas/3_3_1042.1.A2.jpg  \n",
      "  inflating: estomas/33_4_4022.1.B4.jpg  \n",
      "  inflating: estomas/9_4_1042.1.B3.jpg  \n",
      "  inflating: estomas/16_7_1044.1.A5.txt  \n",
      "  inflating: estomas/2_3_1042.1.A1.txt  \n",
      "  inflating: estomas/30_4_3034.1.B1.txt  \n",
      "  inflating: estomas/17_6_1044.1.B1.jpg  \n",
      "  inflating: estomas/32_9_4022.1.A3.txt  \n",
      "  inflating: estomas/24_7_1054.1.B3.txt  \n",
      "  inflating: estomas/10_0_1042.1.B4.jpg  \n",
      "  inflating: estomas/4_2_1042.1.A3.txt  \n",
      "  inflating: estomas/31_4_3034.2.A1.txt  \n",
      "  inflating: estomas/33_11_4022.1.B4.txt  \n",
      "  inflating: estomas/34_1_4022.2.A5.jpg  \n",
      "  inflating: estomas/30_8_3034.1.B1.txt  \n",
      "  inflating: estomas/3_7_1042.1.A2.txt  \n",
      "  inflating: estomas/25_10_2014.2.A3.txt  \n",
      "  inflating: estomas/10_5_1042.1.B4.jpg  \n",
      "  inflating: estomas/5_9_1042.1.A4.txt  \n",
      "  inflating: estomas/23_0_1054.1.B1.jpg  \n",
      "  inflating: estomas/13_10_1044.1.A2.jpg  \n",
      "  inflating: estomas/14_11_1044.1.A3.jpg  \n",
      "  inflating: estomas/14_6_1044.1.A3.txt  \n",
      "  inflating: estomas/2_6_1042.1.A1.txt  \n",
      "  inflating: estomas/20_8_1044.2.A2.jpg  \n",
      "  inflating: estomas/38_11_4044.2.A4.txt  \n",
      "  inflating: estomas/1_11_2016.2.A3.jpg  \n",
      "  inflating: estomas/36_1_4026.2.A2.txt  \n",
      "  inflating: estomas/37_7_4042.1.A1.jpg  \n",
      "  inflating: estomas/5_1_1042.1.A4.txt  \n",
      "  inflating: estomas/23_3_1054.1.B1.txt  \n",
      "  inflating: estomas/35_0_4024.1.A4.jpg  \n",
      "  inflating: estomas/35_8_4024.1.A4.txt  \n",
      "  inflating: estomas/34_10_4022.2.A5.jpg  \n",
      "  inflating: estomas/7_0_1042.1.B1.txt  \n",
      "  inflating: estomas/31_6_3034.2.A1.txt  \n",
      "  inflating: estomas/16_7_1044.1.A5.jpg  \n",
      "  inflating: estomas/28_10_3032.2.B3.txt  \n",
      "  inflating: estomas/27_9_2016.1.A4.jpg  \n",
      "  inflating: estomas/0_7_1044.1.B3.jpg  \n",
      "  inflating: estomas/14_10_1044.1.A3.jpg  \n",
      "  inflating: estomas/0_10_1044.1.B3.jpg  \n",
      "  inflating: estomas/16_0_1044.1.A5.jpg  \n",
      "  inflating: estomas/29_6_3034.1.A1.txt  \n",
      "  inflating: estomas/15_6_1044.1.A4.jpg  \n",
      "  inflating: estomas/10_8_1042.1.B4.jpg  \n",
      "  inflating: estomas/13_6_1044.1.A2.txt  \n",
      "  inflating: estomas/24_4_1054.1.B3.jpg  \n",
      "  inflating: estomas/6_4_1042.1.A5.jpg  \n",
      "  inflating: estomas/27_1_2016.1.A4.jpg  \n",
      "  inflating: estomas/0_3_1044.1.B3.txt  \n",
      "  inflating: estomas/30_1_3034.1.B1.jpg  \n",
      "  inflating: estomas/28_11_3032.2.B3.jpg  \n",
      "  inflating: estomas/37_5_4042.1.A1.txt  \n",
      "  inflating: estomas/34_7_4022.2.A5.txt  \n",
      "  inflating: estomas/11_4_1042.1.B5.txt  \n",
      "  inflating: estomas/30_9_3034.1.B1.txt  \n",
      "  inflating: estomas/25_4_2014.2.A3.jpg  \n",
      "  inflating: estomas/7_2_1042.1.B1.jpg  \n",
      "  inflating: estomas/26_0_2016.1.A3.jpg  \n",
      "  inflating: estomas/10_11_1042.1.B4.txt  \n",
      "  inflating: estomas/1_7_2016.2.A3.jpg  \n",
      "  inflating: estomas/23_10_1054.1.B1.txt  \n",
      "  inflating: estomas/19_5_1044.2.A1.txt  \n",
      "  inflating: estomas/28_6_3032.2.B3.txt  \n",
      "  inflating: estomas/26_7_2016.1.A3.jpg  \n",
      "  inflating: estomas/23_6_1054.1.B1.txt  \n",
      "  inflating: estomas/17_4_1044.1.B1.jpg  \n",
      "  inflating: estomas/22_2_1054.1.A5.jpg  \n",
      "  inflating: estomas/24_3_1054.1.B3.jpg  \n",
      "  inflating: estomas/31_7_3034.2.A1.jpg  \n",
      "  inflating: estomas/13_4_1044.1.A2.jpg  \n",
      "  inflating: estomas/26_4_2016.1.A3.jpg  \n",
      "  inflating: estomas/24_5_1054.1.B3.jpg  \n",
      "  inflating: estomas/14_3_1044.1.A3.jpg  \n",
      "  inflating: estomas/30_4_3034.1.B1.jpg  \n",
      "  inflating: estomas/3_6_1042.1.A2.txt  \n",
      "  inflating: estomas/13_7_1044.1.A2.jpg  \n",
      "  inflating: estomas/30_5_3034.1.B1.jpg  \n",
      "  inflating: estomas/26_10_2016.1.A3.txt  \n",
      "  inflating: estomas/6_9_1042.1.A5.jpg  \n",
      "  inflating: estomas/3_3_1042.1.A2.txt  \n",
      "  inflating: estomas/36_6_4026.2.A2.jpg  \n",
      "  inflating: estomas/29_4_3034.1.A1.txt  \n",
      "  inflating: estomas/25_3_2014.2.A3.jpg  \n",
      "  inflating: estomas/15_8_1044.1.A4.txt  \n",
      "  inflating: estomas/25_5_2014.2.A3.txt  \n",
      "  inflating: estomas/37_8_4042.1.A1.txt  \n",
      "  inflating: estomas/32_3_4022.1.A3.jpg  \n",
      "  inflating: estomas/7_2_1042.1.B1.txt  \n",
      "  inflating: estomas/31_9_3034.2.A1.txt  \n",
      "  inflating: estomas/11_1_1042.1.B5.jpg  \n",
      "  inflating: estomas/38_8_4044.2.A4.txt  \n",
      "  inflating: estomas/6_3_1042.1.A5.jpg  \n",
      "  inflating: estomas/34_0_4022.2.A5.txt  \n",
      "  inflating: estomas/2_3_1042.1.A1.jpg  \n",
      "  inflating: estomas/0_2_1044.1.B3.txt  \n",
      "  inflating: estomas/2_2_1042.1.A1.jpg  \n",
      "  inflating: estomas/24_3_1054.1.B3.txt  \n",
      "  inflating: estomas/24_2_1054.1.B3.txt  \n",
      "  inflating: estomas/18_2_1044.1.B2.jpg  \n",
      "  inflating: estomas/19_3_1044.2.A1.txt  \n",
      "  inflating: estomas/8_11_1042.1.B2.jpg  \n",
      "  inflating: estomas/8_2_1042.1.B2.jpg  \n",
      "  inflating: estomas/33_2_4022.1.B4.txt  \n",
      "  inflating: estomas/32_0_4022.1.A3.jpg  \n",
      "  inflating: estomas/1_11_2016.2.A3.txt  \n",
      "  inflating: estomas/29_10_3034.1.A1.jpg  \n",
      "  inflating: estomas/37_2_4042.1.A1.txt  \n",
      "  inflating: estomas/10_8_1042.1.B4.txt  \n",
      "  inflating: estomas/12_9_1044.1.A1.txt  \n",
      "  inflating: estomas/35_11_4024.1.A4.txt  \n",
      "  inflating: estomas/26_1_2016.1.A3.txt  \n",
      "  inflating: estomas/30_3_3034.1.B1.txt  \n",
      "  inflating: estomas/36_9_4026.2.A2.jpg  \n",
      "  inflating: estomas/4_11_1042.1.A3.txt  \n",
      "  inflating: estomas/9_8_1042.1.B3.txt  \n",
      "  inflating: estomas/20_7_1044.2.A2.txt  \n",
      "  inflating: estomas/15_10_1044.1.A4.txt  \n",
      "  inflating: estomas/3_5_1042.1.A2.txt  \n",
      "  inflating: estomas/25_0_2014.2.A3.txt  \n",
      "  inflating: estomas/38_0_4044.2.A4.jpg  \n",
      "  inflating: estomas/2_1_1042.1.A1.txt  \n",
      "  inflating: estomas/28_2_3032.2.B3.txt  \n",
      "  inflating: estomas/30_2_3034.1.B1.jpg  \n",
      "  inflating: estomas/17_5_1044.1.B1.txt  \n",
      "  inflating: estomas/31_7_3034.2.A1.txt  \n",
      "  inflating: estomas/13_9_1044.1.A2.jpg  \n",
      "  inflating: estomas/16_4_1044.1.A5.txt  \n",
      "  inflating: estomas/2_4_1042.1.A1.txt  \n",
      "  inflating: estomas/12_9_1044.1.A1.jpg  \n",
      "  inflating: estomas/37_1_4042.1.A1.jpg  \n",
      "  inflating: estomas/16_3_1044.1.A5.txt  \n",
      "  inflating: estomas/27_2_2016.1.A4.txt  \n",
      "  inflating: estomas/22_8_1054.1.A5.txt  \n",
      "  inflating: estomas/30_1_3034.1.B1.txt  \n",
      "  inflating: estomas/37_0_4042.1.A1.jpg  \n",
      "  inflating: estomas/29_5_3034.1.A1.txt  \n",
      "  inflating: estomas/35_0_4024.1.A4.txt  \n",
      "  inflating: estomas/23_1_1054.1.B1.jpg  \n",
      "  inflating: estomas/14_9_1044.1.A3.jpg  \n",
      "  inflating: estomas/4_10_1042.1.A3.jpg  \n",
      "  inflating: estomas/32_3_4022.1.A3.txt  \n",
      "  inflating: estomas/27_2_2016.1.A4.jpg  \n",
      "  inflating: estomas/18_3_1044.1.B2.jpg  \n",
      "  inflating: estomas/12_3_1044.1.A1.txt  \n",
      "  inflating: estomas/4_8_1042.1.A3.jpg  \n",
      "  inflating: estomas/25_7_2014.2.A3.txt  \n",
      "  inflating: estomas/6_3_1042.1.A5.txt  \n",
      "  inflating: estomas/11_11_1042.1.B5.jpg  \n",
      "  inflating: estomas/16_11_1044.1.A5.txt  \n",
      "  inflating: estomas/14_7_1044.1.A3.txt  \n",
      "  inflating: estomas/20_11_1044.2.A2.txt  \n",
      "  inflating: estomas/30_6_3034.1.B1.txt  \n",
      "  inflating: estomas/13_1_1044.1.A2.jpg  \n",
      "  inflating: estomas/37_2_4042.1.A1.jpg  \n",
      "  inflating: estomas/37_3_4042.1.A1.jpg  \n",
      "  inflating: estomas/36_7_4026.2.A2.jpg  \n",
      "  inflating: estomas/6_0_1042.1.A5.txt  \n",
      "  inflating: estomas/15_0_1044.1.A4.jpg  \n",
      "  inflating: estomas/13_11_1044.1.A2.txt  \n",
      "  inflating: estomas/8_2_1042.1.B2.txt  \n",
      "  inflating: estomas/8_1_1042.1.B2.jpg  \n",
      "  inflating: estomas/2_7_1042.1.A1.txt  \n",
      "  inflating: estomas/11_2_1042.1.B5.txt  \n",
      "  inflating: estomas/19_10_1044.2.A1.txt  \n",
      "  inflating: estomas/38_6_4044.2.A4.txt  \n",
      "  inflating: estomas/6_5_1042.1.A5.txt  \n",
      "  inflating: estomas/17_1_1044.1.B1.jpg  \n",
      "  inflating: estomas/21_2_1046.1.A5.txt  \n",
      "  inflating: estomas/36_4_4026.2.A2.jpg  \n",
      "  inflating: estomas/26_11_2016.1.A3.txt  \n",
      "  inflating: estomas/16_10_1044.1.A5.jpg  \n",
      "  inflating: estomas/15_4_1044.1.A4.txt  \n",
      "  inflating: estomas/38_11_4044.2.A4.jpg  \n",
      "  inflating: estomas/28_5_3032.2.B3.jpg  \n",
      "  inflating: estomas/12_2_1044.1.A1.jpg  \n",
      "  inflating: estomas/4_6_1042.1.A3.txt  \n",
      "  inflating: estomas/22_11_1054.1.A5.txt  \n",
      "  inflating: estomas/35_1_4024.1.A4.txt  \n",
      "  inflating: estomas/4_9_1042.1.A3.jpg  \n",
      "  inflating: estomas/11_5_1042.1.B5.jpg  \n",
      "  inflating: estomas/28_9_3032.2.B3.jpg  \n",
      "  inflating: estomas/11_8_1042.1.B5.jpg  \n",
      "  inflating: estomas/22_1_1054.1.A5.txt  \n",
      "  inflating: estomas/13_5_1044.1.A2.txt  \n",
      "  inflating: estomas/1_3_2016.2.A3.txt  \n",
      "  inflating: estomas/10_4_1042.1.B4.jpg  \n",
      "  inflating: estomas/22_3_1054.1.A5.jpg  \n",
      "  inflating: estomas/13_8_1044.1.A2.txt  \n",
      "  inflating: estomas/21_0_1046.1.A5.jpg  \n",
      "  inflating: estomas/29_10_3034.1.A1.txt  \n",
      "  inflating: estomas/25_6_2014.2.A3.txt  \n",
      "  inflating: estomas/21_6_1046.1.A5.txt  \n",
      "  inflating: estomas/32_2_4022.1.A3.jpg  \n",
      "  inflating: estomas/22_1_1054.1.A5.jpg  \n",
      "  inflating: estomas/28_3_3032.2.B3.jpg  \n",
      "  inflating: estomas/9_0_1042.1.B3.jpg  \n",
      "  inflating: estomas/26_1_2016.1.A3.jpg  \n",
      "  inflating: estomas/19_7_1044.2.A1.jpg  \n",
      "  inflating: estomas/7_8_1042.1.B1.jpg  \n"
     ]
    },
    {
     "name": "stdout",
     "output_type": "stream",
     "text": [
      "  inflating: estomas/3_1_1042.1.A2.txt  \r\n",
      "  inflating: estomas/5_10_1042.1.A4.txt  \r\n",
      "  inflating: estomas/28_4_3032.2.B3.txt  \r\n",
      "  inflating: estomas/10_1_1042.1.B4.jpg  \r\n",
      "  inflating: estomas/8_7_1042.1.B2.txt  \r\n",
      "  inflating: estomas/19_4_1044.2.A1.jpg  \r\n",
      "  inflating: estomas/37_9_4042.1.A1.jpg  \r\n",
      "  inflating: estomas/7_6_1042.1.B1.txt  \r\n",
      "  inflating: estomas/10_10_1042.1.B4.txt  \r\n",
      "  inflating: estomas/12_4_1044.1.A1.jpg  \r\n",
      "  inflating: estomas/15_7_1044.1.A4.jpg  \r\n",
      "  inflating: estomas/32_10_4022.1.A3.txt  \r\n",
      "  inflating: estomas/6_9_1042.1.A5.txt  \r\n",
      "  inflating: estomas/4_1_1042.1.A3.jpg  \r\n",
      "  inflating: estomas/24_1_1054.1.B3.jpg  \r\n",
      "  inflating: estomas/12_7_1044.1.A1.txt  \r\n",
      "  inflating: estomas/16_8_1044.1.A5.jpg  \r\n",
      "  inflating: estomas/21_4_1046.1.A5.txt  \r\n",
      "  inflating: estomas/37_10_4042.1.A1.txt  \r\n",
      "  inflating: estomas/38_7_4044.2.A4.txt  \r\n",
      "  inflating: estomas/9_9_1042.1.B3.txt  \r\n",
      "  inflating: estomas/12_10_1044.1.A1.txt  \r\n",
      "  inflating: estomas/16_5_1044.1.A5.jpg  \r\n",
      "  inflating: estomas/33_9_4022.1.B4.txt  \r\n",
      "  inflating: estomas/17_11_1044.1.B1.txt  \r\n",
      "  inflating: estomas/19_8_1044.2.A1.jpg  \r\n",
      "  inflating: estomas/13_6_1044.1.A2.jpg  \r\n",
      "  inflating: estomas/31_3_3034.2.A1.txt  \r\n",
      "  inflating: estomas/24_8_1054.1.B3.jpg  \r\n",
      "  inflating: estomas/9_4_1042.1.B3.txt  \r\n",
      "  inflating: estomas/14_5_1044.1.A3.txt  \r\n",
      "  inflating: estomas/38_10_4044.2.A4.txt  \r\n",
      "  inflating: estomas/20_4_1044.2.A2.jpg  \r\n",
      "  inflating: estomas/10_2_1042.1.B4.jpg  \r\n",
      "  inflating: estomas/19_4_1044.2.A1.txt  \r\n",
      "  inflating: estomas/34_10_4022.2.A5.txt  \r\n",
      "  inflating: estomas/8_0_1042.1.B2.txt  \r\n",
      "  inflating: estomas/24_2_1054.1.B3.jpg  \r\n",
      "  inflating: estomas/9_5_1042.1.B3.jpg  \r\n",
      "  inflating: estomas/35_2_4024.1.A4.txt  \r\n",
      "  inflating: estomas/35_11_4024.1.A4.jpg  \r\n",
      "  inflating: estomas/15_11_1044.1.A4.txt  \r\n",
      "  inflating: estomas/9_6_1042.1.B3.jpg  \r\n",
      "  inflating: estomas/38_2_4044.2.A4.jpg  \r\n",
      "  inflating: estomas/16_4_1044.1.A5.jpg  \r\n",
      "  inflating: estomas/29_8_3034.1.A1.jpg  \r\n",
      "  inflating: estomas/34_3_4022.2.A5.txt  \r\n",
      "  inflating: estomas/17_3_1044.1.B1.jpg  \r\n",
      "  inflating: estomas/8_9_1042.1.B2.txt  \r\n",
      "  inflating: estomas/0_6_1044.1.B3.jpg  \r\n",
      "  inflating: estomas/31_0_3034.2.A1.txt  \r\n",
      "  inflating: estomas/6_1_1042.1.A5.txt  \r\n",
      "  inflating: estomas/0_3_1044.1.B3.jpg  \r\n",
      "  inflating: estomas/6_7_1042.1.A5.txt  \r\n",
      "  inflating: estomas/28_11_3032.2.B3.txt  \r\n",
      "  inflating: estomas/27_9_2016.1.A4.txt  \r\n",
      "  inflating: estomas/14_9_1044.1.A3.txt  \r\n",
      "  inflating: estomas/38_6_4044.2.A4.jpg  \r\n",
      "  inflating: estomas/26_9_2016.1.A3.jpg  \r\n",
      "  inflating: estomas/3_5_1042.1.A2.jpg  \r\n",
      "  inflating: estomas/7_3_1042.1.B1.txt  \r\n",
      "  inflating: estomas/24_8_1054.1.B3.txt  \r\n",
      "  inflating: estomas/12_0_1044.1.A1.txt  \r\n",
      "  inflating: estomas/21_0_1046.1.A5.txt  \r\n",
      "  inflating: estomas/32_5_4022.1.A3.jpg  \r\n",
      "  inflating: estomas/11_4_1042.1.B5.jpg  \r\n",
      "  inflating: estomas/34_5_4022.2.A5.txt  \r\n",
      "  inflating: estomas/22_0_1054.1.A5.txt  \r\n",
      "  inflating: estomas/7_6_1042.1.B1.jpg  \r\n",
      "  inflating: estomas/16_3_1044.1.A5.jpg  \r\n",
      "  inflating: estomas/36_11_4026.2.A2.jpg  \r\n",
      "  inflating: estomas/22_2_1054.1.A5.txt  \r\n",
      "  inflating: estomas/7_11_1042.1.B1.jpg  \r\n",
      "  inflating: estomas/35_7_4024.1.A4.txt  \r\n",
      "  inflating: estomas/20_8_1044.2.A2.txt  \r\n",
      "  inflating: estomas/26_5_2016.1.A3.txt  \r\n",
      "  inflating: estomas/38_3_4044.2.A4.txt  \r\n",
      "  inflating: estomas/11_8_1042.1.B5.txt  \r\n",
      "  inflating: estomas/25_8_2014.2.A3.txt  \r\n",
      "  inflating: estomas/8_9_1042.1.B2.jpg  \r\n",
      "  inflating: estomas/24_1_1054.1.B3.txt  \r\n",
      "  inflating: estomas/1_8_2016.2.A3.jpg  \r\n",
      "  inflating: estomas/25_9_2014.2.A3.txt  \r\n",
      "  inflating: estomas/13_0_1044.1.A2.jpg  \r\n",
      "  inflating: estomas/31_6_3034.2.A1.jpg  \r\n",
      "  inflating: estomas/29_6_3034.1.A1.jpg  \r\n",
      "  inflating: estomas/30_0_3034.1.B1.jpg  \r\n",
      "  inflating: estomas/2_7_1042.1.A1.jpg  \r\n",
      "  inflating: estomas/22_7_1054.1.A5.txt  \r\n",
      "  inflating: estomas/5_10_1042.1.A4.jpg  \r\n",
      "  inflating: estomas/36_2_4026.2.A2.txt  \r\n",
      "  inflating: estomas/19_2_1044.2.A1.txt  \r\n",
      "  inflating: estomas/7_9_1042.1.B1.txt  \r\n",
      "  inflating: estomas/12_4_1044.1.A1.txt  \r\n",
      "  inflating: estomas/15_2_1044.1.A4.jpg  \r\n",
      "  inflating: estomas/7_1_1042.1.B1.txt  \r\n",
      "  inflating: estomas/34_5_4022.2.A5.jpg  \r\n",
      "  inflating: estomas/33_7_4022.1.B4.txt  \r\n",
      "  inflating: estomas/2_0_1042.1.A1.txt  \r\n",
      "  inflating: estomas/23_0_1054.1.B1.txt  \r\n",
      "  inflating: estomas/10_9_1042.1.B4.txt  \r\n",
      "  inflating: estomas/4_5_1042.1.A3.txt  \r\n",
      "  inflating: estomas/17_2_1044.1.B1.txt  \r\n",
      "  inflating: estomas/27_11_2016.1.A4.jpg  \r\n",
      "  inflating: estomas/21_8_1046.1.A5.jpg  \r\n",
      "  inflating: estomas/23_1_1054.1.B1.txt  \r\n",
      "  inflating: estomas/19_6_1044.2.A1.txt  \r\n",
      "  inflating: estomas/8_6_1042.1.B2.jpg  \r\n",
      "  inflating: estomas/2_1_1042.1.A1.jpg  \r\n",
      "  inflating: estomas/20_5_1044.2.A2.txt  \r\n",
      "  inflating: estomas/5_11_1042.1.A4.txt  \r\n",
      "  inflating: estomas/38_1_4044.2.A4.txt  \r\n",
      "  inflating: estomas/1_0_2016.2.A3.txt  \r\n",
      "  inflating: estomas/8_8_1042.1.B2.jpg  \r\n",
      "  inflating: estomas/17_10_1044.1.B1.txt  \r\n",
      "  inflating: estomas/6_4_1042.1.A5.txt  \r\n",
      "  inflating: estomas/14_8_1044.1.A3.jpg  \r\n",
      "  inflating: estomas/29_1_3034.1.A1.txt  \r\n",
      "  inflating: estomas/18_5_1044.1.B2.jpg  \r\n",
      "  inflating: estomas/28_8_3032.2.B3.jpg  \r\n",
      "  inflating: estomas/21_11_1046.1.A5.jpg  \r\n",
      "  inflating: estomas/4_7_1042.1.A3.jpg  \r\n",
      "  inflating: estomas/15_0_1044.1.A4.txt  \r\n",
      "  inflating: estomas/29_2_3034.1.A1.txt  \r\n",
      "  inflating: estomas/31_10_3034.2.A1.jpg  \r\n",
      "  inflating: estomas/8_10_1042.1.B2.txt  \r\n",
      "  inflating: estomas/14_10_1044.1.A3.txt  \r\n",
      "  inflating: estomas/19_5_1044.2.A1.jpg  \r\n",
      "  inflating: estomas/27_4_2016.1.A4.txt  \r\n",
      "  inflating: estomas/30_7_3034.1.B1.txt  \r\n",
      "  inflating: estomas/4_1_1042.1.A3.txt  \r\n",
      "  inflating: estomas/1_1_2016.2.A3.jpg  \r\n",
      "  inflating: estomas/31_0_3034.2.A1.jpg  \r\n",
      "  inflating: estomas/1_2_2016.2.A3.jpg  \r\n",
      "  inflating: estomas/20_4_1044.2.A2.txt  \r\n",
      "  inflating: estomas/21_7_1046.1.A5.jpg  \r\n",
      "  inflating: estomas/0_2_1044.1.B3.jpg  \r\n",
      "  inflating: estomas/10_11_1042.1.B4.jpg  \r\n",
      "  inflating: estomas/23_8_1054.1.B1.txt  \r\n",
      "  inflating: estomas/16_5_1044.1.A5.txt  \r\n",
      "  inflating: estomas/37_11_4042.1.A1.jpg  \r\n",
      "  inflating: estomas/19_10_1044.2.A1.jpg  \r\n",
      "  inflating: estomas/1_4_2016.2.A3.txt  \r\n",
      "  inflating: estomas/30_8_3034.1.B1.jpg  \r\n",
      "  inflating: estomas/0_10_1044.1.B3.txt  \r\n",
      "  inflating: estomas/2_11_1042.1.A1.txt  \r\n",
      "  inflating: estomas/36_10_4026.2.A2.txt  \r\n",
      "  inflating: estomas/37_4_4042.1.A1.txt  \r\n",
      "  inflating: estomas/21_9_1046.1.A5.txt  \r\n",
      "  inflating: estomas/29_2_3034.1.A1.jpg  \r\n",
      "  inflating: estomas/9_8_1042.1.B3.jpg  \r\n",
      "  inflating: estomas/32_11_4022.1.A3.jpg  \r\n",
      "  inflating: estomas/17_7_1044.1.B1.txt  \r\n",
      "  inflating: estomas/20_3_1044.2.A2.jpg  \r\n",
      "  inflating: estomas/7_3_1042.1.B1.jpg  \r\n",
      "  inflating: estomas/29_9_3034.1.A1.txt  \r\n",
      "  inflating: estomas/12_2_1044.1.A1.txt  \r\n",
      "  inflating: estomas/8_3_1042.1.B2.txt  \r\n",
      "  inflating: estomas/24_10_1054.1.B3.txt  \r\n",
      "  inflating: estomas/12_10_1044.1.A1.jpg  \r\n",
      "  inflating: estomas/4_2_1042.1.A3.jpg  \r\n",
      "  inflating: estomas/33_3_4022.1.B4.jpg  \r\n",
      "  inflating: estomas/33_8_4022.1.B4.jpg  \r\n",
      "  inflating: estomas/25_11_2014.2.A3.jpg  \r\n",
      "  inflating: estomas/33_3_4022.1.B4.txt  \r\n",
      "  inflating: estomas/15_1_1044.1.A4.txt  \r\n",
      "  inflating: estomas/21_7_1046.1.A5.txt  \r\n",
      "  inflating: estomas/19_11_1044.2.A1.txt  \r\n",
      "  inflating: estomas/25_1_2014.2.A3.txt  \r\n",
      "  inflating: estomas/1_1_2016.2.A3.txt  \r\n",
      "  inflating: estomas/15_8_1044.1.A4.jpg  \r\n",
      "  inflating: estomas/4_0_1042.1.A3.jpg  \r\n",
      "  inflating: estomas/23_2_1054.1.B1.jpg  \r\n",
      "  inflating: estomas/24_0_1054.1.B3.txt  \r\n",
      "  inflating: estomas/33_10_4022.1.B4.jpg  \r\n",
      "  inflating: estomas/20_2_1044.2.A2.jpg  \r\n",
      "  inflating: estomas/21_10_1046.1.A5.txt  \r\n",
      "  inflating: estomas/15_5_1044.1.A4.txt  \r\n",
      "  inflating: estomas/5_4_1042.1.A4.jpg  \r\n",
      "  inflating: estomas/21_6_1046.1.A5.jpg  \r\n",
      "  inflating: estomas/0_6_1044.1.B3.txt  \r\n",
      "  inflating: estomas/17_4_1044.1.B1.txt  \r\n",
      "  inflating: estomas/11_3_1042.1.B5.jpg  \r\n",
      "  inflating: estomas/32_7_4022.1.A3.txt  \r\n",
      "  inflating: estomas/27_4_2016.1.A4.jpg  \r\n",
      "  inflating: estomas/20_11_1044.2.A2.jpg  \r\n",
      "  inflating: estomas/38_5_4044.2.A4.jpg  \r\n",
      "  inflating: estomas/1_10_2016.2.A3.txt  \r\n",
      "  inflating: estomas/18_7_1044.1.B2.jpg  \r\n",
      "  inflating: estomas/5_3_1042.1.A4.jpg  \r\n",
      "  inflating: estomas/9_2_1042.1.B3.jpg  \r\n",
      "  inflating: estomas/16_2_1044.1.A5.txt  \r\n",
      "  inflating: estomas/35_8_4024.1.A4.jpg  \r\n",
      "  inflating: estomas/10_6_1042.1.B4.jpg  \r\n",
      "  inflating: estomas/24_4_1054.1.B3.txt  \r\n",
      "  inflating: estomas/13_10_1044.1.A2.txt  \r\n",
      "  inflating: estomas/14_1_1044.1.A3.jpg  \r\n",
      "  inflating: estomas/14_2_1044.1.A3.jpg  \r\n",
      "  inflating: estomas/9_2_1042.1.B3.txt  \r\n",
      "  inflating: estomas/28_7_3032.2.B3.txt  \r\n",
      "  inflating: estomas/21_2_1046.1.A5.jpg  \r\n",
      "  inflating: estomas/2_11_1042.1.A1.jpg  \r\n",
      "  inflating: estomas/18_9_1044.1.B2.jpg  \r\n",
      "  inflating: estomas/16_9_1044.1.A5.jpg  \r\n",
      "  inflating: estomas/30_10_3034.1.B1.jpg  \r\n",
      "  inflating: estomas/10_3_1042.1.B4.txt  \r\n",
      "  inflating: estomas/31_10_3034.2.A1.txt  \r\n",
      "  inflating: estomas/34_8_4022.2.A5.jpg  \r\n",
      "  inflating: estomas/35_9_4024.1.A4.txt  \r\n",
      "  inflating: estomas/21_11_1046.1.A5.txt  \r\n",
      "  inflating: estomas/22_5_1054.1.A5.jpg  \r\n",
      "  inflating: estomas/5_4_1042.1.A4.txt  \r\n",
      "  inflating: estomas/32_8_4022.1.A3.txt  \r\n",
      "  inflating: estomas/5_3_1042.1.A4.txt  \r\n",
      "  inflating: estomas/32_4_4022.1.A3.jpg  \r\n",
      "  inflating: estomas/6_2_1042.1.A5.jpg  \r\n",
      "  inflating: estomas/9_10_1042.1.B3.txt  \r\n",
      "  inflating: estomas/9_7_1042.1.B3.txt  \r\n",
      "  inflating: estomas/27_3_2016.1.A4.jpg  \r\n",
      "  inflating: estomas/27_5_2016.1.A4.jpg  \r\n",
      "  inflating: estomas/24_10_1054.1.B3.jpg  \r\n",
      "  inflating: estomas/17_8_1044.1.B1.txt  \r\n",
      "  inflating: estomas/33_0_4022.1.B4.jpg  \r\n",
      "  inflating: estomas/17_5_1044.1.B1.jpg  \r\n",
      "  inflating: estomas/33_11_4022.1.B4.jpg  \r\n",
      "  inflating: estomas/8_10_1042.1.B2.jpg  \r\n",
      "  inflating: estomas/20_0_1044.2.A2.jpg  \r\n",
      "  inflating: estomas/26_2_2016.1.A3.txt  \r\n",
      "  inflating: estomas/0_4_1044.1.B3.txt  \r\n",
      "  inflating: estomas/6_5_1042.1.A5.jpg  \r\n",
      "  inflating: estomas/19_9_1044.2.A1.jpg  \r\n",
      "  inflating: estomas/38_3_4044.2.A4.jpg  \r\n",
      "  inflating: estomas/30_2_3034.1.B1.txt  \r\n",
      "  inflating: estomas/38_9_4044.2.A4.jpg  \r\n",
      "  inflating: estomas/24_11_1054.1.B3.jpg  \r\n",
      "  inflating: estomas/13_3_1044.1.A2.jpg  \r\n",
      "  inflating: estomas/8_5_1042.1.B2.txt  \r\n",
      "  inflating: estomas/36_8_4026.2.A2.jpg  \r\n",
      "  inflating: estomas/10_7_1042.1.B4.jpg  \r\n",
      "  inflating: estomas/6_6_1042.1.A5.jpg  \r\n",
      "  inflating: estomas/9_6_1042.1.B3.txt  \r\n",
      "  inflating: estomas/5_11_1042.1.A4.jpg  \r\n",
      "  inflating: estomas/18_8_1044.1.B2.txt  \r\n",
      "  inflating: estomas/24_11_1054.1.B3.txt  \r\n",
      "  inflating: estomas/29_0_3034.1.A1.jpg  \r\n",
      "  inflating: estomas/38_0_4044.2.A4.txt  \r\n",
      "  inflating: estomas/29_11_3034.1.A1.jpg  \r\n",
      "  inflating: estomas/29_7_3034.1.A1.jpg  \r\n",
      "  inflating: estomas/27_7_2016.1.A4.txt  \r\n",
      "  inflating: estomas/6_2_1042.1.A5.txt  \r\n",
      "  inflating: estomas/3_8_1042.1.A2.jpg  \r\n",
      "  inflating: estomas/6_7_1042.1.A5.jpg  \r\n",
      "  inflating: estomas/18_0_1044.1.B2.txt  \r\n",
      "  inflating: estomas/35_1_4024.1.A4.jpg  \r\n",
      "  inflating: estomas/35_5_4024.1.A4.txt  \r\n",
      "  inflating: estomas/8_0_1042.1.B2.jpg  \r\n",
      "  inflating: estomas/32_2_4022.1.A3.txt  \r\n",
      "  inflating: estomas/9_3_1042.1.B3.jpg  \r\n",
      "  inflating: estomas/22_9_1054.1.A5.jpg  \r\n",
      "  inflating: estomas/11_6_1042.1.B5.jpg  \r\n",
      "  inflating: estomas/32_1_4022.1.A3.txt  \r\n",
      "  inflating: estomas/23_6_1054.1.B1.jpg  \r\n",
      "  inflating: estomas/11_9_1042.1.B5.jpg  \r\n",
      "  inflating: estomas/19_3_1044.2.A1.jpg  \r\n",
      "  inflating: estomas/11_1_1042.1.B5.txt  \r\n",
      "  inflating: estomas/14_3_1044.1.A3.txt  \r\n",
      "  inflating: estomas/18_8_1044.1.B2.jpg  \r\n",
      "  inflating: estomas/28_4_3032.2.B3.jpg  \r\n",
      "  inflating: estomas/38_5_4044.2.A4.txt  \r\n",
      "  inflating: estomas/4_7_1042.1.A3.txt  \r\n",
      "  inflating: estomas/33_5_4022.1.B4.txt  \r\n",
      "  inflating: estomas/30_9_3034.1.B1.jpg  \r\n",
      "  inflating: estomas/29_8_3034.1.A1.txt  \r\n",
      "  inflating: estomas/21_9_1046.1.A5.jpg  \r\n",
      "  inflating: estomas/34_0_4022.2.A5.jpg  \r\n",
      "  inflating: estomas/26_10_2016.1.A3.jpg  \r\n",
      "  inflating: estomas/31_9_3034.2.A1.jpg  \r\n",
      "  inflating: estomas/14_0_1044.1.A3.txt  \r\n",
      "  inflating: estomas/23_11_1054.1.B1.txt  \r\n",
      "  inflating: estomas/16_11_1044.1.A5.jpg  \r\n",
      "  inflating: estomas/35_3_4024.1.A4.txt  \r\n",
      "  inflating: estomas/32_5_4022.1.A3.txt  \r\n",
      "  inflating: estomas/37_6_4042.1.A1.txt  \r\n",
      "  inflating: estomas/36_0_4026.2.A2.txt  \r\n",
      "  inflating: estomas/19_6_1044.2.A1.jpg  \r\n",
      "  inflating: estomas/27_6_2016.1.A4.jpg  \r\n",
      "  inflating: estomas/23_5_1054.1.B1.jpg  \r\n",
      "  inflating: estomas/37_9_4042.1.A1.txt  \r\n",
      "  inflating: estomas/26_8_2016.1.A3.txt  \r\n",
      "  inflating: estomas/35_10_4024.1.A4.jpg  \r\n",
      "  inflating: estomas/2_4_1042.1.A1.jpg  \r\n",
      "  inflating: estomas/13_2_1044.1.A2.jpg  \r\n",
      "  inflating: estomas/5_8_1042.1.A4.jpg  \r\n",
      "  inflating: estomas/38_10_4044.2.A4.jpg  \r\n",
      "  inflating: estomas/21_5_1046.1.A5.jpg  \r\n",
      "  inflating: estomas/16_2_1044.1.A5.jpg  \r\n",
      "  inflating: estomas/3_8_1042.1.A2.txt  \r\n",
      "  inflating: estomas/26_2_2016.1.A3.jpg  \r\n",
      "  inflating: estomas/20_1_1044.2.A2.jpg  \r\n",
      "  inflating: estomas/16_1_1044.1.A5.txt  \r\n",
      "  inflating: estomas/23_7_1054.1.B1.jpg  \r\n",
      "  inflating: estomas/16_0_1044.1.A5.txt  \r\n",
      "  inflating: estomas/5_5_1042.1.A4.jpg  \r\n",
      "  inflating: estomas/8_3_1042.1.B2.jpg  \r\n",
      "  inflating: estomas/16_10_1044.1.A5.txt  \r\n",
      "  inflating: estomas/22_3_1054.1.A5.txt  \r\n",
      "  inflating: estomas/10_7_1042.1.B4.txt  \r\n",
      "  inflating: estomas/1_6_2016.2.A3.jpg  \r\n",
      "  inflating: estomas/5_7_1042.1.A4.txt  \r\n",
      "  inflating: estomas/23_4_1054.1.B1.txt  \r\n",
      "  inflating: estomas/20_6_1044.2.A2.txt  \r\n",
      "  inflating: estomas/26_0_2016.1.A3.txt  \r\n",
      "  inflating: estomas/17_1_1044.1.B1.txt  \r\n",
      "  inflating: estomas/31_2_3034.2.A1.txt  \r\n",
      "  inflating: estomas/32_7_4022.1.A3.jpg  \r\n",
      "  inflating: estomas/23_9_1054.1.B1.txt  \r\n",
      "  inflating: estomas/31_1_3034.2.A1.jpg  \r\n",
      "  inflating: estomas/0_5_1044.1.B3.txt  \r\n",
      "  inflating: estomas/1_0_2016.2.A3.jpg  \r\n",
      "  inflating: estomas/17_6_1044.1.B1.txt  \r\n",
      "  inflating: estomas/38_1_4044.2.A4.jpg  \r\n",
      "  inflating: estomas/31_8_3034.2.A1.txt  \r\n",
      "  inflating: estomas/26_6_2016.1.A3.txt  \r\n",
      "  inflating: estomas/11_9_1042.1.B5.txt  \r\n",
      "  inflating: estomas/27_7_2016.1.A4.jpg  \r\n",
      "  inflating: estomas/2_9_1042.1.A1.txt  \r\n",
      "  inflating: estomas/30_10_3034.1.B1.txt  \r\n",
      "  inflating: estomas/5_6_1042.1.A4.jpg  \r\n",
      "  inflating: estomas/19_9_1044.2.A1.txt  \r\n",
      "  inflating: estomas/2_10_1042.1.A1.txt  \r\n",
      "  inflating: estomas/36_2_4026.2.A2.jpg  \r\n",
      "  inflating: estomas/35_2_4024.1.A4.jpg  \r\n",
      "  inflating: estomas/3_11_1042.1.A2.txt  \r\n",
      "  inflating: estomas/17_8_1044.1.B1.jpg  \r\n",
      "  inflating: estomas/8_6_1042.1.B2.txt  \r\n",
      "  inflating: estomas/22_8_1054.1.A5.jpg  \r\n",
      "  inflating: estomas/25_1_2014.2.A3.jpg  \r\n",
      "  inflating: estomas/30_7_3034.1.B1.jpg  \r\n",
      "  inflating: estomas/12_5_1044.1.A1.jpg  \r\n",
      "  inflating: estomas/38_8_4044.2.A4.jpg  \r\n",
      "  inflating: estomas/33_10_4022.1.B4.txt  \r\n",
      "  inflating: estomas/1_10_2016.2.A3.jpg  \r\n",
      "  inflating: estomas/0_1_1044.1.B3.txt  \r\n",
      "  inflating: estomas/3_0_1042.1.A2.jpg  \r\n",
      "  inflating: estomas/0_1_1044.1.B3.jpg  \r\n",
      "  inflating: estomas/7_4_1042.1.B1.txt  \r\n",
      "  inflating: estomas/26_11_2016.1.A3.jpg  \r\n",
      "  inflating: estomas/11_0_1042.1.B5.jpg  \r\n",
      "  inflating: estomas/5_2_1042.1.A4.jpg  \r\n",
      "  inflating: estomas/36_0_4026.2.A2.jpg  \r\n",
      "  inflating: estomas/20_6_1044.2.A2.jpg  \r\n",
      "  inflating: estomas/0_0_1044.1.B3.txt  \r\n",
      "  inflating: estomas/36_5_4026.2.A2.txt  \r\n",
      "  inflating: estomas/7_5_1042.1.B1.txt  \r\n",
      "  inflating: estomas/23_10_1054.1.B1.jpg  \r\n",
      "  inflating: estomas/4_8_1042.1.A3.txt  \r\n",
      "  inflating: estomas/24_5_1054.1.B3.txt  \r\n",
      "  inflating: estomas/2_10_1042.1.A1.jpg  \r\n",
      "  inflating: estomas/30_3_3034.1.B1.jpg  \r\n",
      "  inflating: estomas/15_6_1044.1.A4.txt  \r\n",
      "  inflating: estomas/23_2_1054.1.B1.txt  \r\n",
      "  inflating: estomas/10_4_1042.1.B4.txt  \r\n",
      "  inflating: estomas/22_6_1054.1.A5.txt  \r\n",
      "  inflating: estomas/6_8_1042.1.A5.jpg  \r\n",
      "  inflating: estomas/29_5_3034.1.A1.jpg  \r\n",
      "  inflating: estomas/37_10_4042.1.A1.jpg  \r\n",
      "  inflating: estomas/36_8_4026.2.A2.txt  \r\n",
      "  inflating: estomas/9_3_1042.1.B3.txt  \r\n",
      "  inflating: estomas/20_2_1044.2.A2.txt  \r\n",
      "  inflating: estomas/27_8_2016.1.A4.txt  \r\n",
      "  inflating: estomas/11_10_1042.1.B5.jpg  \r\n",
      "  inflating: estomas/17_9_1044.1.B1.jpg  \r\n",
      "  inflating: estomas/1_9_2016.2.A3.jpg  \r\n",
      "  inflating: estomas/0_0_1044.1.B3.jpg  \r\n",
      "  inflating: estomas/3_9_1042.1.A2.jpg  \r\n",
      "  inflating: estomas/4_3_1042.1.A3.jpg  \r\n",
      "  inflating: estomas/29_3_3034.1.A1.txt  \r\n",
      "  inflating: estomas/20_10_1044.2.A2.jpg  \r\n",
      "  inflating: estomas/22_5_1054.1.A5.txt  \r\n",
      "  inflating: estomas/16_8_1044.1.A5.txt  \r\n",
      "  inflating: estomas/6_10_1042.1.A5.txt  \r\n",
      "  inflating: estomas/33_4_4022.1.B4.txt  \r\n",
      "  inflating: estomas/35_4_4024.1.A4.jpg  \r\n",
      "  inflating: estomas/38_2_4044.2.A4.txt  \r\n",
      "  inflating: estomas/12_1_1044.1.A1.txt  \r\n",
      "  inflating: estomas/17_2_1044.1.B1.jpg  \r\n",
      "  inflating: estomas/18_6_1044.1.B2.jpg  \r\n",
      "  inflating: estomas/5_1_1042.1.A4.jpg  \r\n",
      "  inflating: estomas/34_6_4022.2.A5.txt  \r\n",
      "  inflating: estomas/12_8_1044.1.A1.jpg  \r\n",
      "  inflating: estomas/8_11_1042.1.B2.txt  \r\n",
      "  inflating: estomas/32_1_4022.1.A3.jpg  \r\n",
      "  inflating: estomas/21_3_1046.1.A5.txt  \r\n",
      "  inflating: estomas/24_6_1054.1.B3.txt  \r\n",
      "  inflating: estomas/6_1_1042.1.A5.jpg  \r\n",
      "  inflating: estomas/27_5_2016.1.A4.txt  \r\n",
      "  inflating: estomas/23_5_1054.1.B1.txt  \r\n",
      "  inflating: estomas/19_0_1044.2.A1.jpg  \r\n",
      "  inflating: estomas/24_9_1054.1.B3.txt  \r\n",
      "  inflating: estomas/35_6_4024.1.A4.jpg  \r\n",
      "  inflating: estomas/7_5_1042.1.B1.jpg  \r\n",
      "  inflating: estomas/11_6_1042.1.B5.txt  \r\n",
      "  inflating: estomas/14_8_1044.1.A3.txt  \r\n",
      "  inflating: estomas/4_4_1042.1.A3.jpg  \r\n",
      "  inflating: estomas/13_7_1044.1.A2.txt  \r\n",
      "  inflating: estomas/8_5_1042.1.B2.jpg  \r\n",
      "  inflating: estomas/21_5_1046.1.A5.txt  \r\n",
      "  inflating: estomas/0_9_1044.1.B3.txt  \r\n",
      "  inflating: estomas/7_8_1042.1.B1.txt  \r\n",
      "  inflating: estomas/22_10_1054.1.A5.jpg  \r\n",
      "  inflating: estomas/13_2_1044.1.A2.txt  \r\n",
      "  inflating: estomas/12_11_1044.1.A1.jpg  \r\n",
      "  inflating: estomas/15_3_1044.1.A4.jpg  \r\n",
      "  inflating: estomas/5_2_1042.1.A4.txt  \r\n",
      "  inflating: estomas/17_10_1044.1.B1.jpg  \r\n",
      "  inflating: estomas/18_10_1044.1.B2.jpg  \r\n",
      "  inflating: estomas/4_5_1042.1.A3.jpg  \r\n",
      "  inflating: estomas/16_6_1044.1.A5.txt  \r\n",
      "  inflating: estomas/34_11_4022.2.A5.jpg  \r\n",
      "  inflating: estomas/20_9_1044.2.A2.jpg  \r\n",
      "  inflating: estomas/13_9_1044.1.A2.txt  \r\n",
      "  inflating: estomas/0_11_1044.1.B3.txt  \r\n",
      "  inflating: estomas/10_2_1042.1.B4.txt  \r\n"
     ]
    },
    {
     "name": "stdout",
     "output_type": "stream",
     "text": [
      "  inflating: estomas/37_8_4042.1.A1.jpg  \r\n",
      "  inflating: estomas/28_3_3032.2.B3.txt  \r\n",
      "  inflating: estomas/32_4_4022.1.A3.txt  \r\n",
      "  inflating: estomas/11_3_1042.1.B5.txt  \r\n",
      "  inflating: estomas/35_6_4024.1.A4.txt  \r\n",
      "  inflating: estomas/17_11_1044.1.B1.jpg  \r\n",
      "  inflating: estomas/34_1_4022.2.A5.txt  \r\n",
      "  inflating: estomas/32_6_4022.1.A3.txt  \r\n",
      "  inflating: estomas/32_11_4022.1.A3.txt  \r\n",
      "  inflating: estomas/11_7_1042.1.B5.jpg  \r\n",
      "  inflating: estomas/28_0_3032.2.B3.txt  \r\n",
      "  inflating: estomas/30_6_3034.1.B1.jpg  \r\n",
      "  inflating: estomas/32_0_4022.1.A3.txt  \r\n",
      "  inflating: estomas/34_4_4022.2.A5.txt  \r\n",
      "  inflating: estomas/13_5_1044.1.A2.jpg  \r\n",
      "  inflating: estomas/26_5_2016.1.A3.jpg  \r\n",
      "  inflating: estomas/18_11_1044.1.B2.jpg  \r\n",
      "  inflating: estomas/24_0_1054.1.B3.jpg  \r\n",
      "  inflating: estomas/2_9_1042.1.A1.jpg  \r\n",
      "  inflating: estomas/33_5_4022.1.B4.jpg  \r\n",
      "  inflating: estomas/19_0_1044.2.A1.txt  \r\n",
      "  inflating: estomas/29_9_3034.1.A1.jpg  \r\n",
      "  inflating: estomas/27_6_2016.1.A4.txt  \r\n",
      "  inflating: estomas/29_1_3034.1.A1.jpg  \r\n",
      "  inflating: estomas/31_11_3034.2.A1.jpg  \r\n",
      "  inflating: estomas/34_4_4022.2.A5.jpg  \r\n",
      "  inflating: estomas/17_7_1044.1.B1.jpg  \r\n",
      "  inflating: estomas/20_0_1044.2.A2.txt  \r\n",
      "  inflating: estomas/22_10_1054.1.A5.txt  \r\n",
      "  inflating: estomas/33_6_4022.1.B4.txt  \r\n",
      "  inflating: estomas/11_0_1042.1.B5.txt  \r\n",
      "  inflating: estomas/17_0_1044.1.B1.jpg  \r\n",
      "  inflating: estomas/14_6_1044.1.A3.jpg  \r\n",
      "  inflating: estomas/7_4_1042.1.B1.jpg  \r\n",
      "  inflating: estomas/26_9_2016.1.A3.txt  \r\n",
      "  inflating: estomas/21_10_1046.1.A5.jpg  \r\n",
      "  inflating: estomas/35_5_4024.1.A4.jpg  \r\n",
      "  inflating: estomas/27_10_2016.1.A4.txt  \r\n",
      "  inflating: estomas/15_7_1044.1.A4.txt  \r\n",
      "  inflating: estomas/31_11_3034.2.A1.txt  \r\n",
      "  inflating: estomas/35_3_4024.1.A4.jpg  \r\n",
      "  inflating: estomas/28_5_3032.2.B3.txt  \r\n",
      "  inflating: estomas/23_11_1054.1.B1.jpg  \r\n",
      "  inflating: estomas/8_4_1042.1.B2.txt  \r\n",
      "  inflating: estomas/2_5_1042.1.A1.jpg  \r\n",
      "  inflating: estomas/16_9_1044.1.A5.txt  \r\n",
      "  inflating: estomas/6_11_1042.1.A5.txt  \r\n",
      "  inflating: estomas/2_5_1042.1.A1.txt  \r\n",
      "  inflating: estomas/33_1_4022.1.B4.txt  \r\n",
      "  inflating: estomas/14_5_1044.1.A3.jpg  \r\n",
      "  inflating: estomas/34_2_4022.2.A5.jpg  \r\n",
      "  inflating: estomas/20_7_1044.2.A2.jpg  \r\n",
      "  inflating: estomas/5_0_1042.1.A4.jpg  \r\n",
      "  inflating: estomas/27_8_2016.1.A4.jpg  \r\n",
      "  inflating: estomas/28_1_3032.2.B3.jpg  \r\n",
      "  inflating: estomas/22_6_1054.1.A5.jpg  \r\n",
      "  inflating: estomas/31_8_3034.2.A1.jpg  \r\n",
      "  inflating: estomas/1_3_2016.2.A3.jpg  \r\n",
      "  inflating: estomas/11_5_1042.1.B5.txt  \r\n",
      "  inflating: estomas/11_11_1042.1.B5.txt  \r\n",
      "  inflating: estomas/9_9_1042.1.B3.jpg  \r\n",
      "  inflating: estomas/15_4_1044.1.A4.jpg  \r\n",
      "  inflating: estomas/18_5_1044.1.B2.txt  \r\n",
      "  inflating: estomas/25_9_2014.2.A3.jpg  \r\n",
      "  inflating: estomas/25_0_2014.2.A3.jpg  \r\n",
      "  inflating: estomas/12_7_1044.1.A1.jpg  \r\n",
      "  inflating: estomas/7_9_1042.1.B1.jpg  \r\n",
      "  inflating: estomas/28_9_3032.2.B3.txt  \r\n",
      "  inflating: estomas/31_2_3034.2.A1.jpg  \r\n",
      "  inflating: estomas/4_4_1042.1.A3.txt  \r\n",
      "  inflating: estomas/6_6_1042.1.A5.txt  \r\n",
      "  inflating: estomas/0_11_1044.1.B3.jpg  \r\n",
      "  inflating: estomas/3_11_1042.1.A2.jpg  \r\n",
      "  inflating: estomas/32_10_4022.1.A3.jpg  \r\n",
      "  inflating: estomas/10_10_1042.1.B4.jpg  \r\n",
      "  inflating: estomas/4_3_1042.1.A3.txt  \r\n",
      "  inflating: estomas/19_2_1044.2.A1.jpg  \r\n",
      "  inflating: estomas/1_5_2016.2.A3.txt  \r\n",
      "  inflating: estomas/12_6_1044.1.A1.jpg  \r\n",
      "  inflating: estomas/8_1_1042.1.B2.txt  \r\n",
      "  inflating: estomas/4_10_1042.1.A3.txt  \r\n",
      "  inflating: estomas/31_1_3034.2.A1.txt  \r\n",
      "  inflating: estomas/9_10_1042.1.B3.jpg  \r\n",
      "  inflating: estomas/3_1_1042.1.A2.jpg  \r\n",
      "  inflating: estomas/6_0_1042.1.A5.jpg  \r\n",
      "  inflating: estomas/21_8_1046.1.A5.txt  \r\n",
      "  inflating: estomas/38_7_4044.2.A4.jpg  \r\n",
      "  inflating: estomas/8_4_1042.1.B2.jpg  \r\n",
      "  inflating: estomas/33_8_4022.1.B4.txt  \r\n",
      "  inflating: estomas/15_11_1044.1.A4.jpg  \r\n",
      "  inflating: estomas/9_7_1042.1.B3.jpg  \r\n",
      "  inflating: estomas/30_11_3034.1.B1.jpg  \r\n",
      "  inflating: estomas/7_7_1042.1.B1.txt  \r\n",
      "  inflating: estomas/35_7_4024.1.A4.jpg  \r\n",
      "  inflating: estomas/37_3_4042.1.A1.txt  \r\n",
      "  inflating: estomas/29_0_3034.1.A1.txt  \r\n",
      "  inflating: estomas/5_5_1042.1.A4.txt  \r\n",
      "  inflating: estomas/7_7_1042.1.B1.jpg  \r\n",
      "  inflating: estomas/9_1_1042.1.B3.jpg  \r\n"
     ]
    }
   ],
   "source": [
    "!wget https://www.dropbox.com/s/9f3fdco2tngkncw/estomas.zip?dl=0 -O estomas.zip\n",
    "!unzip estomas.zip"
   ]
  },
  {
   "cell_type": "markdown",
   "metadata": {},
   "source": [
    "Todas las imágenes deben estar en formato *.jpg* y almacenadas dentro de una carpeta y la ruta de dicha carpeta debe introducirse en la siguiente variable."
   ]
  },
  {
   "cell_type": "code",
   "execution_count": 7,
   "metadata": {
    "colab": {
     "autoexec": {
      "startup": false,
      "wait_interval": 0
     }
    },
    "colab_type": "code",
    "collapsed": true,
    "id": "pGorhitUmfJV"
   },
   "outputs": [],
   "source": [
    "PATHIMAGES = \"/home/joheras/Escritorio/Research/darknet/estomas\""
   ]
  },
  {
   "cell_type": "markdown",
   "metadata": {
    "colab_type": "text",
    "id": "JjHt-DasmfJX"
   },
   "source": [
    "La siguiente instrucción permite validar que la ruta anterior es válida."
   ]
  },
  {
   "cell_type": "code",
   "execution_count": 8,
   "metadata": {
    "colab": {
     "autoexec": {
      "startup": false,
      "wait_interval": 0
     }
    },
    "colab_type": "code",
    "id": "oHXolCWSmfJY"
   },
   "outputs": [
    {
     "name": "stdout",
     "output_type": "stream",
     "text": [
      "Todo correcto\n"
     ]
    }
   ],
   "source": [
    "compruebeImages(PATHIMAGES)"
   ]
  },
  {
   "cell_type": "markdown",
   "metadata": {
    "colab_type": "text",
    "id": "T4O92HyVmfJa"
   },
   "source": [
    "### 2. Anotación del dataset.\n",
    "\n",
    "Necesitamos que todas las imágenes estén anotadas en el formato YOLO, es decir YOLO necesita que cada imagen tenga un archivo .txt con una  línea por cada objeto que nos interese detectar. Para generar este tipo de archivos podemos usar programas como Yolo_mark.\n",
    "Necesitamos que todas las imágenes estén anotadas y todos los ficheros *.txt*  con las anotaciones deben estar almacenados en la misma carpeta donde se han almacenado las imágenes. La carpeta descargada en el paso anterior ya contiene para cada imagen su anotación. \n",
    "\n",
    "La siguiente función comprueba que cada imagen tiene su fichero con la anotación."
   ]
  },
  {
   "cell_type": "code",
   "execution_count": 9,
   "metadata": {
    "colab": {
     "autoexec": {
      "startup": false,
      "wait_interval": 0
     }
    },
    "colab_type": "code",
    "id": "YkoZ67lbmfJb"
   },
   "outputs": [
    {
     "name": "stdout",
     "output_type": "stream",
     "text": [
      "Todo correcto, continuamos\n",
      "Todo correcto, continuamos\n",
      "Todo correcto, continuamos\n",
      "Todo correcto, continuamos\n",
      "Todo correcto, continuamos\n",
      "Todo correcto, continuamos\n",
      "Todo correcto, continuamos\n",
      "Todo correcto, continuamos\n",
      "Todo correcto, continuamos\n",
      "Todo correcto, continuamos\n",
      "Todo correcto, continuamos\n",
      "Todo correcto, continuamos\n",
      "Todo correcto, continuamos\n",
      "Todo correcto, continuamos\n",
      "Todo correcto, continuamos\n",
      "Todo correcto, continuamos\n",
      "Todo correcto, continuamos\n",
      "Todo correcto, continuamos\n",
      "Todo correcto, continuamos\n",
      "Todo correcto, continuamos\n",
      "Todo correcto, continuamos\n",
      "Todo correcto, continuamos\n",
      "Todo correcto, continuamos\n",
      "Todo correcto, continuamos\n",
      "Todo correcto, continuamos\n",
      "Todo correcto, continuamos\n",
      "Todo correcto, continuamos\n",
      "Todo correcto, continuamos\n",
      "Todo correcto, continuamos\n",
      "Todo correcto, continuamos\n",
      "Todo correcto, continuamos\n",
      "Todo correcto, continuamos\n",
      "Todo correcto, continuamos\n",
      "Todo correcto, continuamos\n",
      "Todo correcto, continuamos\n",
      "Todo correcto, continuamos\n",
      "Todo correcto, continuamos\n",
      "Todo correcto, continuamos\n",
      "Todo correcto, continuamos\n",
      "Todo correcto, continuamos\n",
      "Todo correcto, continuamos\n",
      "Todo correcto, continuamos\n",
      "Todo correcto, continuamos\n",
      "Todo correcto, continuamos\n",
      "Todo correcto, continuamos\n",
      "Todo correcto, continuamos\n",
      "Todo correcto, continuamos\n",
      "Todo correcto, continuamos\n",
      "Todo correcto, continuamos\n",
      "Todo correcto, continuamos\n",
      "Todo correcto, continuamos\n",
      "Todo correcto, continuamos\n",
      "Todo correcto, continuamos\n",
      "Todo correcto, continuamos\n",
      "Todo correcto, continuamos\n",
      "Todo correcto, continuamos\n",
      "Todo correcto, continuamos\n",
      "Todo correcto, continuamos\n",
      "Todo correcto, continuamos\n",
      "Todo correcto, continuamos\n",
      "Todo correcto, continuamos\n",
      "Todo correcto, continuamos\n",
      "Todo correcto, continuamos\n",
      "Todo correcto, continuamos\n",
      "Todo correcto, continuamos\n",
      "Todo correcto, continuamos\n",
      "Todo correcto, continuamos\n",
      "Todo correcto, continuamos\n",
      "Todo correcto, continuamos\n",
      "Todo correcto, continuamos\n",
      "Todo correcto, continuamos\n",
      "Todo correcto, continuamos\n",
      "Todo correcto, continuamos\n",
      "Todo correcto, continuamos\n",
      "Todo correcto, continuamos\n",
      "Todo correcto, continuamos\n",
      "Todo correcto, continuamos\n",
      "Todo correcto, continuamos\n",
      "Todo correcto, continuamos\n",
      "Todo correcto, continuamos\n",
      "Todo correcto, continuamos\n",
      "Todo correcto, continuamos\n",
      "Todo correcto, continuamos\n",
      "Todo correcto, continuamos\n",
      "Todo correcto, continuamos\n",
      "Todo correcto, continuamos\n",
      "Todo correcto, continuamos\n",
      "Todo correcto, continuamos\n",
      "Todo correcto, continuamos\n",
      "Todo correcto, continuamos\n",
      "Todo correcto, continuamos\n",
      "Todo correcto, continuamos\n",
      "Todo correcto, continuamos\n",
      "Todo correcto, continuamos\n",
      "Todo correcto, continuamos\n",
      "Todo correcto, continuamos\n",
      "Todo correcto, continuamos\n",
      "Todo correcto, continuamos\n",
      "Todo correcto, continuamos\n",
      "Todo correcto, continuamos\n",
      "Todo correcto, continuamos\n",
      "Todo correcto, continuamos\n",
      "Todo correcto, continuamos\n",
      "Todo correcto, continuamos\n",
      "Todo correcto, continuamos\n",
      "Todo correcto, continuamos\n",
      "Todo correcto, continuamos\n",
      "Todo correcto, continuamos\n",
      "Todo correcto, continuamos\n",
      "Todo correcto, continuamos\n",
      "Todo correcto, continuamos\n",
      "Todo correcto, continuamos\n",
      "Todo correcto, continuamos\n",
      "Todo correcto, continuamos\n",
      "Todo correcto, continuamos\n",
      "Todo correcto, continuamos\n",
      "Todo correcto, continuamos\n",
      "Todo correcto, continuamos\n",
      "Todo correcto, continuamos\n",
      "Todo correcto, continuamos\n",
      "Todo correcto, continuamos\n",
      "Todo correcto, continuamos\n",
      "Todo correcto, continuamos\n",
      "Todo correcto, continuamos\n",
      "Todo correcto, continuamos\n",
      "Todo correcto, continuamos\n",
      "Todo correcto, continuamos\n",
      "Todo correcto, continuamos\n",
      "Todo correcto, continuamos\n",
      "Todo correcto, continuamos\n",
      "Todo correcto, continuamos\n",
      "Todo correcto, continuamos\n",
      "Todo correcto, continuamos\n",
      "Todo correcto, continuamos\n",
      "Todo correcto, continuamos\n",
      "Todo correcto, continuamos\n",
      "Todo correcto, continuamos\n",
      "Todo correcto, continuamos\n",
      "Todo correcto, continuamos\n",
      "Todo correcto, continuamos\n",
      "Todo correcto, continuamos\n",
      "Todo correcto, continuamos\n",
      "Todo correcto, continuamos\n",
      "Todo correcto, continuamos\n",
      "Todo correcto, continuamos\n",
      "Todo correcto, continuamos\n",
      "Todo correcto, continuamos\n",
      "Todo correcto, continuamos\n",
      "Todo correcto, continuamos\n",
      "Todo correcto, continuamos\n",
      "Todo correcto, continuamos\n",
      "Todo correcto, continuamos\n",
      "Todo correcto, continuamos\n",
      "Todo correcto, continuamos\n",
      "Todo correcto, continuamos\n",
      "Todo correcto, continuamos\n",
      "Todo correcto, continuamos\n",
      "Todo correcto, continuamos\n",
      "Todo correcto, continuamos\n",
      "Todo correcto, continuamos\n",
      "Todo correcto, continuamos\n",
      "Todo correcto, continuamos\n",
      "Todo correcto, continuamos\n",
      "Todo correcto, continuamos\n",
      "Todo correcto, continuamos\n",
      "Todo correcto, continuamos\n",
      "Todo correcto, continuamos\n",
      "Todo correcto, continuamos\n",
      "Todo correcto, continuamos\n",
      "Todo correcto, continuamos\n",
      "Todo correcto, continuamos\n",
      "Todo correcto, continuamos\n",
      "Todo correcto, continuamos\n",
      "Todo correcto, continuamos\n",
      "Todo correcto, continuamos\n",
      "Todo correcto, continuamos\n",
      "Todo correcto, continuamos\n",
      "Todo correcto, continuamos\n",
      "Todo correcto, continuamos\n",
      "Todo correcto, continuamos\n",
      "Todo correcto, continuamos\n",
      "Todo correcto, continuamos\n",
      "Todo correcto, continuamos\n",
      "Todo correcto, continuamos\n",
      "Todo correcto, continuamos\n",
      "Todo correcto, continuamos\n",
      "Todo correcto, continuamos\n",
      "Todo correcto, continuamos\n",
      "Todo correcto, continuamos\n",
      "Todo correcto, continuamos\n",
      "Todo correcto, continuamos\n",
      "Todo correcto, continuamos\n",
      "Todo correcto, continuamos\n",
      "Todo correcto, continuamos\n",
      "Todo correcto, continuamos\n",
      "Todo correcto, continuamos\n",
      "Todo correcto, continuamos\n",
      "Todo correcto, continuamos\n",
      "Todo correcto, continuamos\n",
      "Todo correcto, continuamos\n",
      "Todo correcto, continuamos\n",
      "Todo correcto, continuamos\n",
      "Todo correcto, continuamos\n",
      "Todo correcto, continuamos\n",
      "Todo correcto, continuamos\n",
      "Todo correcto, continuamos\n",
      "Todo correcto, continuamos\n",
      "Todo correcto, continuamos\n",
      "Todo correcto, continuamos\n",
      "Todo correcto, continuamos\n",
      "Todo correcto, continuamos\n",
      "Todo correcto, continuamos\n",
      "Todo correcto, continuamos\n",
      "Todo correcto, continuamos\n",
      "Todo correcto, continuamos\n",
      "Todo correcto, continuamos\n",
      "Todo correcto, continuamos\n",
      "Todo correcto, continuamos\n",
      "Todo correcto, continuamos\n",
      "Todo correcto, continuamos\n",
      "Todo correcto, continuamos\n",
      "Todo correcto, continuamos\n",
      "Todo correcto, continuamos\n",
      "Todo correcto, continuamos\n",
      "Todo correcto, continuamos\n",
      "Todo correcto, continuamos\n",
      "Todo correcto, continuamos\n",
      "Todo correcto, continuamos\n",
      "Todo correcto, continuamos\n",
      "Todo correcto, continuamos\n",
      "Todo correcto, continuamos\n",
      "Todo correcto, continuamos\n",
      "Todo correcto, continuamos\n",
      "Todo correcto, continuamos\n",
      "Todo correcto, continuamos\n",
      "Todo correcto, continuamos\n",
      "Todo correcto, continuamos\n",
      "Todo correcto, continuamos\n",
      "Todo correcto, continuamos\n",
      "Todo correcto, continuamos\n",
      "Todo correcto, continuamos\n",
      "Todo correcto, continuamos\n",
      "Todo correcto, continuamos\n",
      "Todo correcto, continuamos\n",
      "Todo correcto, continuamos\n",
      "Todo correcto, continuamos\n",
      "Todo correcto, continuamos\n",
      "Todo correcto, continuamos\n",
      "Todo correcto, continuamos\n",
      "Todo correcto, continuamos\n",
      "Todo correcto, continuamos\n",
      "Todo correcto, continuamos\n",
      "Todo correcto, continuamos\n",
      "Todo correcto, continuamos\n",
      "Todo correcto, continuamos\n",
      "Todo correcto, continuamos\n",
      "Todo correcto, continuamos\n",
      "Todo correcto, continuamos\n",
      "Todo correcto, continuamos\n",
      "Todo correcto, continuamos\n",
      "Todo correcto, continuamos\n",
      "Todo correcto, continuamos\n",
      "Todo correcto, continuamos\n",
      "Todo correcto, continuamos\n",
      "Todo correcto, continuamos\n",
      "Todo correcto, continuamos\n",
      "Todo correcto, continuamos\n",
      "Todo correcto, continuamos\n",
      "Todo correcto, continuamos\n",
      "Todo correcto, continuamos\n",
      "Todo correcto, continuamos\n",
      "Todo correcto, continuamos\n",
      "Todo correcto, continuamos\n",
      "Todo correcto, continuamos\n",
      "Todo correcto, continuamos\n",
      "Todo correcto, continuamos\n",
      "Todo correcto, continuamos\n",
      "Todo correcto, continuamos\n",
      "Todo correcto, continuamos\n",
      "Todo correcto, continuamos\n",
      "Todo correcto, continuamos\n",
      "Todo correcto, continuamos\n",
      "Todo correcto, continuamos\n",
      "Todo correcto, continuamos\n",
      "Todo correcto, continuamos\n",
      "Todo correcto, continuamos\n",
      "Todo correcto, continuamos\n",
      "Todo correcto, continuamos\n",
      "Todo correcto, continuamos\n",
      "Todo correcto, continuamos\n",
      "Todo correcto, continuamos\n",
      "Todo correcto, continuamos\n",
      "Todo correcto, continuamos\n",
      "Todo correcto, continuamos\n",
      "Todo correcto, continuamos\n",
      "Todo correcto, continuamos\n",
      "Todo correcto, continuamos\n",
      "Todo correcto, continuamos\n",
      "Todo correcto, continuamos\n",
      "Todo correcto, continuamos\n",
      "Todo correcto, continuamos\n",
      "Todo correcto, continuamos\n",
      "Todo correcto, continuamos\n",
      "Todo correcto, continuamos\n",
      "Todo correcto, continuamos\n",
      "Todo correcto, continuamos\n",
      "Todo correcto, continuamos\n",
      "Todo correcto, continuamos\n",
      "Todo correcto, continuamos\n",
      "Todo correcto, continuamos\n",
      "Todo correcto, continuamos\n",
      "Todo correcto, continuamos\n",
      "Todo correcto, continuamos\n",
      "Todo correcto, continuamos\n",
      "Todo correcto, continuamos\n",
      "Todo correcto, continuamos\n",
      "Todo correcto, continuamos\n",
      "Todo correcto, continuamos\n",
      "Todo correcto, continuamos\n",
      "Todo correcto, continuamos\n",
      "Todo correcto, continuamos\n",
      "Todo correcto, continuamos\n",
      "Todo correcto, continuamos\n",
      "Todo correcto, continuamos\n",
      "Todo correcto, continuamos\n",
      "Todo correcto, continuamos\n",
      "Todo correcto, continuamos\n",
      "Todo correcto, continuamos\n",
      "Todo correcto, continuamos\n",
      "Todo correcto, continuamos\n",
      "Todo correcto, continuamos\n",
      "Todo correcto, continuamos\n",
      "Todo correcto, continuamos\n",
      "Todo correcto, continuamos\n",
      "Todo correcto, continuamos\n",
      "Todo correcto, continuamos\n",
      "Todo correcto, continuamos\n",
      "Todo correcto, continuamos\n",
      "Todo correcto, continuamos\n",
      "Todo correcto, continuamos\n",
      "Todo correcto, continuamos\n",
      "Todo correcto, continuamos\n",
      "Todo correcto, continuamos\n",
      "Todo correcto, continuamos\n",
      "Todo correcto, continuamos\n",
      "Todo correcto, continuamos\n",
      "Todo correcto, continuamos\n",
      "Todo correcto, continuamos\n",
      "Todo correcto, continuamos\n",
      "Todo correcto, continuamos\n",
      "Todo correcto, continuamos\n",
      "Todo correcto, continuamos\n",
      "Todo correcto, continuamos\n",
      "Todo correcto, continuamos\n",
      "Todo correcto, continuamos\n",
      "Todo correcto, continuamos\n",
      "Todo correcto, continuamos\n",
      "Todo correcto, continuamos\n",
      "Todo correcto, continuamos\n",
      "Todo correcto, continuamos\n",
      "Todo correcto, continuamos\n",
      "Todo correcto, continuamos\n",
      "Todo correcto, continuamos\n",
      "Todo correcto, continuamos\n",
      "Todo correcto, continuamos\n",
      "Todo correcto, continuamos\n",
      "Todo correcto, continuamos\n",
      "Todo correcto, continuamos\n",
      "Todo correcto, continuamos\n",
      "Todo correcto, continuamos\n",
      "Todo correcto, continuamos\n",
      "Todo correcto, continuamos\n",
      "Todo correcto, continuamos\n",
      "Todo correcto, continuamos\n",
      "Todo correcto, continuamos\n",
      "Todo correcto, continuamos\n",
      "Todo correcto, continuamos\n",
      "Todo correcto, continuamos\n",
      "Todo correcto, continuamos\n",
      "Todo correcto, continuamos\n",
      "Todo correcto, continuamos\n",
      "Todo correcto, continuamos\n",
      "Todo correcto, continuamos\n",
      "Todo correcto, continuamos\n",
      "Todo correcto, continuamos\n",
      "Todo correcto, continuamos\n",
      "Todo correcto, continuamos\n",
      "Todo correcto, continuamos\n",
      "Todo correcto, continuamos\n",
      "Todo correcto, continuamos\n",
      "Todo correcto, continuamos\n",
      "Todo correcto, continuamos\n",
      "Todo correcto, continuamos\n",
      "Todo correcto, continuamos\n",
      "Todo correcto, continuamos\n",
      "Todo correcto, continuamos\n",
      "Todo correcto, continuamos\n",
      "Todo correcto, continuamos\n",
      "Todo correcto, continuamos\n",
      "Todo correcto, continuamos\n",
      "Todo correcto, continuamos\n",
      "Todo correcto, continuamos\n",
      "Todo correcto, continuamos\n",
      "Todo correcto, continuamos\n",
      "Todo correcto, continuamos\n",
      "Todo correcto, continuamos\n",
      "Todo correcto, continuamos\n",
      "Todo correcto, continuamos\n",
      "Todo correcto, continuamos\n",
      "Todo correcto, continuamos\n",
      "Todo correcto, continuamos\n",
      "Todo correcto, continuamos\n",
      "Todo correcto, continuamos\n",
      "Todo correcto, continuamos\n",
      "Todo correcto, continuamos\n",
      "Todo correcto, continuamos\n",
      "Todo correcto, continuamos\n",
      "Todo correcto, continuamos\n",
      "Todo correcto, continuamos\n",
      "Todo correcto, continuamos\n",
      "Todo correcto, continuamos\n",
      "Todo correcto, continuamos\n",
      "Todo correcto, continuamos\n",
      "Todo correcto, continuamos\n",
      "Todo correcto, continuamos\n",
      "Todo correcto, continuamos\n",
      "Todo correcto, continuamos\n",
      "Todo correcto, continuamos\n",
      "Todo correcto, continuamos\n",
      "Todo correcto, continuamos\n",
      "Todo correcto, continuamos\n",
      "Todo correcto, continuamos\n",
      "Todo correcto, continuamos\n",
      "Todo correcto, continuamos\n",
      "Todo correcto, continuamos\n",
      "Todo correcto, continuamos\n",
      "Todo correcto, continuamos\n",
      "Todo correcto, continuamos\n",
      "Todo correcto, continuamos\n",
      "Todo correcto, continuamos\n",
      "Todo correcto, continuamos\n",
      "Todo correcto, continuamos\n",
      "Todo correcto, continuamos\n",
      "Todo correcto, continuamos\n",
      "Todo correcto, continuamos\n",
      "Todo correcto, continuamos\n",
      "Todo correcto, continuamos\n",
      "Todo correcto, continuamos\n",
      "Todo correcto, continuamos\n",
      "Todo correcto, continuamos\n",
      "Todo correcto, continuamos\n",
      "Todo correcto, continuamos\n",
      "Todo correcto, continuamos\n",
      "Todo correcto, continuamos\n",
      "Todo correcto, continuamos\n",
      "Todo correcto, continuamos\n",
      "Todo correcto, continuamos\n",
      "Todo correcto, continuamos\n",
      "Todo correcto, continuamos\n",
      "Todo correcto, continuamos\n",
      "Todo correcto, continuamos\n",
      "Todo correcto, continuamos\n",
      "Todo correcto, continuamos\n",
      "Todo correcto, continuamos\n",
      "Todo correcto, continuamos\n",
      "Todo correcto, continuamos\n",
      "Todo correcto, continuamos\n",
      "Todo correcto, continuamos\n"
     ]
    }
   ],
   "source": [
    "compruebeTXT(PATHIMAGES)"
   ]
  },
  {
   "cell_type": "markdown",
   "metadata": {
    "colab_type": "text",
    "id": "UCSer8d7mfJe"
   },
   "source": [
    "El siguiente paso consiste en crear el fichero *.names* con las clases de objetos que se quieren detectar. Para ello necesitamos la lista de las clases que vamos a detectar, el nombre del proyecto (que dará lugar al nombre del fichero) y la ruta donde se encuentra la darknet. \n",
    "\n",
    "Ahora añadimos en la siguiente variable la lista de las clases de objetos que quieres que se detecte."
   ]
  },
  {
   "cell_type": "code",
   "execution_count": 10,
   "metadata": {
    "colab": {
     "autoexec": {
      "startup": false,
      "wait_interval": 0
     }
    },
    "colab_type": "code",
    "collapsed": true,
    "id": "ADxJhM0ImfJe"
   },
   "outputs": [],
   "source": [
    "CLASSES='estoma'\n",
    "numClases= contarClases(CLASSES)"
   ]
  },
  {
   "cell_type": "markdown",
   "metadata": {
    "colab_type": "text",
    "id": "6npUwwGWmfJh"
   },
   "source": [
    "Generamos el fichero:"
   ]
  },
  {
   "cell_type": "code",
   "execution_count": 11,
   "metadata": {
    "colab": {
     "autoexec": {
      "startup": false,
      "wait_interval": 0
     }
    },
    "colab_type": "code",
    "collapsed": true,
    "id": "wIcb3bNUmfJi"
   },
   "outputs": [],
   "source": [
    "generaFicheroNames(DARKNET, DATASET, CLASSES)"
   ]
  },
  {
   "cell_type": "markdown",
   "metadata": {
    "colab_type": "text",
    "id": "eDwd1k8zm61N"
   },
   "source": [
    "### 3- Data augmentation.\n",
    "\n",
    "Los pasos 2 y 3 son intercambiables, en el resto de notebooks primero se realizaba el *data augmentation* y luego la *anotación del dataset*. En cambio en este notebook se ha decidido realizar primero la *anotación del dataset* y después el *data augmentation*.\n",
    "\n",
    "En caso de que el dataset sea pequeño, será necesario aumentarlo aplicándole al conjunto inicial de imágenes una serie de filtros, rotaciones, etc. Se puede usar una librería desarrollada por la Universidad de La Rioja, llamada CLoDSA. Esta librería permite aplicar un conjunto de transformaciones y a la vez generar de manera automática las anotaciones correspondientes. De este modo, sólo tienes que anotar el conjunto de imágenes inicial, y la librería se encarga de manera automática de generar las imágenes aumentadas y sus correspondientes anotaciones, evitando la anotación manual de muchas imágenes. Se pueden realizar transformaciones como las siguientes: \n",
    "* Volteo vertical\n",
    "* Volteo horizontal \n",
    "* Volteo horizontal y vertical\n",
    "* Rotaciones de 90, 180 y 270 grados\n",
    "* El filtro de la media\n",
    "* Ruido gausiano\n",
    "\n",
    "A continuación se muestra cómo aplicar este proceso, utilizando las transformaciones anteriores. "
   ]
  },
  {
   "cell_type": "markdown",
   "metadata": {},
   "source": [
    "Cargamos las librerías necesarias.  "
   ]
  },
  {
   "cell_type": "code",
   "execution_count": 12,
   "metadata": {},
   "outputs": [
    {
     "name": "stderr",
     "output_type": "stream",
     "text": [
      "Using TensorFlow backend.\n"
     ]
    }
   ],
   "source": [
    "from matplotlib import pyplot as plt\n",
    "from clodsa.augmentors.augmentorFactory import createAugmentor\n",
    "from clodsa.augmentors.generator import Generator\n",
    "from clodsa.techniques.techniqueFactory import createTechnique\n",
    "import xml.etree.ElementTree as ET\n",
    "import cv2\n",
    "%matplotlib inline"
   ]
  },
  {
   "cell_type": "markdown",
   "metadata": {},
   "source": [
    "Definimos los parámetros necesarios"
   ]
  },
  {
   "cell_type": "code",
   "execution_count": 13,
   "metadata": {
    "collapsed": true
   },
   "outputs": [],
   "source": [
    "PROBLEM = \"detection\"\n",
    "ANNOTATION_MODE = \"yolo\"\n",
    "INPUT_PATH = \"/home/joheras/Escritorio/Research/darknet/estomas/\"\n",
    "GENERATION_MODE = \"linear\"\n",
    "OUTPUT_MODE = \"yolo\"\n",
    "OUTPUT_PATH= \"/home/joheras/Escritorio/Research/darknet/estomas/\""
   ]
  },
  {
   "cell_type": "markdown",
   "metadata": {},
   "source": [
    "Definimos el aumentador."
   ]
  },
  {
   "cell_type": "code",
   "execution_count": 14,
   "metadata": {
    "collapsed": true
   },
   "outputs": [],
   "source": [
    "augmentor = createAugmentor(PROBLEM,ANNOTATION_MODE,OUTPUT_MODE,GENERATION_MODE,INPUT_PATH,{\"outputPath\":OUTPUT_PATH})"
   ]
  },
  {
   "cell_type": "markdown",
   "metadata": {},
   "source": [
    "Añadimos las técnicas al aumentador. "
   ]
  },
  {
   "cell_type": "code",
   "execution_count": 15,
   "metadata": {
    "collapsed": true
   },
   "outputs": [],
   "source": [
    "vFlip = createTechnique(\"flip\",{\"flip\":0})\n",
    "augmentor.addGenerator(Generator(vFlip))\n",
    "hFlip = createTechnique(\"flip\",{\"flip\":1})\n",
    "augmentor.addGenerator(Generator(hFlip))\n",
    "hvFlip = createTechnique(\"flip\",{\"flip\":-1})\n",
    "augmentor.addGenerator(Generator(hvFlip))\n",
    "rotate = createTechnique(\"rotate\", {\"angle\" : 90})\n",
    "augmentor.addGenerator(Generator(rotate))\n",
    "rotate = createTechnique(\"rotate\", {\"angle\" : 180})\n",
    "augmentor.addGenerator(Generator(rotate))\n",
    "rotate = createTechnique(\"rotate\", {\"angle\" : 270})\n",
    "augmentor.addGenerator(Generator(rotate))\n",
    "avgBlur =  createTechnique(\"average_blurring\", {\"kernel\" : 5})\n",
    "augmentor.addGenerator(Generator(avgBlur))\n",
    "avgNoise =  createTechnique(\"gaussian_noise\", {\"mean\":0, \"sigma\":10})\n",
    "augmentor.addGenerator(Generator(avgNoise))"
   ]
  },
  {
   "cell_type": "markdown",
   "metadata": {},
   "source": [
    "Aplicamos el proceso de aumento."
   ]
  },
  {
   "cell_type": "code",
   "execution_count": 16,
   "metadata": {},
   "outputs": [],
   "source": [
    "augmentor.applyAugmentation()"
   ]
  },
  {
   "cell_type": "markdown",
   "metadata": {
    "colab_type": "text",
    "id": "807QHK93mfJo"
   },
   "source": [
    "### 4- Dataset split\n",
    "\n",
    "Como en cualquier modelo de aprendizaje automático, es muy importante descomponer el conjunto de datos en dos partes:\n",
    "* El conjunto de entrenamiento: conjunto de imágenes que utilizaremos para el entrenamiento del algoritmo.\n",
    "* En conjunto de evaluación: conjunto de imágenes que utilizaremos para la evaluación del  algoritmo.\n",
    "\n",
    "Lo primero que hay que hacer en este apartado es decidir el porcentaje de división, en este caso utilizaremos el 90% del conjunto para entrenar:"
   ]
  },
  {
   "cell_type": "code",
   "execution_count": 17,
   "metadata": {
    "colab": {
     "autoexec": {
      "startup": false,
      "wait_interval": 0
     }
    },
    "colab_type": "code",
    "collapsed": true,
    "id": "Psu1kqjimfJq"
   },
   "outputs": [],
   "source": [
    "PORCENTAJE_ENTRENAMIENTO = 0.9"
   ]
  },
  {
   "cell_type": "markdown",
   "metadata": {
    "colab_type": "text",
    "id": "ypUHSMHRmfJs"
   },
   "source": [
    "Realizamos la separación de los datos en dos conjuntos, el de entrenamiento y el de test. Con la siguiente instrucción se moverán las imágenes y sus anotaciones a las carpetas correspondientes y cuya estructura es muy relevante para que la red YOLO se pueda entrenar."
   ]
  },
  {
   "cell_type": "code",
   "execution_count": 18,
   "metadata": {
    "colab": {
     "autoexec": {
      "startup": false,
      "wait_interval": 0
     }
    },
    "colab_type": "code",
    "collapsed": true,
    "id": "HEtKOwrymfJs"
   },
   "outputs": [],
   "source": [
    "datasetSplit( DATASET, DARKNET, PATHIMAGES, PORCENTAJE_ENTRENAMIENTO)"
   ]
  },
  {
   "cell_type": "markdown",
   "metadata": {
    "colab_type": "text",
    "id": "su_AAlORmfJu"
   },
   "source": [
    "Una vez realizado el *dataset split* podemos crear los ficheros train.txt y test.txt, donde tendremos almacenas las rutas de las imágenes de ambos conjuntos."
   ]
  },
  {
   "cell_type": "code",
   "execution_count": 19,
   "metadata": {
    "colab": {
     "autoexec": {
      "startup": false,
      "wait_interval": 0
     }
    },
    "colab_type": "code",
    "collapsed": true,
    "id": "iRMbKjENmfJu"
   },
   "outputs": [],
   "source": [
    "generaFicheroTrain(DARKNET, DATASET)\n",
    "generaFicheroTest(DARKNET, DATASET)"
   ]
  },
  {
   "cell_type": "markdown",
   "metadata": {
    "colab_type": "text",
    "id": "vJK1tNFzmfJw"
   },
   "source": [
    "### 5- Entrenamiento\n",
    "\n",
    "El primer paso antes de empezar a entrenar será crear el archivo de configuración *.data* para que apunte a las imágenes que queremos utilizar. "
   ]
  },
  {
   "cell_type": "code",
   "execution_count": 20,
   "metadata": {
    "colab": {
     "autoexec": {
      "startup": false,
      "wait_interval": 0
     }
    },
    "colab_type": "code",
    "collapsed": true,
    "id": "71-RAyv9mfJx"
   },
   "outputs": [],
   "source": [
    "generaFicheroData(DARKNET, numClases,DATASET)"
   ]
  },
  {
   "cell_type": "markdown",
   "metadata": {
    "colab_type": "text",
    "id": "BJRdtkpqmfJy"
   },
   "source": [
    "A parte de este fichero también es necesario crear el fichero *.cfg*, indicando que vamos a realizar el entrenamiento."
   ]
  },
  {
   "cell_type": "code",
   "execution_count": 21,
   "metadata": {
    "colab": {
     "autoexec": {
      "startup": false,
      "wait_interval": 0
     }
    },
    "colab_type": "code",
    "collapsed": true,
    "id": "b4n0gdj0mfJ0"
   },
   "outputs": [],
   "source": [
    "generaFicherosYoloTrain(DARKNET, DATASET, numClases)"
   ]
  },
  {
   "cell_type": "markdown",
   "metadata": {
    "colab_type": "text",
    "id": "o4INpd5gmfJ2"
   },
   "source": [
    "Hay dos maneras de entrenar la red YOLO: o bien usando unos pesos pre-entrenados o partiendo de cero. Si quieres que parta de cero ponemos a True la variable desdeCero, en caso contrario False."
   ]
  },
  {
   "cell_type": "code",
   "execution_count": 22,
   "metadata": {
    "colab": {
     "autoexec": {
      "startup": false,
      "wait_interval": 0
     }
    },
    "colab_type": "code",
    "collapsed": true,
    "id": "BGITWZ4ImfJ3"
   },
   "outputs": [],
   "source": [
    "desdeCero = False"
   ]
  },
  {
   "cell_type": "code",
   "execution_count": 23,
   "metadata": {
    "colab": {
     "autoexec": {
      "startup": false,
      "wait_interval": 0
     }
    },
    "colab_type": "code",
    "id": "TeAcLKy6mfJ5"
   },
   "outputs": [
    {
     "name": "stdout",
     "output_type": "stream",
     "text": [
      "./darknet detector train cfg/estomas.data cfg/estomastrain.cfg darknet53.conv.74\n"
     ]
    }
   ],
   "source": [
    "generaInstruccionEntrenar(DATASET, desdeCero)"
   ]
  },
  {
   "cell_type": "markdown",
   "metadata": {
    "colab_type": "text",
    "id": "dY-QVyO8mfJ8"
   },
   "source": [
    "Ejecuta la instrucción anterior."
   ]
  },
  {
   "cell_type": "code",
   "execution_count": null,
   "metadata": {
    "colab": {
     "autoexec": {
      "startup": false,
      "wait_interval": 0
     }
    },
    "colab_type": "code",
    "id": "wz9UKpxMmfJ9"
   },
   "outputs": [],
   "source": [
    "!./darknet detector train cfg/estomas.data cfg/estomastrain.cfg darknet53.conv.74"
   ]
  },
  {
   "cell_type": "markdown",
   "metadata": {
    "colab_type": "text",
    "id": "2r7jc-ZDmfJ_"
   },
   "source": [
    "### 6- Evaluación\n",
    "\n",
    "Una vez finalizado el entrenamiento, y antes de comprobar que nos funciona en imágenes reales, vamos a evaluar el modelo construido en el conjunto de test."
   ]
  },
  {
   "cell_type": "markdown",
   "metadata": {
    "colab_type": "text",
    "id": "f8P4FAw3mfKA"
   },
   "source": [
    "Hace falta crear un fichero *.cfg*, indicando que vamos a realizar la evaluación."
   ]
  },
  {
   "cell_type": "code",
   "execution_count": 24,
   "metadata": {
    "colab": {
     "autoexec": {
      "startup": false,
      "wait_interval": 0
     }
    },
    "colab_type": "code",
    "collapsed": true,
    "id": "70XsI7BPmfKA"
   },
   "outputs": [],
   "source": [
    "generaFicherosYoloTest(DARKNET, DATASET, numClases)"
   ]
  },
  {
   "cell_type": "markdown",
   "metadata": {
    "colab_type": "text",
    "id": "S7QcAU8FmfKD"
   },
   "source": [
    "En la evaluación de un modelo se puede elegir el nivel de confianza al que se quiere evaluar, por defecto es de 0.25 (un 25%), si se quiere evaluar con otro añadir a la siguiente función un tercer parámetro indicando el nivel de confianza. Cómo el proceso de entrenamiento puede llevar mucho tiempo, ponemos a disposición del usuario, los pesos ya entrenados que pueden descargase utilizando la siguiente instrucción."
   ]
  },
  {
   "cell_type": "code",
   "execution_count": 25,
   "metadata": {},
   "outputs": [
    {
     "name": "stdout",
     "output_type": "stream",
     "text": [
      "--2018-06-19 12:38:18--  https://www.dropbox.com/s/eyaz9f4sd43udyh/yolov3_250000.weights?dl=0\n",
      "Resolviendo www.dropbox.com (www.dropbox.com)... 162.125.68.1, 2620:100:6024:1::a27d:4401\n",
      "Conectando con www.dropbox.com (www.dropbox.com)[162.125.68.1]:443... conectado.\n",
      "Petición HTTP enviada, esperando respuesta... 302 Found\n",
      "Ubicación: https://uc6bac5a0ec7457ca126fec25196.dl.dropboxusercontent.com/cd/0/get/AJT2DGJb3pEssadlR2CNUkeriBVSgLdGAgfNHA3tVfQ4R2DnkWKW5yRSToFUGzIjQKI2MffsQq3rBsDMvrXOTPUhuE5szOCkmKSFzcCROM3a4sRWZvdy6sJBOdyfljgIXElzk-l2-T68gxF77epn_X-8hu9noS_-dSi7a9zt3uc8VtlJw7tc_qxSkGIwU7sXGDg/file [siguiente]\n",
      "--2018-06-19 12:38:19--  https://uc6bac5a0ec7457ca126fec25196.dl.dropboxusercontent.com/cd/0/get/AJT2DGJb3pEssadlR2CNUkeriBVSgLdGAgfNHA3tVfQ4R2DnkWKW5yRSToFUGzIjQKI2MffsQq3rBsDMvrXOTPUhuE5szOCkmKSFzcCROM3a4sRWZvdy6sJBOdyfljgIXElzk-l2-T68gxF77epn_X-8hu9noS_-dSi7a9zt3uc8VtlJw7tc_qxSkGIwU7sXGDg/file\n",
      "Resolviendo uc6bac5a0ec7457ca126fec25196.dl.dropboxusercontent.com (uc6bac5a0ec7457ca126fec25196.dl.dropboxusercontent.com)... 162.125.68.6, 2620:100:6024:6::a27d:4406\n",
      "Conectando con uc6bac5a0ec7457ca126fec25196.dl.dropboxusercontent.com (uc6bac5a0ec7457ca126fec25196.dl.dropboxusercontent.com)[162.125.68.6]:443... conectado.\n",
      "Petición HTTP enviada, esperando respuesta... 200 OK\n",
      "Longitud: 246305388 (235M) [application/octet-stream]\n",
      "Grabando a: “backup/yolov3_250000.weights”\n",
      "\n",
      "backup/yolov3_25000 100%[===================>] 234,89M  36,2MB/s    in 7,7s    \n",
      "\n",
      "2018-06-19 12:38:27 (30,3 MB/s) - “backup/yolov3_250000.weights” guardado [246305388/246305388]\n",
      "\n"
     ]
    }
   ],
   "source": [
    "!wget https://www.dropbox.com/s/eyaz9f4sd43udyh/yolov3_250000.weights?dl=0 -O backup/yolov3_250000.weights"
   ]
  },
  {
   "cell_type": "markdown",
   "metadata": {},
   "source": [
    "La siguiente instrucción muestra todos los pesos generados en el entrenamiento."
   ]
  },
  {
   "cell_type": "code",
   "execution_count": 27,
   "metadata": {
    "colab": {
     "autoexec": {
      "startup": false,
      "wait_interval": 0
     }
    },
    "colab_type": "code",
    "id": "dS14zkO5mfKD"
   },
   "outputs": [
    {
     "name": "stdout",
     "output_type": "stream",
     "text": [
      "yolov3_250000.weights\n"
     ]
    }
   ],
   "source": [
    "listarBackup(DARKNET)"
   ]
  },
  {
   "cell_type": "markdown",
   "metadata": {
    "colab_type": "text",
    "id": "oIsI11MymfKF"
   },
   "source": [
    "Seleccionamos un fichero de pesos de la lista anterior y lo ponemos en la siguiente instrucción."
   ]
  },
  {
   "cell_type": "code",
   "execution_count": 28,
   "metadata": {
    "colab": {
     "autoexec": {
      "startup": false,
      "wait_interval": 0
     }
    },
    "colab_type": "code",
    "id": "OyfhYRwMmfKG",
    "outputId": "490525a1-028d-4188-a1f2-1741d1b15253"
   },
   "outputs": [
    {
     "name": "stdout",
     "output_type": "stream",
     "text": [
      "./darknet detector map cfg/estomas.data cfg/estomastest.cfg backup/yolov3_250000.weights -thresh 0.25\n"
     ]
    }
   ],
   "source": [
    "generaInstruccionEvaluar(DATASET, 'backup/yolov3_250000.weights')"
   ]
  },
  {
   "cell_type": "markdown",
   "metadata": {
    "colab_type": "text",
    "id": "ZdiLY58AmfKK"
   },
   "source": [
    "Ejecuta la instrucción anterior."
   ]
  },
  {
   "cell_type": "code",
   "execution_count": null,
   "metadata": {
    "colab": {
     "autoexec": {
      "startup": false,
      "wait_interval": 0
     }
    },
    "colab_type": "code",
    "collapsed": true,
    "id": "Ll5SSFsumfKL"
   },
   "outputs": [],
   "source": [
    "!./darknet detector map cfg/estomas.data cfg/estomastest.cfg backup/yolov3_250000.weights -thresh 0.25"
   ]
  },
  {
   "cell_type": "markdown",
   "metadata": {
    "colab_type": "text",
    "id": "dJDRL86PmfKN"
   },
   "source": [
    "### 7- Predicción\n",
    "Por último podemos probar el modelo con imágenes que no se encuentren en el conjunto inicial. Primero descargamos una imagen para probar nuestro modelo, y la guardamos con el nombre '307A5.jpg'. "
   ]
  },
  {
   "cell_type": "code",
   "execution_count": 29,
   "metadata": {},
   "outputs": [
    {
     "name": "stdout",
     "output_type": "stream",
     "text": [
      "--2018-06-19 12:40:23--  https://www.dropbox.com/s/ilwk6mmv67zpley/307A5.jpg?dl=0\n",
      "Resolviendo www.dropbox.com (www.dropbox.com)... 162.125.68.1, 2620:100:6024:1::a27d:4401\n",
      "Conectando con www.dropbox.com (www.dropbox.com)[162.125.68.1]:443... conectado.\n",
      "Petición HTTP enviada, esperando respuesta... 302 Found\n",
      "Ubicación: https://uc096767d1b487459375a6c96c3f.dl.dropboxusercontent.com/cd/0/get/AJTR53m6Mvf8jX3ScKHNM5Vz6xIGm7fdW35CriQANSZ5YTU0-5bXNJ_IQTvUVbFWq8XhvUmAQ2tcRnwgURMJ_vpuMLjXA_IPf1eeqIdKdUwByDlaWsglwi1hyPhYg2nXG-iEodXOQ7OAn0P0ghy4t5vQ5YIB5NryOJmHU8VwNTjye6pv8Lvldo2ty0Al6RfKCBs/file [siguiente]\n",
      "--2018-06-19 12:40:24--  https://uc096767d1b487459375a6c96c3f.dl.dropboxusercontent.com/cd/0/get/AJTR53m6Mvf8jX3ScKHNM5Vz6xIGm7fdW35CriQANSZ5YTU0-5bXNJ_IQTvUVbFWq8XhvUmAQ2tcRnwgURMJ_vpuMLjXA_IPf1eeqIdKdUwByDlaWsglwi1hyPhYg2nXG-iEodXOQ7OAn0P0ghy4t5vQ5YIB5NryOJmHU8VwNTjye6pv8Lvldo2ty0Al6RfKCBs/file\n",
      "Resolviendo uc096767d1b487459375a6c96c3f.dl.dropboxusercontent.com (uc096767d1b487459375a6c96c3f.dl.dropboxusercontent.com)... 162.125.68.6, 2620:100:6024:6::a27d:4406\n",
      "Conectando con uc096767d1b487459375a6c96c3f.dl.dropboxusercontent.com (uc096767d1b487459375a6c96c3f.dl.dropboxusercontent.com)[162.125.68.6]:443... conectado.\n",
      "Petición HTTP enviada, esperando respuesta... 200 OK\n",
      "Longitud: 711266 (695K) [image/jpeg]\n",
      "Grabando a: “307A5.jpg”\n",
      "\n",
      "307A5.jpg           100%[===================>] 694,60K  2,22MB/s    in 0,3s    \n",
      "\n",
      "2018-06-19 12:40:25 (2,22 MB/s) - “307A5.jpg” guardado [711266/711266]\n",
      "\n"
     ]
    }
   ],
   "source": [
    "!wget https://www.dropbox.com/s/ilwk6mmv67zpley/307A5.jpg?dl=0 -O 307A5.jpg"
   ]
  },
  {
   "cell_type": "markdown",
   "metadata": {},
   "source": [
    "Ejecutamos a hora la siguiente instrucción. Igual que en la evaluación para la predicción se puede modificar el nivel de confianza, por defecto sera de 0.25 pero si quieres modificarlo añade un parámetro más a la función"
   ]
  },
  {
   "cell_type": "code",
   "execution_count": 31,
   "metadata": {
    "colab": {
     "autoexec": {
      "startup": false,
      "wait_interval": 0
     }
    },
    "colab_type": "code",
    "id": "4UDImPjemfKO"
   },
   "outputs": [
    {
     "name": "stdout",
     "output_type": "stream",
     "text": [
      "./darknet detector test cfg/estomas.data cfg/estomastest.cfg backup/yolov3_250000.weights 307A5.jpg -thresh 0.25\n"
     ]
    }
   ],
   "source": [
    "generaInstruccionPredecir(DATASET, 'backup/yolov3_250000.weights', '307A5.jpg')"
   ]
  },
  {
   "cell_type": "markdown",
   "metadata": {
    "colab_type": "text",
    "id": "uTukmUjtmfKR"
   },
   "source": [
    "Ejecuta la instrucción anterior."
   ]
  },
  {
   "cell_type": "code",
   "execution_count": 32,
   "metadata": {
    "colab": {
     "autoexec": {
      "startup": false,
      "wait_interval": 0
     }
    },
    "colab_type": "code",
    "id": "S4MQgl-fmfKS"
   },
   "outputs": [
    {
     "name": "stdout",
     "output_type": "stream",
     "text": [
      "layer     filters    size              input                output\n",
      "    0 conv     32  3 x 3 / 1   416 x 416 x   3   ->   416 x 416 x  32  0.299 BFLOPs\n",
      "    1 conv     64  3 x 3 / 2   416 x 416 x  32   ->   208 x 208 x  64  1.595 BFLOPs\n",
      "    2 conv     32  1 x 1 / 1   208 x 208 x  64   ->   208 x 208 x  32  0.177 BFLOPs\n",
      "    3 conv     64  3 x 3 / 1   208 x 208 x  32   ->   208 x 208 x  64  1.595 BFLOPs\n",
      "    4 res    1                 208 x 208 x  64   ->   208 x 208 x  64\n",
      "    5 conv    128  3 x 3 / 2   208 x 208 x  64   ->   104 x 104 x 128  1.595 BFLOPs\n",
      "    6 conv     64  1 x 1 / 1   104 x 104 x 128   ->   104 x 104 x  64  0.177 BFLOPs\n",
      "    7 conv    128  3 x 3 / 1   104 x 104 x  64   ->   104 x 104 x 128  1.595 BFLOPs\n",
      "    8 res    5                 104 x 104 x 128   ->   104 x 104 x 128\n",
      "    9 conv     64  1 x 1 / 1   104 x 104 x 128   ->   104 x 104 x  64  0.177 BFLOPs\n",
      "   10 conv    128  3 x 3 / 1   104 x 104 x  64   ->   104 x 104 x 128  1.595 BFLOPs\n",
      "   11 res    8                 104 x 104 x 128   ->   104 x 104 x 128\n",
      "   12 conv    256  3 x 3 / 2   104 x 104 x 128   ->    52 x  52 x 256  1.595 BFLOPs\n",
      "   13 conv    128  1 x 1 / 1    52 x  52 x 256   ->    52 x  52 x 128  0.177 BFLOPs\n",
      "   14 conv    256  3 x 3 / 1    52 x  52 x 128   ->    52 x  52 x 256  1.595 BFLOPs\n",
      "   15 res   12                  52 x  52 x 256   ->    52 x  52 x 256\n",
      "   16 conv    128  1 x 1 / 1    52 x  52 x 256   ->    52 x  52 x 128  0.177 BFLOPs\n",
      "   17 conv    256  3 x 3 / 1    52 x  52 x 128   ->    52 x  52 x 256  1.595 BFLOPs\n",
      "   18 res   15                  52 x  52 x 256   ->    52 x  52 x 256\n",
      "   19 conv    128  1 x 1 / 1    52 x  52 x 256   ->    52 x  52 x 128  0.177 BFLOPs\n",
      "   20 conv    256  3 x 3 / 1    52 x  52 x 128   ->    52 x  52 x 256  1.595 BFLOPs\n",
      "   21 res   18                  52 x  52 x 256   ->    52 x  52 x 256\n",
      "   22 conv    128  1 x 1 / 1    52 x  52 x 256   ->    52 x  52 x 128  0.177 BFLOPs\n",
      "   23 conv    256  3 x 3 / 1    52 x  52 x 128   ->    52 x  52 x 256  1.595 BFLOPs\n",
      "   24 res   21                  52 x  52 x 256   ->    52 x  52 x 256\n",
      "   25 conv    128  1 x 1 / 1    52 x  52 x 256   ->    52 x  52 x 128  0.177 BFLOPs\n",
      "   26 conv    256  3 x 3 / 1    52 x  52 x 128   ->    52 x  52 x 256  1.595 BFLOPs\n",
      "   27 res   24                  52 x  52 x 256   ->    52 x  52 x 256\n",
      "   28 conv    128  1 x 1 / 1    52 x  52 x 256   ->    52 x  52 x 128  0.177 BFLOPs\n",
      "   29 conv    256  3 x 3 / 1    52 x  52 x 128   ->    52 x  52 x 256  1.595 BFLOPs\n",
      "   30 res   27                  52 x  52 x 256   ->    52 x  52 x 256\n",
      "   31 conv    128  1 x 1 / 1    52 x  52 x 256   ->    52 x  52 x 128  0.177 BFLOPs\n",
      "   32 conv    256  3 x 3 / 1    52 x  52 x 128   ->    52 x  52 x 256  1.595 BFLOPs\n",
      "   33 res   30                  52 x  52 x 256   ->    52 x  52 x 256\n",
      "   34 conv    128  1 x 1 / 1    52 x  52 x 256   ->    52 x  52 x 128  0.177 BFLOPs\n",
      "   35 conv    256  3 x 3 / 1    52 x  52 x 128   ->    52 x  52 x 256  1.595 BFLOPs\n",
      "   36 res   33                  52 x  52 x 256   ->    52 x  52 x 256\n",
      "   37 conv    512  3 x 3 / 2    52 x  52 x 256   ->    26 x  26 x 512  1.595 BFLOPs\n",
      "   38 conv    256  1 x 1 / 1    26 x  26 x 512   ->    26 x  26 x 256  0.177 BFLOPs\n",
      "   39 conv    512  3 x 3 / 1    26 x  26 x 256   ->    26 x  26 x 512  1.595 BFLOPs\n",
      "   40 res   37                  26 x  26 x 512   ->    26 x  26 x 512\n",
      "   41 conv    256  1 x 1 / 1    26 x  26 x 512   ->    26 x  26 x 256  0.177 BFLOPs\n",
      "   42 conv    512  3 x 3 / 1    26 x  26 x 256   ->    26 x  26 x 512  1.595 BFLOPs\n",
      "   43 res   40                  26 x  26 x 512   ->    26 x  26 x 512\n",
      "   44 conv    256  1 x 1 / 1    26 x  26 x 512   ->    26 x  26 x 256  0.177 BFLOPs\n",
      "   45 conv    512  3 x 3 / 1    26 x  26 x 256   ->    26 x  26 x 512  1.595 BFLOPs\n",
      "   46 res   43                  26 x  26 x 512   ->    26 x  26 x 512\n",
      "   47 conv    256  1 x 1 / 1    26 x  26 x 512   ->    26 x  26 x 256  0.177 BFLOPs\n",
      "   48 conv    512  3 x 3 / 1    26 x  26 x 256   ->    26 x  26 x 512  1.595 BFLOPs\n",
      "   49 res   46                  26 x  26 x 512   ->    26 x  26 x 512\n",
      "   50 conv    256  1 x 1 / 1    26 x  26 x 512   ->    26 x  26 x 256  0.177 BFLOPs\n",
      "   51 conv    512  3 x 3 / 1    26 x  26 x 256   ->    26 x  26 x 512  1.595 BFLOPs\n",
      "   52 res   49                  26 x  26 x 512   ->    26 x  26 x 512\n",
      "   53 conv    256  1 x 1 / 1    26 x  26 x 512   ->    26 x  26 x 256  0.177 BFLOPs\n",
      "   54 conv    512  3 x 3 / 1    26 x  26 x 256   ->    26 x  26 x 512  1.595 BFLOPs\n",
      "   55 res   52                  26 x  26 x 512   ->    26 x  26 x 512\n",
      "   56 conv    256  1 x 1 / 1    26 x  26 x 512   ->    26 x  26 x 256  0.177 BFLOPs\n",
      "   57 conv    512  3 x 3 / 1    26 x  26 x 256   ->    26 x  26 x 512  1.595 BFLOPs\n",
      "   58 res   55                  26 x  26 x 512   ->    26 x  26 x 512\n",
      "   59 conv    256  1 x 1 / 1    26 x  26 x 512   ->    26 x  26 x 256  0.177 BFLOPs\n",
      "   60 conv    512  3 x 3 / 1    26 x  26 x 256   ->    26 x  26 x 512  1.595 BFLOPs\n",
      "   61 res   58                  26 x  26 x 512   ->    26 x  26 x 512\n",
      "   62 conv   1024  3 x 3 / 2    26 x  26 x 512   ->    13 x  13 x1024  1.595 BFLOPs\n",
      "   63 conv    512  1 x 1 / 1    13 x  13 x1024   ->    13 x  13 x 512  0.177 BFLOPs\n",
      "   64 conv   1024  3 x 3 / 1    13 x  13 x 512   ->    13 x  13 x1024  1.595 BFLOPs\n",
      "   65 res   62                  13 x  13 x1024   ->    13 x  13 x1024\n",
      "   66 conv    512  1 x 1 / 1    13 x  13 x1024   ->    13 x  13 x 512  0.177 BFLOPs\n",
      "   67 conv   1024  3 x 3 / 1    13 x  13 x 512   ->    13 x  13 x1024  1.595 BFLOPs\n",
      "   68 res   65                  13 x  13 x1024   ->    13 x  13 x1024\n",
      "   69 conv    512  1 x 1 / 1    13 x  13 x1024   ->    13 x  13 x 512  0.177 BFLOPs\n",
      "   70 conv   1024  3 x 3 / 1    13 x  13 x 512   ->    13 x  13 x1024  1.595 BFLOPs\n",
      "   71 res   68                  13 x  13 x1024   ->    13 x  13 x1024\n",
      "   72 conv    512  1 x 1 / 1    13 x  13 x1024   ->    13 x  13 x 512  0.177 BFLOPs\n",
      "   73 conv   1024  3 x 3 / 1    13 x  13 x 512   ->    13 x  13 x1024  1.595 BFLOPs\n",
      "   74 res   71                  13 x  13 x1024   ->    13 x  13 x1024\n",
      "   75 conv    512  1 x 1 / 1    13 x  13 x1024   ->    13 x  13 x 512  0.177 BFLOPs\n",
      "   76 conv   1024  3 x 3 / 1    13 x  13 x 512   ->    13 x  13 x1024  1.595 BFLOPs\n",
      "   77 conv    512  1 x 1 / 1    13 x  13 x1024   ->    13 x  13 x 512  0.177 BFLOPs\n",
      "   78 conv   1024  3 x 3 / 1    13 x  13 x 512   ->    13 x  13 x1024  1.595 BFLOPs\n",
      "   79 conv    512  1 x 1 / 1    13 x  13 x1024   ->    13 x  13 x 512  0.177 BFLOPs\n",
      "   80 conv   1024  3 x 3 / 1    13 x  13 x 512   ->    13 x  13 x1024  1.595 BFLOPs\n",
      "   81 conv     18  1 x 1 / 1    13 x  13 x1024   ->    13 x  13 x  18  0.006 BFLOPs\n",
      "   82 yolo\n",
      "   83 route  79\n",
      "   84 conv    256  1 x 1 / 1    13 x  13 x 512   ->    13 x  13 x 256  0.044 BFLOPs\n",
      "   85 upsample            2x    13 x  13 x 256   ->    26 x  26 x 256\n",
      "   86 route  85 61\n",
      "   87 conv    256  1 x 1 / 1    26 x  26 x 768   ->    26 x  26 x 256  0.266 BFLOPs\n",
      "   88 conv    512  3 x 3 / 1    26 x  26 x 256   ->    26 x  26 x 512  1.595 BFLOPs\n",
      "   89 conv    256  1 x 1 / 1    26 x  26 x 512   ->    26 x  26 x 256  0.177 BFLOPs\n",
      "   90 conv    512  3 x 3 / 1    26 x  26 x 256   ->    26 x  26 x 512  1.595 BFLOPs\n",
      "   91 conv    256  1 x 1 / 1    26 x  26 x 512   ->    26 x  26 x 256  0.177 BFLOPs\n",
      "   92 conv    512  3 x 3 / 1    26 x  26 x 256   ->    26 x  26 x 512  1.595 BFLOPs\n",
      "   93 conv     18  1 x 1 / 1    26 x  26 x 512   ->    26 x  26 x  18  0.012 BFLOPs\n",
      "   94 yolo\n",
      "   95 route  91\n",
      "   96 conv    128  1 x 1 / 1    26 x  26 x 256   ->    26 x  26 x 128  0.044 BFLOPs\n",
      "   97 upsample            2x    26 x  26 x 128   ->    52 x  52 x 128\n",
      "   98 route  97 36\n",
      "   99 conv    128  1 x 1 / 1    52 x  52 x 384   ->    52 x  52 x 128  0.266 BFLOPs\n",
      "  100 conv    256  3 x 3 / 1    52 x  52 x 128   ->    52 x  52 x 256  1.595 BFLOPs\n",
      "  101 conv    128  1 x 1 / 1    52 x  52 x 256   ->    52 x  52 x 128  0.177 BFLOPs\n",
      "  102 conv    256  3 x 3 / 1    52 x  52 x 128   ->    52 x  52 x 256  1.595 BFLOPs\n",
      "  103 conv    128  1 x 1 / 1    52 x  52 x 256   ->    52 x  52 x 128  0.177 BFLOPs\n",
      "  104 conv    256  3 x 3 / 1    52 x  52 x 128   ->    52 x  52 x 256  1.595 BFLOPs\n",
      "  105 conv     18  1 x 1 / 1    52 x  52 x 256   ->    52 x  52 x  18  0.025 BFLOPs\n",
      "  106 yolo\n"
     ]
    },
    {
     "name": "stdout",
     "output_type": "stream",
     "text": [
      "Loading weights from backup/yolov3_250000.weights...Done!\n",
      "307A5.jpg: Predicted in 9.759866 seconds.\n",
      "estoma: 100%\n",
      "estoma: 99%\n",
      "estoma: 98%\n",
      "estoma: 98%\n",
      "estoma: 97%\n",
      "estoma: 96%\n",
      "estoma: 95%\n",
      "estoma: 94%\n",
      "estoma: 93%\n",
      "estoma: 93%\n",
      "estoma: 92%\n",
      "estoma: 92%\n",
      "estoma: 90%\n",
      "estoma: 86%\n",
      "estoma: 85%\n",
      "estoma: 85%\n",
      "estoma: 82%\n",
      "estoma: 81%\n",
      "estoma: 74%\n",
      "estoma: 69%\n",
      "estoma: 65%\n",
      "estoma: 57%\n"
     ]
    }
   ],
   "source": [
    "!./darknet detector test cfg/estomas.data cfg/estomastest.cfg backup/yolov3_250000.weights 307A5.jpg -thresh 0.25"
   ]
  },
  {
   "cell_type": "markdown",
   "metadata": {},
   "source": [
    "El resultado se puede ver en la imagen predictions.png."
   ]
  },
  {
   "cell_type": "markdown",
   "metadata": {},
   "source": [
    "<img src=\"predictions.png\">"
   ]
  },
  {
   "cell_type": "code",
   "execution_count": null,
   "metadata": {
    "collapsed": true
   },
   "outputs": [],
   "source": []
  }
 ],
 "metadata": {
  "colab": {
   "default_view": {},
   "name": "NotebookGeneral.ipynb",
   "provenance": [],
   "version": "0.3.2",
   "views": {}
  },
  "kernelspec": {
   "display_name": "Python 2",
   "language": "python",
   "name": "python2"
  },
  "language_info": {
   "codemirror_mode": {
    "name": "ipython",
    "version": 2
   },
   "file_extension": ".py",
   "mimetype": "text/x-python",
   "name": "python",
   "nbconvert_exporter": "python",
   "pygments_lexer": "ipython2",
   "version": "2.7.11+"
  }
 },
 "nbformat": 4,
 "nbformat_minor": 1
}
