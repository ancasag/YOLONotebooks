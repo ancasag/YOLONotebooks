{
  "nbformat": 4,
  "nbformat_minor": 0,
  "metadata": {
    "colab": {
      "name": "NotebookGeneral.ipynb",
      "version": "0.3.2",
      "views": {},
      "default_view": {},
      "provenance": []
    },
    "kernelspec": {
      "display_name": "Python 3",
      "language": "python",
      "name": "python3"
    }
  },
  "cells": [
    {
      "metadata": {
        "id": "QxYJRp6nhAS5",
        "colab_type": "text"
      },
      "cell_type": "markdown",
      "source": [
        "# Notebook 10: YOLO General\n",
        "\n",
        "En este caso se va a realizar un notebook general que permita crear un modelo de detección, para que cualquier usuario pueda usarlo dado un conjunto de datos cualquiera."
      ]
    },
    {
      "metadata": {
        "id": "b_ilgGRHlNwo",
        "colab_type": "text"
      },
      "cell_type": "markdown",
      "source": [
        "En primer lugar, vamos a definir unos parámetros y cargar la librería donde se encuentran las funciones que nos van a permitir realizar los pasos necesarios para configurar y entrenar la red YOLO."
      ]
    },
    {
      "metadata": {
        "id": "I33mlRNng3J1",
        "colab_type": "code",
        "colab": {
          "autoexec": {
            "startup": false,
            "wait_interval": 0
          }
        }
      },
      "cell_type": "code",
      "source": [
        "from funciones import *"
      ],
      "execution_count": 0,
      "outputs": []
    },
    {
      "metadata": {
        "id": "aaRJId2gmfJJ",
        "colab_type": "text"
      },
      "cell_type": "markdown",
      "source": [
        "En el siguiente paso indicamos cuál va a ser el nombre del proyecto:"
      ]
    },
    {
      "metadata": {
        "id": "3DdhYjyXmfJJ",
        "colab_type": "code",
        "colab": {
          "autoexec": {
            "startup": false,
            "wait_interval": 0
          }
        }
      },
      "cell_type": "code",
      "source": [
        "DATASET = \"estomas2\""
      ],
      "execution_count": 0,
      "outputs": []
    },
    {
      "metadata": {
        "id": "nUQ7QkrNmfJM",
        "colab_type": "text"
      },
      "cell_type": "markdown",
      "source": [
        "Después introducimos la ruta donde se ha descargado la librería darknet. La siguiente instrucción nos indica donde se encuentra la librería."
      ]
    },
    {
      "metadata": {
        "id": "YEdOo9iFmfJN",
        "colab_type": "code",
        "colab": {
          "autoexec": {
            "startup": false,
            "wait_interval": 0
          }
        },
        "outputId": "4edc253a-d3c6-4097-9713-bc8effd6664f"
      },
      "cell_type": "code",
      "source": [
        "!pwd"
      ],
      "execution_count": 0,
      "outputs": [
        {
          "output_type": "stream",
          "text": [
            "/home/alumno/Descargas\r\n"
          ],
          "name": "stdout"
        }
      ]
    },
    {
      "metadata": {
        "id": "HdhjIjiRmfJS",
        "colab_type": "code",
        "colab": {
          "autoexec": {
            "startup": false,
            "wait_interval": 0
          }
        }
      },
      "cell_type": "code",
      "source": [
        "DARKNET = \"/home/alumno/Descargas/darknet/\""
      ],
      "execution_count": 0,
      "outputs": []
    },
    {
      "metadata": {
        "id": "_MlaaT9umhwg",
        "colab_type": "text"
      },
      "cell_type": "markdown",
      "source": [
        "### 1- Recolección del dataset.\n",
        "\n",
        "Para entrenar YOLO nos hace falta un conjunto de imágenes que formen el dataset, la única condición que se pide aquí es que las imágenes estén en formato *.jpg*. Todas las imágenes en formato *.jpg* deben estar almacenadas dentro de una carpeta y la ruta de dicha carpeta debe introducirse en la siguiente variable."
      ]
    },
    {
      "metadata": {
        "id": "pGorhitUmfJV",
        "colab_type": "code",
        "colab": {
          "autoexec": {
            "startup": false,
            "wait_interval": 0
          }
        }
      },
      "cell_type": "code",
      "source": [
        "PATHIMAGES = \"/home/alumno/images\""
      ],
      "execution_count": 0,
      "outputs": []
    },
    {
      "metadata": {
        "id": "JjHt-DasmfJX",
        "colab_type": "text"
      },
      "cell_type": "markdown",
      "source": [
        "La siguiente instrucción permite validar que la ruta anterior es válida."
      ]
    },
    {
      "metadata": {
        "id": "oHXolCWSmfJY",
        "colab_type": "code",
        "colab": {
          "autoexec": {
            "startup": false,
            "wait_interval": 0
          }
        }
      },
      "cell_type": "code",
      "source": [
        "compruebeImages(PATHIMAGES)"
      ],
      "execution_count": 0,
      "outputs": []
    },
    {
      "metadata": {
        "id": "T4O92HyVmfJa",
        "colab_type": "text"
      },
      "cell_type": "markdown",
      "source": [
        "### 2. Anotación del dataset.\n",
        "\n",
        "Necesitamos que todas las imágenes estén anotadas en el formato YOLO, es decir YOLO necesita que cada imagen tenga un archivo .txt con una  línea por cada objeto que nos interese detectar. Para generar este tipo de archivos podemos usar programas como Yolo_mark.\n",
        "Necesitamos que todas las imágenes estén anotadas y todos los ficheros *.txt*  con las anotaciones deben estar almacenados en la misma carpeta donde se han almacenado las imágenes.\n",
        "\n",
        "La siguiente función comprueba que cada imagen tiene su fichero con la anotación."
      ]
    },
    {
      "metadata": {
        "id": "YkoZ67lbmfJb",
        "colab_type": "code",
        "colab": {
          "autoexec": {
            "startup": false,
            "wait_interval": 0
          }
        }
      },
      "cell_type": "code",
      "source": [
        "compruebeTXT(PATHIMAGES)"
      ],
      "execution_count": 0,
      "outputs": []
    },
    {
      "metadata": {
        "id": "UCSer8d7mfJe",
        "colab_type": "text"
      },
      "cell_type": "markdown",
      "source": [
        "El siguiente paso consiste en crear el fichero *.names* con las clases de objetos que se quieren detectar. Para ello necesitamos la lista de las clases que vamos a detectar, el nombre del proyecto (que dará lugar al nombre del fichero) y la ruta donde se encuentra la darknet. \n",
        "\n",
        "Ahora añadimos en la siguiente variable la lista de las clases de objetos que quieres que se detecte."
      ]
    },
    {
      "metadata": {
        "id": "ADxJhM0ImfJe",
        "colab_type": "code",
        "colab": {
          "autoexec": {
            "startup": false,
            "wait_interval": 0
          }
        }
      },
      "cell_type": "code",
      "source": [
        "CLASSES='perro,gato, pájaro'\n",
        "numClases= contarClases(CLASSES)"
      ],
      "execution_count": 0,
      "outputs": []
    },
    {
      "metadata": {
        "id": "6npUwwGWmfJh",
        "colab_type": "text"
      },
      "cell_type": "markdown",
      "source": [
        "Generamos el fichero:"
      ]
    },
    {
      "metadata": {
        "id": "wIcb3bNUmfJi",
        "colab_type": "code",
        "colab": {
          "autoexec": {
            "startup": false,
            "wait_interval": 0
          }
        }
      },
      "cell_type": "code",
      "source": [
        "generaFicheroNames(DARKNET, DATASET, CLASSES)"
      ],
      "execution_count": 0,
      "outputs": []
    },
    {
      "metadata": {
        "id": "eDwd1k8zm61N",
        "colab_type": "text"
      },
      "cell_type": "markdown",
      "source": [
        "### 3- Data augmentation.\n",
        "\n",
        "Los pasos 2 y 3 son intercambiables, en el resto de notebooks primero se realizaba el *data augmentation* y luego la *anotación del dataset*. En cambio en este notebook se ha decidido realizar primero la *anotación del dataset* y después el *data augmentation*.\n",
        "\n",
        "En caso de que el dataset sea pequeño, será necesario aumentarlo aplicándole al conjunto inicial de imágenes una serie de filtros, rotaciones, etc. Se puede usar una librería desarrollada por la Universidad de La Rioja, llamada CLoDSA. Esta librería permite aplicar un conjunto de transformaciones y a la vez generar de manera automática las anotaciones correspondientes. De este modo, sólo tienes que anotar el conjunto de imágenes inicial, y la librería se encarga de manera automática de generar las imágenes aumentadas y sus correspondientes anotaciones, evitando la anotación manual de muchas imágenes. Se pueden realizar transformaciones como las siguientes: \n",
        "* Volteo vertical\n",
        "* Volteo horizontal \n",
        "* Volteo horizontal y vertical\n",
        "* Rotaciones de 90, 180 y 270 grados\n",
        "* El filtro de la media\n",
        "* Ruido gausiano\n",
        "\n",
        "Para aplicar estas técnicas ir al notebook **CLODSA_Estomas**, donde se puede ver un ejemplo de cómo aplicarlo."
      ]
    },
    {
      "metadata": {
        "id": "807QHK93mfJo",
        "colab_type": "text"
      },
      "cell_type": "markdown",
      "source": [
        "### 4- Dataset split\n",
        "\n",
        "Como en cualquier modelo de aprendizaje automático, es muy importante descomponer el conjunto de datos en dos partes:\n",
        "* El conjunto de entrenamiento: conjunto de imágenes que utilizaremos para el entrenamiento del algoritmo.\n",
        "* En conjunto de evaluación: conjunto de imágenes que utilizaremos para la evaluación del  algoritmo.\n",
        "\n",
        "La idea de este apartado es dividir el conjunto de imágenes, en un conjunto de entrenamiento y otro conjunto de test utilizando como partición una de las de la siguiente figura (son los más habituales).\n",
        "<img src=\"imágenes/datasetSplitPorcentajes.png\" style=\"width:750px;\">\n",
        "\n",
        "Lo primero que hay que hacer en este apartado es decidir el porcentaje de división:"
      ]
    },
    {
      "metadata": {
        "id": "Psu1kqjimfJq",
        "colab_type": "code",
        "colab": {
          "autoexec": {
            "startup": false,
            "wait_interval": 0
          }
        }
      },
      "cell_type": "code",
      "source": [
        "PORCENTAJE_ENTRENAMIENTO = 0.75"
      ],
      "execution_count": 0,
      "outputs": []
    },
    {
      "metadata": {
        "id": "ypUHSMHRmfJs",
        "colab_type": "text"
      },
      "cell_type": "markdown",
      "source": [
        "Realizamos la separación de los datos en dos conjuntos, el de entrenamiento y el de test. Con la siguiente instrucción se moverán las imágenes y sus anotaciones a las carpetas correspondientes y cuya estructura es muy relevante para que la red YOLO se pueda entrenar."
      ]
    },
    {
      "metadata": {
        "id": "HEtKOwrymfJs",
        "colab_type": "code",
        "colab": {
          "autoexec": {
            "startup": false,
            "wait_interval": 0
          }
        }
      },
      "cell_type": "code",
      "source": [
        "datasetSplit( DATASET, DARKNET, PATHIMAGES, PORCENTAJE_ENTRENAMIENTO)"
      ],
      "execution_count": 0,
      "outputs": []
    },
    {
      "metadata": {
        "id": "su_AAlORmfJu",
        "colab_type": "text"
      },
      "cell_type": "markdown",
      "source": [
        "Una vez realizado el *dataset split* podemos crear los ficheros train.txt y test.txt, donde tendremos almacenas las rutas de las imágenes de ambos conjuntos."
      ]
    },
    {
      "metadata": {
        "id": "iRMbKjENmfJu",
        "colab_type": "code",
        "colab": {
          "autoexec": {
            "startup": false,
            "wait_interval": 0
          }
        }
      },
      "cell_type": "code",
      "source": [
        "generaFicheroTrain(DARKNET, DATASET)\n",
        "generaFicheroTest(DARKNET, DATASET)"
      ],
      "execution_count": 0,
      "outputs": []
    },
    {
      "metadata": {
        "id": "vJK1tNFzmfJw",
        "colab_type": "text"
      },
      "cell_type": "markdown",
      "source": [
        "### 5- Entrenamiento\n",
        "\n",
        "El primer paso antes de empezar a entrenar será crear el archivo de configuración *.data* para que apunte a las imágenes que queremos utilizar. "
      ]
    },
    {
      "metadata": {
        "id": "71-RAyv9mfJx",
        "colab_type": "code",
        "colab": {
          "autoexec": {
            "startup": false,
            "wait_interval": 0
          }
        }
      },
      "cell_type": "code",
      "source": [
        "generaFicheroData(DARKNET, numClases,DATASET)"
      ],
      "execution_count": 0,
      "outputs": []
    },
    {
      "metadata": {
        "id": "BJRdtkpqmfJy",
        "colab_type": "text"
      },
      "cell_type": "markdown",
      "source": [
        "A parte de este fichero también es necesario crear el fichero *.cfg*, indicando que vamos a realizar el entrenamiento."
      ]
    },
    {
      "metadata": {
        "id": "b4n0gdj0mfJ0",
        "colab_type": "code",
        "colab": {
          "autoexec": {
            "startup": false,
            "wait_interval": 0
          }
        }
      },
      "cell_type": "code",
      "source": [
        "generaFicherosYoloTrain(DARKNET, DATASET, numClases)"
      ],
      "execution_count": 0,
      "outputs": []
    },
    {
      "metadata": {
        "id": "o4INpd5gmfJ2",
        "colab_type": "text"
      },
      "cell_type": "markdown",
      "source": [
        "Hay dos maneras de entrenar la red YOLO: o bien usando unos pesos pre-entrenados o partiendo de cero. Si quieres que parta de cero ponemos a True la variable desdeCero, en caso contrario False."
      ]
    },
    {
      "metadata": {
        "id": "BGITWZ4ImfJ3",
        "colab_type": "code",
        "colab": {
          "autoexec": {
            "startup": false,
            "wait_interval": 0
          }
        }
      },
      "cell_type": "code",
      "source": [
        "desdeCero = True"
      ],
      "execution_count": 0,
      "outputs": []
    },
    {
      "metadata": {
        "id": "TeAcLKy6mfJ5",
        "colab_type": "code",
        "colab": {
          "autoexec": {
            "startup": false,
            "wait_interval": 0
          }
        }
      },
      "cell_type": "code",
      "source": [
        "generaInstruccionEntrenar(DATASET, desdeCero)"
      ],
      "execution_count": 0,
      "outputs": []
    },
    {
      "metadata": {
        "id": "dY-QVyO8mfJ8",
        "colab_type": "text"
      },
      "cell_type": "markdown",
      "source": [
        "Ejecuta la instrucción anterior."
      ]
    },
    {
      "metadata": {
        "id": "wz9UKpxMmfJ9",
        "colab_type": "code",
        "colab": {
          "autoexec": {
            "startup": false,
            "wait_interval": 0
          }
        }
      },
      "cell_type": "code",
      "source": [
        ""
      ],
      "execution_count": 0,
      "outputs": []
    },
    {
      "metadata": {
        "id": "2r7jc-ZDmfJ_",
        "colab_type": "text"
      },
      "cell_type": "markdown",
      "source": [
        "### 6- Evaluación\n",
        "\n",
        "Una vez finalizado el entrenamiento, y antes de comprobar que nos funciona en imágenes reales, vamos a evaluar el modelo construido en el conjunto de test."
      ]
    },
    {
      "metadata": {
        "id": "f8P4FAw3mfKA",
        "colab_type": "text"
      },
      "cell_type": "markdown",
      "source": [
        "Hace falta crear un fichero *.cfg*, indicando que vamos a realizar la evaluación."
      ]
    },
    {
      "metadata": {
        "id": "70XsI7BPmfKA",
        "colab_type": "code",
        "colab": {
          "autoexec": {
            "startup": false,
            "wait_interval": 0
          }
        }
      },
      "cell_type": "code",
      "source": [
        "generaFicherosYoloTest(DARKNET, DATASET, numClases)"
      ],
      "execution_count": 0,
      "outputs": []
    },
    {
      "metadata": {
        "id": "S7QcAU8FmfKD",
        "colab_type": "text"
      },
      "cell_type": "markdown",
      "source": [
        "En la evaluación de un modelo se puede elegir el nivel de confianza al que se quiere evaluar, por defecto es de 0.25 (un 25%), si se quiere evaluar con otro añadir a la siguiente función un tercer parámetro indicando el nivel de confianza. La siguiente instrucción muestra todos los pesos generados en el entrenamiento."
      ]
    },
    {
      "metadata": {
        "id": "dS14zkO5mfKD",
        "colab_type": "code",
        "colab": {
          "autoexec": {
            "startup": false,
            "wait_interval": 0
          }
        }
      },
      "cell_type": "code",
      "source": [
        "listarBackup(DARKNET)"
      ],
      "execution_count": 0,
      "outputs": []
    },
    {
      "metadata": {
        "id": "oIsI11MymfKF",
        "colab_type": "text"
      },
      "cell_type": "markdown",
      "source": [
        "Seleccionamos un fichero de pesos de la lista anterior y lo ponemos en la siguiente instrucción."
      ]
    },
    {
      "metadata": {
        "id": "OyfhYRwMmfKG",
        "colab_type": "code",
        "colab": {
          "autoexec": {
            "startup": false,
            "wait_interval": 0
          }
        },
        "outputId": "490525a1-028d-4188-a1f2-1741d1b15253"
      },
      "cell_type": "code",
      "source": [
        "generaInstruccionEvaluar(DATASET, pathPesos)"
      ],
      "execution_count": 0,
      "outputs": [
        {
          "output_type": "stream",
          "text": [
            "no existen esos pesos\n"
          ],
          "name": "stdout"
        }
      ]
    },
    {
      "metadata": {
        "id": "ZdiLY58AmfKK",
        "colab_type": "text"
      },
      "cell_type": "markdown",
      "source": [
        "Ejecuta la instrucción anterior."
      ]
    },
    {
      "metadata": {
        "id": "Ll5SSFsumfKL",
        "colab_type": "code",
        "colab": {
          "autoexec": {
            "startup": false,
            "wait_interval": 0
          }
        }
      },
      "cell_type": "code",
      "source": [
        ""
      ],
      "execution_count": 0,
      "outputs": []
    },
    {
      "metadata": {
        "id": "dJDRL86PmfKN",
        "colab_type": "text"
      },
      "cell_type": "markdown",
      "source": [
        "### 7- Predicción\n",
        "Por último podemos probar el modelo con imágenes que no se encuentren en el conjunto inicial. Ejecuta para ello la siguiente instrucción. Igual que en la evaluación para la predicción se puede modificar el nivel de confianza, por defecto sera de 0.25 pero si quieres modificarlo añade un parámetro más a la función"
      ]
    },
    {
      "metadata": {
        "id": "4UDImPjemfKO",
        "colab_type": "code",
        "colab": {
          "autoexec": {
            "startup": false,
            "wait_interval": 0
          }
        }
      },
      "cell_type": "code",
      "source": [
        "generaInstruccionPredecir(DATASET, pathPesos, pathFoto):"
      ],
      "execution_count": 0,
      "outputs": []
    },
    {
      "metadata": {
        "id": "uTukmUjtmfKR",
        "colab_type": "text"
      },
      "cell_type": "markdown",
      "source": [
        "Ejecuta la instrucción anterior."
      ]
    },
    {
      "metadata": {
        "id": "S4MQgl-fmfKS",
        "colab_type": "code",
        "colab": {
          "autoexec": {
            "startup": false,
            "wait_interval": 0
          }
        }
      },
      "cell_type": "code",
      "source": [
        ""
      ],
      "execution_count": 0,
      "outputs": []
    }
  ]
}