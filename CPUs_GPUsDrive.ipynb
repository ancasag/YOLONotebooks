{
  "nbformat": 4,
  "nbformat_minor": 0,
  "metadata": {
    "colab": {
      "name": "CPUs-GPUsDrive.ipynb",
      "version": "0.3.2",
      "views": {},
      "default_view": {},
      "provenance": [],
      "collapsed_sections": []
    },
    "kernelspec": {
      "display_name": "Python 3",
      "language": "python",
      "name": "python3"
    }
  },
  "cells": [
    {
      "metadata": {
        "id": "N8SPBkNYftjO",
        "colab_type": "text"
      },
      "cell_type": "markdown",
      "source": [
        "# Notebook 3: CPUs-GPUs\n",
        "\n",
        "El entrenamiento de redes es un proceso muy costoso, debido a que tiene que procesar mucha información. En este notebook vamos a realizar una comparación de los entrenamientos de varias redes en distintos entornos, unos contarán solo con su CPU, mientras que otros podrán hacer uso de gráficas y por lo tanto de su correspondiente GPU."
      ]
    },
    {
      "metadata": {
        "id": "bD4fw4WxlpTL",
        "colab_type": "text"
      },
      "cell_type": "markdown",
      "source": [
        "## Pasos previos\n",
        "Este primero notebook se realiza sobre un ordenador portátil sin gráfica, pero para ver mejor sus características empezaremos mostrando la información del entorno en el que vamos a trabajar."
      ]
    },
    {
      "metadata": {
        "id": "9OUDfkF3gY-t",
        "colab_type": "code",
        "colab": {
          "autoexec": {
            "startup": false,
            "wait_interval": 0
          },
          "base_uri": "https://localhost:8080/",
          "height": 2382
        },
        "outputId": "aa4a82f6-849f-4817-d972-a1f81473dd8e",
        "executionInfo": {
          "status": "ok",
          "timestamp": 1525441475480,
          "user_tz": -120,
          "elapsed": 10676,
          "user": {
            "displayName": "Jónathan Heras",
            "photoUrl": "https://lh3.googleusercontent.com/a/default-user=s128",
            "userId": "114823230722430926771"
          }
        }
      },
      "cell_type": "code",
      "source": [
        "!apt-get  install lshw\n",
        "!lshw"
      ],
      "execution_count": 1,
      "outputs": [
        {
          "output_type": "stream",
          "text": [
            "Reading package lists... Done\n",
            "Building dependency tree       \n",
            "Reading state information... Done\n",
            "The following additional packages will be installed:\n",
            "  libkmod2 libpci3 libusb-1.0-0 pciutils usbutils\n",
            "The following NEW packages will be installed:\n",
            "  libkmod2 libpci3 libusb-1.0-0 lshw pciutils usbutils\n",
            "0 upgraded, 6 newly installed, 0 to remove and 0 not upgraded.\n",
            "Need to get 793 kB of archives.\n",
            "After this operation, 3,054 kB of additional disk space will be used.\n",
            "Get:1 http://archive.ubuntu.com/ubuntu artful/main amd64 libkmod2 amd64 24-1ubuntu2 [40.1 kB]\n",
            "Get:2 http://archive.ubuntu.com/ubuntu artful/main amd64 libpci3 amd64 1:3.5.2-1ubuntu1 [24.1 kB]\n",
            "Get:3 http://archive.ubuntu.com/ubuntu artful/main amd64 libusb-1.0-0 amd64 2:1.0.21-2 [43.3 kB]\n",
            "Get:4 http://archive.ubuntu.com/ubuntu artful-updates/main amd64 lshw amd64 02.18-0.1ubuntu4.1 [231 kB]\n",
            "Get:5 http://archive.ubuntu.com/ubuntu artful/main amd64 pciutils amd64 1:3.5.2-1ubuntu1 [247 kB]\n",
            "Get:6 http://archive.ubuntu.com/ubuntu artful/main amd64 usbutils amd64 1:007-4build1 [208 kB]\n",
            "Fetched 793 kB in 0s (953 kB/s)\n",
            "Selecting previously unselected package libkmod2:amd64.\n",
            "(Reading database ... 18298 files and directories currently installed.)\n",
            "Preparing to unpack .../0-libkmod2_24-1ubuntu2_amd64.deb ...\n",
            "Unpacking libkmod2:amd64 (24-1ubuntu2) ...\n",
            "Selecting previously unselected package libpci3:amd64.\n",
            "Preparing to unpack .../1-libpci3_1%3a3.5.2-1ubuntu1_amd64.deb ...\n",
            "Unpacking libpci3:amd64 (1:3.5.2-1ubuntu1) ...\n",
            "Selecting previously unselected package libusb-1.0-0:amd64.\n",
            "Preparing to unpack .../2-libusb-1.0-0_2%3a1.0.21-2_amd64.deb ...\n",
            "Unpacking libusb-1.0-0:amd64 (2:1.0.21-2) ...\n",
            "Selecting previously unselected package lshw.\n",
            "Preparing to unpack .../3-lshw_02.18-0.1ubuntu4.1_amd64.deb ...\n",
            "Unpacking lshw (02.18-0.1ubuntu4.1) ...\n",
            "Selecting previously unselected package pciutils.\n",
            "Preparing to unpack .../4-pciutils_1%3a3.5.2-1ubuntu1_amd64.deb ...\n",
            "Unpacking pciutils (1:3.5.2-1ubuntu1) ...\n",
            "Selecting previously unselected package usbutils.\n",
            "Preparing to unpack .../5-usbutils_1%3a007-4build1_amd64.deb ...\n",
            "Unpacking usbutils (1:007-4build1) ...\n",
            "Setting up lshw (02.18-0.1ubuntu4.1) ...\n",
            "Setting up libkmod2:amd64 (24-1ubuntu2) ...\n",
            "Setting up libusb-1.0-0:amd64 (2:1.0.21-2) ...\n",
            "Processing triggers for libc-bin (2.26-0ubuntu2.1) ...\n",
            "Setting up libpci3:amd64 (1:3.5.2-1ubuntu1) ...\n",
            "Setting up usbutils (1:007-4build1) ...\n",
            "Setting up pciutils (1:3.5.2-1ubuntu1) ...\n",
            "Processing triggers for libc-bin (2.26-0ubuntu2.1) ...\n",
            "674b76d7c5e3\n",
            "    description: Computer\n",
            "    width: 64 bits\n",
            "    capabilities: smp vsyscall32\n",
            "  *-core\n",
            "       description: Motherboard\n",
            "       physical id: 0\n",
            "     *-memory\n",
            "          description: System memory\n",
            "          physical id: 0\n",
            "          size: 12GiB\n",
            "     *-cpu\n",
            "          product: Intel(R) Xeon(R) CPU @ 2.30GHz\n",
            "          vendor: Intel Corp.\n",
            "          physical id: 1\n",
            "          bus info: cpu@0\n",
            "          width: 64 bits\n",
            "          capabilities: fpu fpu_exception wp vme de pse tsc msr pae mce cx8 apic sep mtrr pge mca cmov pat pse36 clflush mmx fxsr sse sse2 ss ht syscall nx pdpe1gb rdtscp x86-64 constant_tsc rep_good nopl xtopology nonstop_tsc eagerfpu pni pclmulqdq ssse3 fma cx16 sse4_1 sse4_2 x2apic movbe popcnt aes xsave avx f16c rdrand hypervisor lahf_lm abm kaiser fsgsbase tsc_adjust bmi1 avx2 smep bmi2 erms xsaveopt\n",
            "     *-pci\n",
            "          description: Host bridge\n",
            "          product: 440FX - 82441FX PMC [Natoma]\n",
            "          vendor: Intel Corporation\n",
            "          physical id: 100\n",
            "          bus info: pci@0000:00:00.0\n",
            "          version: 02\n",
            "          width: 32 bits\n",
            "          clock: 33MHz\n",
            "        *-isa\n",
            "             description: ISA bridge\n",
            "             product: 82371AB/EB/MB PIIX4 ISA\n",
            "             vendor: Intel Corporation\n",
            "             physical id: 1\n",
            "             bus info: pci@0000:00:01.0\n",
            "             version: 03\n",
            "             width: 32 bits\n",
            "             clock: 33MHz\n",
            "             capabilities: isa\n",
            "             configuration: latency=0\n",
            "        *-bridge UNCLAIMED\n",
            "             description: Bridge\n",
            "             product: 82371AB/EB/MB PIIX4 ACPI\n",
            "             vendor: Intel Corporation\n",
            "             physical id: 1.3\n",
            "             bus info: pci@0000:00:01.3\n",
            "             version: 03\n",
            "             width: 32 bits\n",
            "             clock: 33MHz\n",
            "             capabilities: bridge\n",
            "             configuration: latency=0\n",
            "        *-generic\n",
            "             description: Non-VGA unclassified device\n",
            "             product: Virtio SCSI\n",
            "             vendor: Red Hat, Inc\n",
            "             physical id: 3\n",
            "             bus info: pci@0000:00:03.0\n",
            "             version: 00\n",
            "             width: 32 bits\n",
            "             clock: 33MHz\n",
            "             capabilities: msix bus_master cap_list\n",
            "             configuration: driver=virtio-pci latency=0\n",
            "             resources: irq:11 ioport:c000(size=64) memory:febfe000-febfe07f\n",
            "           *-virtio0 UNCLAIMED\n",
            "                description: Virtual I/O device\n",
            "                physical id: 0\n",
            "                bus info: virtio@0\n",
            "                configuration: driver=virtio_scsi\n",
            "        *-network\n",
            "             description: Ethernet controller\n",
            "             product: Virtio network device\n",
            "             vendor: Red Hat, Inc\n",
            "             physical id: 4\n",
            "             bus info: pci@0000:00:04.0\n",
            "             version: 00\n",
            "             width: 32 bits\n",
            "             clock: 33MHz\n",
            "             capabilities: msix bus_master cap_list\n",
            "             configuration: driver=virtio-pci latency=0\n",
            "             resources: irq:10 ioport:c040(size=64) memory:febff000-febff07f\n",
            "           *-virtio1 UNCLAIMED\n",
            "                description: Virtual I/O device\n",
            "                physical id: 0\n",
            "                bus info: virtio@1\n",
            "                configuration: driver=virtio_net\n",
            "  *-network\n",
            "       description: Ethernet interface\n",
            "       physical id: 1\n",
            "       logical name: eth0\n",
            "       serial: 02:42:ac:11:00:02\n",
            "       size: 10Gbit/s\n",
            "       capabilities: ethernet physical\n",
            "       configuration: autonegotiation=off broadcast=yes driver=veth driverversion=1.0 duplex=full ip=172.17.0.2 link=yes multicast=yes port=twisted pair speed=10Gbit/s\n"
          ],
          "name": "stdout"
        }
      ]
    },
    {
      "metadata": {
        "id": "RTgur7zrcyEw",
        "colab_type": "text"
      },
      "cell_type": "markdown",
      "source": [
        "De todas sus características la que más nos interesa para este trabajo es la información relativa a la GPU, donde podemos destacar:\n",
        "* Es un Intel(R) Core(TM) i5-4288U CPU @ 2.60GHz.\n",
        "* Tiene un procesador con un core.\n",
        "* Anchura: 64 bits."
      ]
    },
    {
      "metadata": {
        "id": "rXEVqroFgY-x",
        "colab_type": "text"
      },
      "cell_type": "markdown",
      "source": [
        "## Descarga de librerías\n",
        "\n",
        "El siguiente paso será descargar las librerías necesarias. Para ello descargamos el zip correspondiente y lo descomprimimos."
      ]
    },
    {
      "metadata": {
        "id": "nZ--yF5qgY-x",
        "colab_type": "code",
        "colab": {
          "autoexec": {
            "startup": false,
            "wait_interval": 0
          },
          "base_uri": "https://localhost:8080/",
          "height": 347
        },
        "outputId": "e17feb51-ffbb-45b7-fc46-2f11040f3673",
        "executionInfo": {
          "status": "ok",
          "timestamp": 1525441482302,
          "user_tz": -120,
          "elapsed": 3336,
          "user": {
            "displayName": "Jónathan Heras",
            "photoUrl": "https://lh3.googleusercontent.com/a/default-user=s128",
            "userId": "114823230722430926771"
          }
        }
      },
      "cell_type": "code",
      "source": [
        "!wget www.unirioja.es/cu/joheras/redes.zip\n",
        "!unzip redes.zip"
      ],
      "execution_count": 2,
      "outputs": [
        {
          "output_type": "stream",
          "text": [
            "--2018-05-04 13:44:40--  http://www.unirioja.es/cu/joheras/redes.zip\n",
            "Resolving www.unirioja.es (www.unirioja.es)... 193.144.2.30\n",
            "Connecting to www.unirioja.es (www.unirioja.es)|193.144.2.30|:80... connected.\n",
            "HTTP request sent, awaiting response... 200 OK\n",
            "Length: 5145 (5.0K) [application/zip]\n",
            "Saving to: ‘redes.zip’\n",
            "\n",
            "redes.zip           100%[===================>]   5.02K  --.-KB/s    in 0.1s    \n",
            "\n",
            "2018-05-04 13:44:40 (43.0 KB/s) - ‘redes.zip’ saved [5145/5145]\n",
            "\n",
            "Archive:  redes.zip\n",
            "   creating: redes/\n",
            "  inflating: redes/lenet.py          \n",
            "  inflating: redes/shallownet.py     \n",
            "  inflating: redes/resnet.py         \n",
            "  inflating: redes/vggnet.py         \n",
            "  inflating: redes/googlenet.py      \n",
            "  inflating: redes/__init__.py       \n"
          ],
          "name": "stdout"
        }
      ]
    },
    {
      "metadata": {
        "id": "QfDlOgOdgY-1",
        "colab_type": "text"
      },
      "cell_type": "markdown",
      "source": [
        "Importas los paquetes necesarios, en este caso con las que más vamos a trabajar son:\n",
        "* En primer lugar importamos las redes con las que vamos a trabajar que son: *LeNet*, *GoogleNet*, *VGGNet*, *ResNet*, *ShallowNet*.\n",
        "* Keras es una biblioteca de aprendizaje profundo que utiliza por debajo TensorFlow y que nos permitirá trabajar con las redes.\n",
        "* Sklearn clase de la que heredan todos los algortimos\n",
        "* Numpy es una extensión de Python, que le permite realizar operaciones con vectores y matrices.\n",
        "* Matpltolib es una biblioteca para la generación de gráficos a partir de datos."
      ]
    },
    {
      "metadata": {
        "id": "p07lSo3RgY-2",
        "colab_type": "code",
        "colab": {
          "autoexec": {
            "startup": false,
            "wait_interval": 0
          },
          "base_uri": "https://localhost:8080/",
          "height": 34
        },
        "outputId": "5cae3dbc-425d-4574-f31c-db1f88a5bd16",
        "executionInfo": {
          "status": "ok",
          "timestamp": 1525441600834,
          "user_tz": -120,
          "elapsed": 1388,
          "user": {
            "displayName": "Jónathan Heras",
            "photoUrl": "https://lh3.googleusercontent.com/a/default-user=s128",
            "userId": "114823230722430926771"
          }
        }
      },
      "cell_type": "code",
      "source": [
        "from redes import *\n",
        "from keras.optimizers import RMSprop\n",
        "from keras.optimizers import SGD\n",
        "from IPython.display import Image\n",
        "from keras.utils import plot_model\n",
        "from sklearn.preprocessing import LabelBinarizer\n",
        "from sklearn.model_selection import train_test_split\n",
        "from sklearn.metrics import classification_report\n",
        "from keras.datasets import cifar10\n",
        "from keras import backend as K\n",
        "import matplotlib.pyplot as plt\n",
        "import numpy as np\n",
        "%matplotlib inline"
      ],
      "execution_count": 1,
      "outputs": [
        {
          "output_type": "stream",
          "text": [
            "Using TensorFlow backend.\n"
          ],
          "name": "stderr"
        }
      ]
    },
    {
      "metadata": {
        "id": "uaIMWWO9gY-4",
        "colab_type": "text"
      },
      "cell_type": "markdown",
      "source": [
        "Para entrenar estas redes vamos a trabajar con un dataset ya creado, es el [Cifar-10](https://www.cs.toronto.edu/~kriz/cifar.html), que consta de 60000 imágenes dividido en 10 clases. El dataset se divide en cinco conjuntos de entrenamiento y uno de test, cada uno con 10000 imágenes."
      ]
    },
    {
      "metadata": {
        "id": "y5i4ttEagY-5",
        "colab_type": "code",
        "colab": {
          "autoexec": {
            "startup": false,
            "wait_interval": 0
          },
          "base_uri": "https://localhost:8080/",
          "height": 34
        },
        "outputId": "1b863f5b-4b4f-4c68-af20-b091dd48f611",
        "executionInfo": {
          "status": "ok",
          "timestamp": 1525441603254,
          "user_tz": -120,
          "elapsed": 1798,
          "user": {
            "displayName": "Jónathan Heras",
            "photoUrl": "https://lh3.googleusercontent.com/a/default-user=s128",
            "userId": "114823230722430926771"
          }
        }
      },
      "cell_type": "code",
      "source": [
        "print(\"[INFO] loading CIFAR-10 data...\")\n",
        "((trainX, trainY), (testX, testY)) = cifar10.load_data()\n",
        "trainX = trainX.astype(\"float\")\n",
        "testX = testX.astype(\"float\")"
      ],
      "execution_count": 2,
      "outputs": [
        {
          "output_type": "stream",
          "text": [
            "[INFO] loading CIFAR-10 data...\n"
          ],
          "name": "stdout"
        }
      ]
    },
    {
      "metadata": {
        "id": "S539EgPJgY-7",
        "colab_type": "text"
      },
      "cell_type": "markdown",
      "source": [
        "El siguiente paso consistirá en preprocesar los datos, es decir, calcularemos la media del dataset de entrenamiento y de test."
      ]
    },
    {
      "metadata": {
        "id": "-RrABkq-gY-7",
        "colab_type": "code",
        "colab": {
          "autoexec": {
            "startup": false,
            "wait_interval": 0
          }
        }
      },
      "cell_type": "code",
      "source": [
        "mean = np.mean(trainX, axis=0)\n",
        "trainX -= mean\n",
        "testX -= mean\n"
      ],
      "execution_count": 0,
      "outputs": []
    },
    {
      "metadata": {
        "id": "IwJH_a7ugY--",
        "colab_type": "text"
      },
      "cell_type": "markdown",
      "source": [
        "Aplicamos las transformaciones correspondientes al conjunto de entrenamiento convirtiendo las etiquestas para procesarlas y luego aplicamos la misma transformación al conjunto de test."
      ]
    },
    {
      "metadata": {
        "id": "wM7QXKCWgY--",
        "colab_type": "code",
        "colab": {
          "autoexec": {
            "startup": false,
            "wait_interval": 0
          }
        }
      },
      "cell_type": "code",
      "source": [
        "lb = LabelBinarizer()\n",
        "trainY = lb.fit_transform(trainY)\n",
        "testY = lb.transform(testY)"
      ],
      "execution_count": 0,
      "outputs": []
    },
    {
      "metadata": {
        "id": "EUnn-p6tgY_A",
        "colab_type": "text"
      },
      "cell_type": "markdown",
      "source": [
        "Una vez que ya tenemos todo preaparado empezamos a trabajar con los redes."
      ]
    },
    {
      "metadata": {
        "id": "jpk04rb-gY_A",
        "colab_type": "text"
      },
      "cell_type": "markdown",
      "source": [
        "# LeNet\n",
        "\n",
        "La arquitectura LeNet es sencilla y pequeña, por lo que es perfecta para enseñar los conceptos básicos de CNN. Se usa principalmente para OCR y reconocimiento de caracteres en documentos."
      ]
    },
    {
      "metadata": {
        "id": "vjIGc8XBgY_B",
        "colab_type": "text"
      },
      "cell_type": "markdown",
      "source": [
        "Definimos la red"
      ]
    },
    {
      "metadata": {
        "id": "xh_iTvzJgY_B",
        "colab_type": "code",
        "colab": {
          "autoexec": {
            "startup": false,
            "wait_interval": 0
          }
        }
      },
      "cell_type": "code",
      "source": [
        "model = LeNet.build(width=32, height=32, depth=3, classes=10)"
      ],
      "execution_count": 0,
      "outputs": []
    },
    {
      "metadata": {
        "id": "fB6oaIdOgY_E",
        "colab_type": "text"
      },
      "cell_type": "markdown",
      "source": [
        "Mostrar arquitectura de la red."
      ]
    },
    {
      "metadata": {
        "id": "JiSpNcHigY_E",
        "colab_type": "code",
        "colab": {
          "autoexec": {
            "startup": false,
            "wait_interval": 0
          },
          "base_uri": "https://localhost:8080/",
          "height": 1638
        },
        "outputId": "a02db08f-419f-4927-f28c-cee5684deab5",
        "executionInfo": {
          "status": "ok",
          "timestamp": 1525441620100,
          "user_tz": -120,
          "elapsed": 8010,
          "user": {
            "displayName": "Jónathan Heras",
            "photoUrl": "https://lh3.googleusercontent.com/a/default-user=s128",
            "userId": "114823230722430926771"
          }
        }
      },
      "cell_type": "code",
      "source": [
        "!apt-get install graphviz\n",
        "!pip install graphviz pydotplus\n",
        "!pip install --upgrade --force-reinstall pydot\n",
        "plot_model(model, to_file=\"lenet.png\", show_shapes=True)\n",
        "Image(\"lenet.png\")"
      ],
      "execution_count": 6,
      "outputs": [
        {
          "output_type": "stream",
          "text": [
            "Reading package lists... Done\n",
            "Building dependency tree       \n",
            "Reading state information... Done\n",
            "graphviz is already the newest version (2.38.0-16ubuntu2).\n",
            "0 upgraded, 0 newly installed, 0 to remove and 0 not upgraded.\n",
            "Requirement already satisfied: graphviz in /usr/local/lib/python3.6/dist-packages (0.8.3)\n",
            "Requirement already satisfied: pydotplus in /usr/local/lib/python3.6/dist-packages (2.0.2)\n",
            "Requirement already satisfied: pyparsing>=2.0.1 in /usr/local/lib/python3.6/dist-packages (from pydotplus) (2.2.0)\n",
            "Collecting pydot\n",
            "Collecting pyparsing>=2.1.4 (from pydot)\n",
            "  Using cached https://files.pythonhosted.org/packages/6a/8a/718fd7d3458f9fab8e67186b00abdd345b639976bc7fb3ae722e1b026a50/pyparsing-2.2.0-py2.py3-none-any.whl\n",
            "Installing collected packages: pyparsing, pydot\n",
            "  Found existing installation: pyparsing 2.2.0\n",
            "    Uninstalling pyparsing-2.2.0:\n",
            "      Successfully uninstalled pyparsing-2.2.0\n",
            "  Found existing installation: pydot 1.2.4\n",
            "    Uninstalling pydot-1.2.4:\n",
            "      Successfully uninstalled pydot-1.2.4\n",
            "Successfully installed pydot-1.2.4 pyparsing-2.2.0\n"
          ],
          "name": "stdout"
        },
        {
          "output_type": "execute_result",
          "data": {
            "image/png": "[encoded data removed]",
            "text/plain": [
              "<IPython.core.display.Image object>"
            ]
          },
          "metadata": {
            "tags": []
          },
          "execution_count": 6
        }
      ]
    },
    {
      "metadata": {
        "id": "oMT4SkmLgY_G",
        "colab_type": "text"
      },
      "cell_type": "markdown",
      "source": [
        "Compilar la red."
      ]
    },
    {
      "metadata": {
        "id": "KtSe2zmTgY_H",
        "colab_type": "code",
        "colab": {
          "autoexec": {
            "startup": false,
            "wait_interval": 0
          }
        }
      },
      "cell_type": "code",
      "source": [
        "opt = SGD(lr=0.01)\n",
        "model.compile(loss=\"categorical_crossentropy\", optimizer=opt,metrics=[\"accuracy\"])"
      ],
      "execution_count": 0,
      "outputs": []
    },
    {
      "metadata": {
        "id": "lmZMH_MZgY_K",
        "colab_type": "text"
      },
      "cell_type": "markdown",
      "source": [
        "Entrenamos la red. "
      ]
    },
    {
      "metadata": {
        "id": "bUi-xw5CgY_K",
        "colab_type": "code",
        "colab": {
          "autoexec": {
            "startup": false,
            "wait_interval": 0
          },
          "base_uri": "https://localhost:8080/",
          "height": 121
        },
        "outputId": "9cfa4c09-a58c-4c86-a919-14b2708b74eb",
        "executionInfo": {
          "status": "ok",
          "timestamp": 1525441976656,
          "user_tz": -120,
          "elapsed": 163210,
          "user": {
            "displayName": "Jónathan Heras",
            "photoUrl": "https://lh3.googleusercontent.com/a/default-user=s128",
            "userId": "114823230722430926771"
          }
        }
      },
      "cell_type": "code",
      "source": [
        "%%time\n",
        "print(\"[INFO] training network...\")\n",
        "H = model.fit(trainX, trainY, validation_data=(testX, testY),batch_size=128, epochs=1, verbose=1)"
      ],
      "execution_count": 13,
      "outputs": [
        {
          "output_type": "stream",
          "text": [
            "[INFO] training network...\n",
            "Train on 50000 samples, validate on 10000 samples\n",
            "Epoch 1/1\n",
            "50000/50000 [==============================] - 163s 3ms/step - loss: 14.5023 - acc: 0.0998 - val_loss: 14.5063 - val_acc: 0.1000\n",
            "CPU times: user 4min 59s, sys: 3.15 s, total: 5min 2s\n",
            "Wall time: 2min 42s\n"
          ],
          "name": "stdout"
        }
      ]
    },
    {
      "metadata": {
        "id": "l4R3OXYwgY_N",
        "colab_type": "text"
      },
      "cell_type": "markdown",
      "source": [
        "Evaluar la red en el conjunto de test, y mostrar el tiempo. "
      ]
    },
    {
      "metadata": {
        "id": "rA3jSAJsgY_O",
        "colab_type": "code",
        "colab": {
          "autoexec": {
            "startup": false,
            "wait_interval": 0
          },
          "base_uri": "https://localhost:8080/",
          "height": 384
        },
        "outputId": "470adb13-f28e-4b53-9ad4-63b68263de09",
        "executionInfo": {
          "status": "ok",
          "timestamp": 1525441989874,
          "user_tz": -120,
          "elapsed": 13162,
          "user": {
            "displayName": "Jónathan Heras",
            "photoUrl": "https://lh3.googleusercontent.com/a/default-user=s128",
            "userId": "114823230722430926771"
          }
        }
      },
      "cell_type": "code",
      "source": [
        "%%time\n",
        "print(\"[INFO] evaluating network...\")\n",
        "predictions = model.predict(testX, batch_size=128)\n",
        "print(classification_report(testY.argmax(axis=1),predictions.argmax(axis=1)))"
      ],
      "execution_count": 14,
      "outputs": [
        {
          "output_type": "stream",
          "text": [
            "[INFO] evaluating network...\n",
            "             precision    recall  f1-score   support\n",
            "\n",
            "          0       0.00      0.00      0.00      1000\n",
            "          1       0.00      0.00      0.00      1000\n",
            "          2       0.00      0.00      0.00      1000\n",
            "          3       0.00      0.00      0.00      1000\n",
            "          4       0.00      0.00      0.00      1000\n",
            "          5       0.00      0.00      0.00      1000\n",
            "          6       0.00      0.00      0.00      1000\n",
            "          7       0.00      0.00      0.00      1000\n",
            "          8       0.00      0.00      0.00      1000\n",
            "          9       0.10      1.00      0.18      1000\n",
            "\n",
            "avg / total       0.01      0.10      0.02     10000\n",
            "\n",
            "CPU times: user 24.4 s, sys: 58 ms, total: 24.5 s\n",
            "Wall time: 12.7 s\n"
          ],
          "name": "stdout"
        },
        {
          "output_type": "stream",
          "text": [
            "/usr/local/lib/python3.6/dist-packages/sklearn/metrics/classification.py:1135: UndefinedMetricWarning: Precision and F-score are ill-defined and being set to 0.0 in labels with no predicted samples.\n",
            "  'precision', 'predicted', average, warn_for)\n"
          ],
          "name": "stderr"
        }
      ]
    },
    {
      "metadata": {
        "id": "x9f_HbsAcyFZ",
        "colab_type": "text"
      },
      "cell_type": "markdown",
      "source": [
        "# GoogleNet\n",
        "Google generó la red GoogleNet con más capas (22 capas) internas y más sencillas de computar.  "
      ]
    },
    {
      "metadata": {
        "id": "Y0GufPOqcyFZ",
        "colab_type": "text"
      },
      "cell_type": "markdown",
      "source": [
        "Definimos la red"
      ]
    },
    {
      "metadata": {
        "id": "yBKe_De7cyFa",
        "colab_type": "code",
        "colab": {
          "autoexec": {
            "startup": false,
            "wait_interval": 0
          }
        }
      },
      "cell_type": "code",
      "source": [
        "model = GoogLeNet.build(width=32, height=32, depth=3, classes=10)"
      ],
      "execution_count": 0,
      "outputs": []
    },
    {
      "metadata": {
        "id": "-3HPgwM9cyFb",
        "colab_type": "text"
      },
      "cell_type": "markdown",
      "source": [
        "Compilamos la red."
      ]
    },
    {
      "metadata": {
        "id": "Yv0haDCvcyFc",
        "colab_type": "code",
        "colab": {
          "autoexec": {
            "startup": false,
            "wait_interval": 0
          }
        }
      },
      "cell_type": "code",
      "source": [
        "model.compile(loss=\"categorical_crossentropy\", optimizer=RMSprop())\n"
      ],
      "execution_count": 0,
      "outputs": []
    },
    {
      "metadata": {
        "id": "32BAzLwycyFg",
        "colab_type": "text"
      },
      "cell_type": "markdown",
      "source": [
        "Entrenamos la red."
      ]
    },
    {
      "metadata": {
        "id": "tUQSZzR3cyFh",
        "colab_type": "code",
        "colab": {
          "autoexec": {
            "startup": false,
            "wait_interval": 0
          },
          "base_uri": "https://localhost:8080/",
          "height": 104
        },
        "outputId": "ff9fd97d-09f0-4420-8019-5edf412ace9f",
        "executionInfo": {
          "status": "ok",
          "timestamp": 1525447120664,
          "user_tz": -120,
          "elapsed": 3902804,
          "user": {
            "displayName": "Jónathan Heras",
            "photoUrl": "https://lh3.googleusercontent.com/a/default-user=s128",
            "userId": "114823230722430926771"
          }
        }
      },
      "cell_type": "code",
      "source": [
        "%%time\n",
        "H = model.fit(trainX, trainY, validation_data=(testX, testY),batch_size=128, epochs=1, verbose=1)"
      ],
      "execution_count": 18,
      "outputs": [
        {
          "output_type": "stream",
          "text": [
            "Train on 50000 samples, validate on 10000 samples\n",
            "Epoch 1/1\n",
            "50000/50000 [==============================] - 3902s 78ms/step - loss: 1.2192 - val_loss: 2.4186\n",
            "CPU times: user 2h 7min 44s, sys: 38.6 s, total: 2h 8min 22s\n",
            "Wall time: 1h 5min 1s\n"
          ],
          "name": "stdout"
        }
      ]
    },
    {
      "metadata": {
        "id": "9ueHA0AucyFj",
        "colab_type": "text"
      },
      "cell_type": "markdown",
      "source": [
        "Evaluar la red en el conjunto de test, y mostramos el tiempo que le ha costado."
      ]
    },
    {
      "metadata": {
        "id": "z0FAHqYfcyFj",
        "colab_type": "code",
        "colab": {
          "autoexec": {
            "startup": false,
            "wait_interval": 0
          },
          "base_uri": "https://localhost:8080/",
          "height": 330
        },
        "outputId": "640727fb-5c85-421e-aa5e-c736d4c939a1",
        "executionInfo": {
          "status": "ok",
          "timestamp": 1525450523534,
          "user_tz": -120,
          "elapsed": 238726,
          "user": {
            "displayName": "Jónathan Heras",
            "photoUrl": "https://lh3.googleusercontent.com/a/default-user=s128",
            "userId": "114823230722430926771"
          }
        }
      },
      "cell_type": "code",
      "source": [
        "%%time\n",
        "print(\"[INFO] evaluating network...\")\n",
        "predictions = model.predict(testX, batch_size=64)\n",
        "print(classification_report(testY.argmax(axis=1),predictions.argmax(axis=1)))"
      ],
      "execution_count": 20,
      "outputs": [
        {
          "output_type": "stream",
          "text": [
            "[INFO] evaluating network...\n",
            "             precision    recall  f1-score   support\n",
            "\n",
            "          0       0.41      0.81      0.54      1000\n",
            "          1       0.43      0.89      0.58      1000\n",
            "          2       0.40      0.43      0.42      1000\n",
            "          3       0.44      0.13      0.20      1000\n",
            "          4       0.44      0.36      0.39      1000\n",
            "          5       0.52      0.04      0.07      1000\n",
            "          6       0.90      0.31      0.46      1000\n",
            "          7       0.32      0.84      0.47      1000\n",
            "          8       0.73      0.56      0.64      1000\n",
            "          9       0.67      0.00      0.00      1000\n",
            "\n",
            "avg / total       0.53      0.44      0.38     10000\n",
            "\n",
            "CPU times: user 7min 52s, sys: 1.22 s, total: 7min 53s\n",
            "Wall time: 3min 58s\n"
          ],
          "name": "stdout"
        }
      ]
    },
    {
      "metadata": {
        "id": "T_QfFKiUcyFl",
        "colab_type": "text"
      },
      "cell_type": "markdown",
      "source": [
        "# VGGNet\n",
        "Esta red se caracteriza por su simplicidad, utilizando solo capas 3 × 3 convolucionales apiladas una sobre la otra en profundidad creciente."
      ]
    },
    {
      "metadata": {
        "id": "meuOmdCscyFm",
        "colab_type": "text"
      },
      "cell_type": "markdown",
      "source": [
        "Definimos la red"
      ]
    },
    {
      "metadata": {
        "id": "D1HaFZ1YcyFn",
        "colab_type": "code",
        "colab": {
          "autoexec": {
            "startup": false,
            "wait_interval": 0
          }
        }
      },
      "cell_type": "code",
      "source": [
        "model = VGGNet.build(width=32, height=32, depth=3, classes=10)"
      ],
      "execution_count": 0,
      "outputs": []
    },
    {
      "metadata": {
        "id": "X-2d2NPZcyFp",
        "colab_type": "text"
      },
      "cell_type": "markdown",
      "source": [
        "Compilamos la red."
      ]
    },
    {
      "metadata": {
        "id": "rmBknLTacyFp",
        "colab_type": "code",
        "colab": {
          "autoexec": {
            "startup": false,
            "wait_interval": 0
          }
        }
      },
      "cell_type": "code",
      "source": [
        "opt = SGD(lr=0.01, decay=0.01 / 40, momentum=0.9, nesterov=True)\n",
        "model.compile(loss=\"categorical_crossentropy\" , optimizer=opt, metrics=[\"accuracy\" ])"
      ],
      "execution_count": 0,
      "outputs": []
    },
    {
      "metadata": {
        "id": "KPVOIDctcyFs",
        "colab_type": "text"
      },
      "cell_type": "markdown",
      "source": [
        "Entrenamos la red. "
      ]
    },
    {
      "metadata": {
        "id": "uvoPIv6ecyFt",
        "colab_type": "code",
        "colab": {
          "autoexec": {
            "startup": false,
            "wait_interval": 0
          },
          "base_uri": "https://localhost:8080/",
          "height": 141
        },
        "outputId": "f4ec08b5-f4d6-49fa-f615-a5cda9979117",
        "executionInfo": {
          "status": "ok",
          "timestamp": 1525451201176,
          "user_tz": -120,
          "elapsed": 675432,
          "user": {
            "displayName": "Jónathan Heras",
            "photoUrl": "https://lh3.googleusercontent.com/a/default-user=s128",
            "userId": "114823230722430926771"
          }
        }
      },
      "cell_type": "code",
      "source": [
        "%%time\n",
        "H = model.fit(trainX, trainY, validation_data=(testX, testY), batch_size=64, epochs=1, verbose=1)"
      ],
      "execution_count": 23,
      "outputs": [
        {
          "output_type": "stream",
          "text": [
            "WARNING:tensorflow:Variable *= will be deprecated. Use variable.assign_mul if you want assignment to the variable value or 'x = x * y' if you want a new python Tensor object.\n",
            "Train on 50000 samples, validate on 10000 samples\n",
            "Epoch 1/1\n",
            "19904/50000 [==========>...................] - ETA: 6:29 - loss: 1.9397 - acc: 0.3817"
          ],
          "name": "stdout"
        },
        {
          "output_type": "stream",
          "text": [
            "50000/50000 [==============================] - 674s 13ms/step - loss: 1.6400 - acc: 0.4543 - val_loss: 1.1399 - val_acc: 0.5988\n",
            "CPU times: user 21min 32s, sys: 11.2 s, total: 21min 43s\n",
            "Wall time: 11min 14s\n"
          ],
          "name": "stdout"
        }
      ]
    },
    {
      "metadata": {
        "id": "nleEUPErcyFv",
        "colab_type": "text"
      },
      "cell_type": "markdown",
      "source": [
        "Evaluar la red en el conjunto de test, y mostramos el tiempo que le ha costado. "
      ]
    },
    {
      "metadata": {
        "id": "Ni7txnoCcyFv",
        "colab_type": "code",
        "colab": {
          "autoexec": {
            "startup": false,
            "wait_interval": 0
          },
          "base_uri": "https://localhost:8080/",
          "height": 330
        },
        "outputId": "ff4a771f-7ad0-401a-8ef8-1da67b9a1656",
        "executionInfo": {
          "status": "ok",
          "timestamp": 1525451244382,
          "user_tz": -120,
          "elapsed": 43178,
          "user": {
            "displayName": "Jónathan Heras",
            "photoUrl": "https://lh3.googleusercontent.com/a/default-user=s128",
            "userId": "114823230722430926771"
          }
        }
      },
      "cell_type": "code",
      "source": [
        "%%time\n",
        "print(\"[INFO] evaluating network...\")\n",
        "predictions = model.predict(testX, batch_size=64)\n",
        "print(classification_report(testY.argmax(axis=1),predictions.argmax(axis=1)))"
      ],
      "execution_count": 24,
      "outputs": [
        {
          "output_type": "stream",
          "text": [
            "[INFO] evaluating network...\n",
            "             precision    recall  f1-score   support\n",
            "\n",
            "          0       0.63      0.64      0.64      1000\n",
            "          1       0.74      0.78      0.76      1000\n",
            "          2       0.59      0.32      0.41      1000\n",
            "          3       0.44      0.23      0.31      1000\n",
            "          4       0.51      0.49      0.50      1000\n",
            "          5       0.42      0.61      0.50      1000\n",
            "          6       0.62      0.77      0.69      1000\n",
            "          7       0.65      0.69      0.67      1000\n",
            "          8       0.68      0.73      0.70      1000\n",
            "          9       0.67      0.72      0.69      1000\n",
            "\n",
            "avg / total       0.60      0.60      0.59     10000\n",
            "\n",
            "CPU times: user 1min 23s, sys: 273 ms, total: 1min 23s\n",
            "Wall time: 42.6 s\n"
          ],
          "name": "stdout"
        }
      ]
    },
    {
      "metadata": {
        "id": "byO_r_BicyFy",
        "colab_type": "text"
      },
      "cell_type": "markdown",
      "source": [
        "# ResNet"
      ]
    },
    {
      "metadata": {
        "id": "sZq9OFYzcyFy",
        "colab_type": "text"
      },
      "cell_type": "markdown",
      "source": [
        "Definimos la red"
      ]
    },
    {
      "metadata": {
        "id": "U2ST_FEScyFy",
        "colab_type": "code",
        "colab": {
          "autoexec": {
            "startup": false,
            "wait_interval": 0
          }
        }
      },
      "cell_type": "code",
      "source": [
        "model = ResNet.build(width=32, height=32, depth=3, classes=10)"
      ],
      "execution_count": 0,
      "outputs": []
    },
    {
      "metadata": {
        "id": "8h-ZtwjgcyF2",
        "colab_type": "text"
      },
      "cell_type": "markdown",
      "source": [
        "Compilamos la red"
      ]
    },
    {
      "metadata": {
        "id": "UgH9E8NUcyF3",
        "colab_type": "code",
        "colab": {
          "autoexec": {
            "startup": false,
            "wait_interval": 0
          }
        }
      },
      "cell_type": "code",
      "source": [
        "opt = SGD(lr=0.005)\n",
        "model.compile(loss=\"categorical_crossentropy\", optimizer=opt,metrics=[\"accuracy\"])"
      ],
      "execution_count": 0,
      "outputs": []
    },
    {
      "metadata": {
        "id": "4l9uECZTewB6",
        "colab_type": "text"
      },
      "cell_type": "markdown",
      "source": [
        ""
      ]
    },
    {
      "metadata": {
        "id": "sqdSPKPBewL1",
        "colab_type": "code",
        "colab": {
          "autoexec": {
            "startup": false,
            "wait_interval": 0
          },
          "base_uri": "https://localhost:8080/",
          "height": 121
        },
        "outputId": "97694dd4-09af-4b87-f5f5-1fde0a293413",
        "executionInfo": {
          "status": "ok",
          "timestamp": 1525459605964,
          "user_tz": -120,
          "elapsed": 8349152,
          "user": {
            "displayName": "Jónathan Heras",
            "photoUrl": "https://lh3.googleusercontent.com/a/default-user=s128",
            "userId": "114823230722430926771"
          }
        }
      },
      "cell_type": "code",
      "source": [
        "%%time\n",
        "print(\"[INFO] training network...\")\n",
        "H = model.fit(trainX, trainY, validation_data=(testX, testY),batch_size=128, epochs=1, verbose=1)"
      ],
      "execution_count": 27,
      "outputs": [
        {
          "output_type": "stream",
          "text": [
            "[INFO] training network...\n",
            "Train on 50000 samples, validate on 10000 samples\n",
            "Epoch 1/1\n",
            "50000/50000 [==============================] - 8342s 167ms/step - loss: 2.6694 - acc: 0.1842 - val_loss: 2.5771 - val_acc: 0.2363\n",
            "CPU times: user 4h 29min 51s, sys: 1min 23s, total: 4h 31min 15s\n",
            "Wall time: 2h 19min 8s\n"
          ],
          "name": "stdout"
        }
      ]
    },
    {
      "metadata": {
        "id": "HTHrY5Fdf55M",
        "colab_type": "text"
      },
      "cell_type": "markdown",
      "source": [
        "Evaluar la red en el conjunto de test, y mostramos el tiempo que le ha costado. "
      ]
    },
    {
      "metadata": {
        "id": "DWPEFaJGf55U",
        "colab_type": "code",
        "colab": {
          "autoexec": {
            "startup": false,
            "wait_interval": 0
          },
          "base_uri": "https://localhost:8080/",
          "height": 330
        },
        "outputId": "11cbbfa2-91da-4eb0-ad16-677df3060e09",
        "executionInfo": {
          "status": "ok",
          "timestamp": 1525460186272,
          "user_tz": -120,
          "elapsed": 580264,
          "user": {
            "displayName": "Jónathan Heras",
            "photoUrl": "https://lh3.googleusercontent.com/a/default-user=s128",
            "userId": "114823230722430926771"
          }
        }
      },
      "cell_type": "code",
      "source": [
        "%%time\n",
        "print(\"[INFO] evaluating network...\")\n",
        "predictions = model.predict(testX, batch_size=64)\n",
        "print(classification_report(testY.argmax(axis=1),predictions.argmax(axis=1)))"
      ],
      "execution_count": 28,
      "outputs": [
        {
          "output_type": "stream",
          "text": [
            "[INFO] evaluating network...\n",
            "             precision    recall  f1-score   support\n",
            "\n",
            "          0       0.31      0.35      0.33      1000\n",
            "          1       0.19      0.60      0.29      1000\n",
            "          2       0.16      0.10      0.12      1000\n",
            "          3       0.13      0.01      0.02      1000\n",
            "          4       0.24      0.26      0.25      1000\n",
            "          5       0.18      0.06      0.09      1000\n",
            "          6       0.26      0.27      0.26      1000\n",
            "          7       0.20      0.16      0.18      1000\n",
            "          8       0.34      0.36      0.35      1000\n",
            "          9       0.27      0.19      0.22      1000\n",
            "\n",
            "avg / total       0.23      0.24      0.21     10000\n",
            "\n",
            "CPU times: user 19min 8s, sys: 4.09 s, total: 19min 12s\n",
            "Wall time: 9min 39s\n"
          ],
          "name": "stdout"
        }
      ]
    },
    {
      "metadata": {
        "id": "eEc1APMAcyF6",
        "colab_type": "text"
      },
      "cell_type": "markdown",
      "source": [
        "# ShallowNet"
      ]
    },
    {
      "metadata": {
        "id": "KsnoSlPYcyF7",
        "colab_type": "text"
      },
      "cell_type": "markdown",
      "source": [
        "Definimos la red"
      ]
    },
    {
      "metadata": {
        "id": "F7Mj7oPKcyF9",
        "colab_type": "code",
        "colab": {
          "autoexec": {
            "startup": false,
            "wait_interval": 0
          }
        }
      },
      "cell_type": "code",
      "source": [
        "model = ShallowNet.build(width=32, height=32, depth=3, classes=10)"
      ],
      "execution_count": 0,
      "outputs": []
    },
    {
      "metadata": {
        "id": "R4hgG3kecyGB",
        "colab_type": "text"
      },
      "cell_type": "markdown",
      "source": [
        "Compilamos la red."
      ]
    },
    {
      "metadata": {
        "id": "jq_bOzOscyGC",
        "colab_type": "code",
        "colab": {
          "autoexec": {
            "startup": false,
            "wait_interval": 0
          }
        }
      },
      "cell_type": "code",
      "source": [
        "opt = SGD(lr=0.005)\n",
        "model.compile(loss=\"categorical_crossentropy\", optimizer=opt,metrics=[\"accuracy\"])"
      ],
      "execution_count": 0,
      "outputs": []
    },
    {
      "metadata": {
        "id": "do8NnOiTcyGF",
        "colab_type": "text"
      },
      "cell_type": "markdown",
      "source": [
        "Entrenamos la red"
      ]
    },
    {
      "metadata": {
        "id": "LRtYntXGcyGF",
        "colab_type": "code",
        "colab": {
          "autoexec": {
            "startup": false,
            "wait_interval": 0
          },
          "base_uri": "https://localhost:8080/",
          "height": 121
        },
        "outputId": "8baff37c-ce0e-4736-91ae-0bc1c8701c9e",
        "executionInfo": {
          "status": "ok",
          "timestamp": 1525460242358,
          "user_tz": -120,
          "elapsed": 54744,
          "user": {
            "displayName": "Jónathan Heras",
            "photoUrl": "https://lh3.googleusercontent.com/a/default-user=s128",
            "userId": "114823230722430926771"
          }
        }
      },
      "cell_type": "code",
      "source": [
        "%%time\n",
        "print(\"[INFO] training network...\")\n",
        "H = model.fit(trainX, trainY, validation_data=(testX, testY),batch_size=128, epochs=1, verbose=1)"
      ],
      "execution_count": 31,
      "outputs": [
        {
          "output_type": "stream",
          "text": [
            "[INFO] training network...\n",
            "Train on 50000 samples, validate on 10000 samples\n",
            "Epoch 1/1\n",
            "50000/50000 [==============================] - 54s 1ms/step - loss: 13.7442 - acc: 0.1461 - val_loss: 13.8970 - val_acc: 0.1373\n",
            "CPU times: user 1min 29s, sys: 849 ms, total: 1min 30s\n",
            "Wall time: 54.3 s\n"
          ],
          "name": "stdout"
        }
      ]
    },
    {
      "metadata": {
        "id": "7HCpFAZycyGH",
        "colab_type": "text"
      },
      "cell_type": "markdown",
      "source": [
        "Evaluar la red en el conjunto de test, y mostramos el tiempo que le ha costado. "
      ]
    },
    {
      "metadata": {
        "id": "zDFq_ufYcyGI",
        "colab_type": "code",
        "colab": {
          "autoexec": {
            "startup": false,
            "wait_interval": 0
          },
          "base_uri": "https://localhost:8080/",
          "height": 384
        },
        "outputId": "e14f3369-4012-4b8e-c93c-501db547823a",
        "executionInfo": {
          "status": "ok",
          "timestamp": 1525460248306,
          "user_tz": -120,
          "elapsed": 5880,
          "user": {
            "displayName": "Jónathan Heras",
            "photoUrl": "https://lh3.googleusercontent.com/a/default-user=s128",
            "userId": "114823230722430926771"
          }
        }
      },
      "cell_type": "code",
      "source": [
        "%%time\n",
        "print(\"[INFO] evaluating network...\")\n",
        "predictions = model.predict(testX, batch_size=128)\n",
        "print(classification_report(testY.argmax(axis=1),predictions.argmax(axis=1)))"
      ],
      "execution_count": 32,
      "outputs": [
        {
          "output_type": "stream",
          "text": [
            "[INFO] evaluating network...\n",
            "             precision    recall  f1-score   support\n",
            "\n",
            "          0       0.00      0.00      0.00      1000\n",
            "          1       0.10      0.01      0.02      1000\n",
            "          2       0.00      0.00      0.00      1000\n",
            "          3       0.16      0.07      0.10      1000\n",
            "          4       0.00      0.00      0.00      1000\n",
            "          5       0.18      0.33      0.23      1000\n",
            "          6       0.00      0.00      0.00      1000\n",
            "          7       0.00      0.00      0.00      1000\n",
            "          8       0.00      0.00      0.00      1000\n",
            "          9       0.13      0.96      0.22      1000\n",
            "\n",
            "avg / total       0.06      0.14      0.06     10000\n",
            "\n",
            "CPU times: user 8.53 s, sys: 49 ms, total: 8.58 s\n",
            "Wall time: 5.38 s\n"
          ],
          "name": "stdout"
        },
        {
          "output_type": "stream",
          "text": [
            "/usr/local/lib/python3.6/dist-packages/sklearn/metrics/classification.py:1135: UndefinedMetricWarning: Precision and F-score are ill-defined and being set to 0.0 in labels with no predicted samples.\n",
            "  'precision', 'predicted', average, warn_for)\n"
          ],
          "name": "stderr"
        }
      ]
    },
    {
      "metadata": {
        "id": "rfxDXN3CxMlw",
        "colab_type": "code",
        "colab": {
          "autoexec": {
            "startup": false,
            "wait_interval": 0
          }
        }
      },
      "cell_type": "code",
      "source": [
        ""
      ],
      "execution_count": 0,
      "outputs": []
    }
  ]
}