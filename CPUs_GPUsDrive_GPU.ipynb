{
  "nbformat": 4,
  "nbformat_minor": 0,
  "metadata": {
    "colab": {
      "name": "CPUs-GPUsDrive-GPU.ipynb",
      "version": "0.3.2",
      "views": {},
      "default_view": {},
      "provenance": [],
      "collapsed_sections": []
    },
    "kernelspec": {
      "display_name": "Python 3",
      "language": "python",
      "name": "python3"
    },
    "accelerator": "GPU"
  },
  "cells": [
    {
      "metadata": {
        "id": "N8SPBkNYftjO",
        "colab_type": "text"
      },
      "cell_type": "markdown",
      "source": [
        "# Notebook 3: CPUs-GPUs\n",
        "\n",
        "El entrenamiento de redes es un proceso muy costoso, debido a que tiene que procesar mucha información. En este notebook vamos a realizar una comparación de los entrenamientos de varias redes en distintos entornos, unos contarán solo con su CPU, mientras que otros podrán hacer uso de gráficas y por lo tanto de su correspondiente GPU."
      ]
    },
    {
      "metadata": {
        "id": "bD4fw4WxlpTL",
        "colab_type": "text"
      },
      "cell_type": "markdown",
      "source": [
        "## Pasos previos\n",
        "Este primero notebook se realiza sobre un ordenador portátil sin gráfica, pero para ver mejor sus características empezaremos mostrando la información del entorno en el que vamos a trabajar."
      ]
    },
    {
      "metadata": {
        "id": "9OUDfkF3gY-t",
        "colab_type": "code",
        "colab": {
          "autoexec": {
            "startup": false,
            "wait_interval": 0
          },
          "base_uri": "https://localhost:8080/",
          "height": 2590
        },
        "outputId": "3466c206-c403-48ab-a1c3-0d6100d7cf92",
        "executionInfo": {
          "status": "ok",
          "timestamp": 1525450505672,
          "user_tz": -120,
          "elapsed": 8944,
          "user": {
            "displayName": "Jónathan Heras",
            "photoUrl": "https://lh3.googleusercontent.com/a/default-user=s128",
            "userId": "114823230722430926771"
          }
        }
      },
      "cell_type": "code",
      "source": [
        "!apt-get  install lshw\n",
        "!lshw"
      ],
      "execution_count": 1,
      "outputs": [
        {
          "output_type": "stream",
          "text": [
            "Reading package lists... Done\n",
            "Building dependency tree       \n",
            "Reading state information... Done\n",
            "The following additional packages will be installed:\n",
            "  libkmod2 libpci3 libusb-1.0-0 pciutils usbutils\n",
            "The following NEW packages will be installed:\n",
            "  libkmod2 libpci3 libusb-1.0-0 lshw pciutils usbutils\n",
            "0 upgraded, 6 newly installed, 0 to remove and 0 not upgraded.\n",
            "Need to get 793 kB of archives.\n",
            "After this operation, 3,054 kB of additional disk space will be used.\n",
            "Get:1 http://archive.ubuntu.com/ubuntu artful/main amd64 libkmod2 amd64 24-1ubuntu2 [40.1 kB]\n",
            "Get:2 http://archive.ubuntu.com/ubuntu artful/main amd64 libpci3 amd64 1:3.5.2-1ubuntu1 [24.1 kB]\n",
            "Get:3 http://archive.ubuntu.com/ubuntu artful/main amd64 libusb-1.0-0 amd64 2:1.0.21-2 [43.3 kB]\n",
            "Get:4 http://archive.ubuntu.com/ubuntu artful-updates/main amd64 lshw amd64 02.18-0.1ubuntu4.1 [231 kB]\n",
            "Get:5 http://archive.ubuntu.com/ubuntu artful/main amd64 pciutils amd64 1:3.5.2-1ubuntu1 [247 kB]\n",
            "Get:6 http://archive.ubuntu.com/ubuntu artful/main amd64 usbutils amd64 1:007-4build1 [208 kB]\n",
            "Fetched 793 kB in 1s (574 kB/s)\n",
            "Selecting previously unselected package libkmod2:amd64.\n",
            "(Reading database ... 18298 files and directories currently installed.)\n",
            "Preparing to unpack .../0-libkmod2_24-1ubuntu2_amd64.deb ...\n",
            "Unpacking libkmod2:amd64 (24-1ubuntu2) ...\n",
            "Selecting previously unselected package libpci3:amd64.\n",
            "Preparing to unpack .../1-libpci3_1%3a3.5.2-1ubuntu1_amd64.deb ...\n",
            "Unpacking libpci3:amd64 (1:3.5.2-1ubuntu1) ...\n",
            "Selecting previously unselected package libusb-1.0-0:amd64.\n",
            "Preparing to unpack .../2-libusb-1.0-0_2%3a1.0.21-2_amd64.deb ...\n",
            "Unpacking libusb-1.0-0:amd64 (2:1.0.21-2) ...\n",
            "Selecting previously unselected package lshw.\n",
            "Preparing to unpack .../3-lshw_02.18-0.1ubuntu4.1_amd64.deb ...\n",
            "Unpacking lshw (02.18-0.1ubuntu4.1) ...\n",
            "Selecting previously unselected package pciutils.\n",
            "Preparing to unpack .../4-pciutils_1%3a3.5.2-1ubuntu1_amd64.deb ...\n",
            "Unpacking pciutils (1:3.5.2-1ubuntu1) ...\n",
            "Selecting previously unselected package usbutils.\n",
            "Preparing to unpack .../5-usbutils_1%3a007-4build1_amd64.deb ...\n",
            "Unpacking usbutils (1:007-4build1) ...\n",
            "Setting up lshw (02.18-0.1ubuntu4.1) ...\n",
            "Setting up libkmod2:amd64 (24-1ubuntu2) ...\n",
            "Setting up libusb-1.0-0:amd64 (2:1.0.21-2) ...\n",
            "Processing triggers for libc-bin (2.26-0ubuntu2.1) ...\n",
            "Setting up libpci3:amd64 (1:3.5.2-1ubuntu1) ...\n",
            "Setting up usbutils (1:007-4build1) ...\n",
            "Setting up pciutils (1:3.5.2-1ubuntu1) ...\n",
            "Processing triggers for libc-bin (2.26-0ubuntu2.1) ...\n",
            "53dceacd4d7c\n",
            "    description: Computer\n",
            "    width: 64 bits\n",
            "    capabilities: smp vsyscall32\n",
            "  *-core\n",
            "       description: Motherboard\n",
            "       physical id: 0\n",
            "     *-memory\n",
            "          description: System memory\n",
            "          physical id: 0\n",
            "          size: 12GiB\n",
            "     *-cpu\n",
            "          product: Intel(R) Xeon(R) CPU @ 2.20GHz\n",
            "          vendor: Intel Corp.\n",
            "          physical id: 1\n",
            "          bus info: cpu@0\n",
            "          width: 64 bits\n",
            "          capabilities: fpu fpu_exception wp vme de pse tsc msr pae mce cx8 apic sep mtrr pge mca cmov pat pse36 clflush mmx fxsr sse sse2 ss ht syscall nx pdpe1gb rdtscp x86-64 constant_tsc rep_good nopl xtopology nonstop_tsc eagerfpu pni pclmulqdq ssse3 fma cx16 sse4_1 sse4_2 x2apic movbe popcnt aes xsave avx f16c rdrand hypervisor lahf_lm abm 3dnowprefetch kaiser fsgsbase tsc_adjust bmi1 hle avx2 smep bmi2 erms rtm rdseed adx smap xsaveopt\n",
            "     *-pci\n",
            "          description: Host bridge\n",
            "          product: 440FX - 82441FX PMC [Natoma]\n",
            "          vendor: Intel Corporation\n",
            "          physical id: 100\n",
            "          bus info: pci@0000:00:00.0\n",
            "          version: 02\n",
            "          width: 32 bits\n",
            "          clock: 33MHz\n",
            "        *-isa\n",
            "             description: ISA bridge\n",
            "             product: 82371AB/EB/MB PIIX4 ISA\n",
            "             vendor: Intel Corporation\n",
            "             physical id: 1\n",
            "             bus info: pci@0000:00:01.0\n",
            "             version: 03\n",
            "             width: 32 bits\n",
            "             clock: 33MHz\n",
            "             capabilities: isa\n",
            "             configuration: latency=0\n",
            "        *-bridge UNCLAIMED\n",
            "             description: Bridge\n",
            "             product: 82371AB/EB/MB PIIX4 ACPI\n",
            "             vendor: Intel Corporation\n",
            "             physical id: 1.3\n",
            "             bus info: pci@0000:00:01.3\n",
            "             version: 03\n",
            "             width: 32 bits\n",
            "             clock: 33MHz\n",
            "             capabilities: bridge\n",
            "             configuration: latency=0\n",
            "        *-generic\n",
            "             description: Non-VGA unclassified device\n",
            "             product: Virtio SCSI\n",
            "             vendor: Red Hat, Inc\n",
            "             physical id: 3\n",
            "             bus info: pci@0000:00:03.0\n",
            "             version: 00\n",
            "             width: 32 bits\n",
            "             clock: 33MHz\n",
            "             capabilities: msix bus_master cap_list\n",
            "             configuration: driver=virtio-pci latency=0\n",
            "             resources: irq:11 ioport:c080(size=64) memory:fd000000-fd00007f\n",
            "           *-virtio0 UNCLAIMED\n",
            "                description: Virtual I/O device\n",
            "                physical id: 0\n",
            "                bus info: virtio@0\n",
            "                configuration: driver=virtio_scsi\n",
            "        *-display\n",
            "             description: 3D controller\n",
            "             product: GK210GL [Tesla K80]\n",
            "             vendor: NVIDIA Corporation\n",
            "             physical id: 4\n",
            "             bus info: pci@0000:00:04.0\n",
            "             version: a1\n",
            "             width: 64 bits\n",
            "             clock: 33MHz\n",
            "             capabilities: msi pm bus_master cap_list\n",
            "             configuration: driver=nvidia latency=0\n",
            "             resources: iomemory:40-3f iomemory:80-7f irq:33 memory:fc000000-fcffffff memory:400000000-7ffffffff memory:800000000-801ffffff ioport:c000(size=128)\n",
            "        *-network\n",
            "             description: Ethernet controller\n",
            "             product: Virtio network device\n",
            "             vendor: Red Hat, Inc\n",
            "             physical id: 5\n",
            "             bus info: pci@0000:00:05.0\n",
            "             version: 00\n",
            "             width: 32 bits\n",
            "             clock: 33MHz\n",
            "             capabilities: msix bus_master cap_list\n",
            "             configuration: driver=virtio-pci latency=0\n",
            "             resources: irq:10 ioport:c0c0(size=64) memory:fd001000-fd00107f\n",
            "           *-virtio1 UNCLAIMED\n",
            "                description: Virtual I/O device\n",
            "                physical id: 0\n",
            "                bus info: virtio@1\n",
            "                configuration: driver=virtio_net\n",
            "  *-network\n",
            "       description: Ethernet interface\n",
            "       physical id: 1\n",
            "       logical name: eth0\n",
            "       serial: 02:42:ac:11:00:02\n",
            "       size: 10Gbit/s\n",
            "       capabilities: ethernet physical\n",
            "       configuration: autonegotiation=off broadcast=yes driver=veth driverversion=1.0 duplex=full ip=172.17.0.2 link=yes multicast=yes port=twisted pair speed=10Gbit/s\n"
          ],
          "name": "stdout"
        }
      ]
    },
    {
      "metadata": {
        "id": "RTgur7zrcyEw",
        "colab_type": "text"
      },
      "cell_type": "markdown",
      "source": [
        "De todas sus características la que más nos interesa para este trabajo es la información relativa a la GPU, donde podemos destacar:\n",
        "* Es un Intel(R) Core(TM) i5-4288U CPU @ 2.60GHz.\n",
        "* Tiene un procesador con un core.\n",
        "* Anchura: 64 bits."
      ]
    },
    {
      "metadata": {
        "id": "rXEVqroFgY-x",
        "colab_type": "text"
      },
      "cell_type": "markdown",
      "source": [
        "## Descarga de librerías\n",
        "\n",
        "El siguiente paso será descargar las librerías necesarias. Para ello descargamos el zip correspondiente y lo descomprimimos."
      ]
    },
    {
      "metadata": {
        "id": "nZ--yF5qgY-x",
        "colab_type": "code",
        "colab": {
          "autoexec": {
            "startup": false,
            "wait_interval": 0
          },
          "base_uri": "https://localhost:8080/",
          "height": 347
        },
        "outputId": "6f1245fe-d5e8-4e1f-ca81-aca6498bd181",
        "executionInfo": {
          "status": "ok",
          "timestamp": 1525450508994,
          "user_tz": -120,
          "elapsed": 3236,
          "user": {
            "displayName": "Jónathan Heras",
            "photoUrl": "https://lh3.googleusercontent.com/a/default-user=s128",
            "userId": "114823230722430926771"
          }
        }
      },
      "cell_type": "code",
      "source": [
        "!wget www.unirioja.es/cu/joheras/redes.zip\n",
        "!unzip redes.zip"
      ],
      "execution_count": 2,
      "outputs": [
        {
          "output_type": "stream",
          "text": [
            "--2018-05-04 16:15:06--  http://www.unirioja.es/cu/joheras/redes.zip\n",
            "Resolving www.unirioja.es (www.unirioja.es)... 193.144.2.30\n",
            "Connecting to www.unirioja.es (www.unirioja.es)|193.144.2.30|:80... connected.\n",
            "HTTP request sent, awaiting response... 200 OK\n",
            "Length: 5145 (5.0K) [application/zip]\n",
            "Saving to: ‘redes.zip’\n",
            "\n",
            "redes.zip           100%[===================>]   5.02K  31.0KB/s    in 0.2s    \n",
            "\n",
            "2018-05-04 16:15:07 (31.0 KB/s) - ‘redes.zip’ saved [5145/5145]\n",
            "\n",
            "Archive:  redes.zip\n",
            "   creating: redes/\n",
            "  inflating: redes/lenet.py          \n",
            "  inflating: redes/shallownet.py     \n",
            "  inflating: redes/resnet.py         \n",
            "  inflating: redes/vggnet.py         \n",
            "  inflating: redes/googlenet.py      \n",
            "  inflating: redes/__init__.py       \n"
          ],
          "name": "stdout"
        }
      ]
    },
    {
      "metadata": {
        "id": "QfDlOgOdgY-1",
        "colab_type": "text"
      },
      "cell_type": "markdown",
      "source": [
        "Importas los paquetes necesarios, en este caso con las que más vamos a trabajar son:\n",
        "* En primer lugar importamos las redes con las que vamos a trabajar que son: *LeNet*, *GoogleNet*, *VGGNet*, *ResNet*, *ShallowNet*.\n",
        "* Keras es una biblioteca de aprendizaje profundo que utiliza por debajo TensorFlow y que nos permitirá trabajar con las redes.\n",
        "* Sklearn clase de la que heredan todos los algortimos\n",
        "* Numpy es una extensión de Python, que le permite realizar operaciones con vectores y matrices.\n",
        "* Matpltolib es una biblioteca para la generación de gráficos a partir de datos."
      ]
    },
    {
      "metadata": {
        "id": "p07lSo3RgY-2",
        "colab_type": "code",
        "colab": {
          "autoexec": {
            "startup": false,
            "wait_interval": 0
          },
          "base_uri": "https://localhost:8080/",
          "height": 34
        },
        "outputId": "c0db0813-cccb-448b-c2cd-abeb81bf12e4",
        "executionInfo": {
          "status": "ok",
          "timestamp": 1525450516636,
          "user_tz": -120,
          "elapsed": 7598,
          "user": {
            "displayName": "Jónathan Heras",
            "photoUrl": "https://lh3.googleusercontent.com/a/default-user=s128",
            "userId": "114823230722430926771"
          }
        }
      },
      "cell_type": "code",
      "source": [
        "from redes import *\n",
        "from keras.optimizers import RMSprop\n",
        "from keras.optimizers import SGD\n",
        "from IPython.display import Image\n",
        "from keras.utils import plot_model\n",
        "from sklearn.preprocessing import LabelBinarizer\n",
        "from sklearn.model_selection import train_test_split\n",
        "from sklearn.metrics import classification_report\n",
        "from keras.datasets import cifar10\n",
        "from keras import backend as K\n",
        "import matplotlib.pyplot as plt\n",
        "import numpy as np\n",
        "%matplotlib inline"
      ],
      "execution_count": 3,
      "outputs": [
        {
          "output_type": "stream",
          "text": [
            "Using TensorFlow backend.\n"
          ],
          "name": "stderr"
        }
      ]
    },
    {
      "metadata": {
        "id": "uaIMWWO9gY-4",
        "colab_type": "text"
      },
      "cell_type": "markdown",
      "source": [
        "Para entrenar estas redes vamos a trabajar con un dataset ya creado, es el [Cifar-10](https://www.cs.toronto.edu/~kriz/cifar.html), que consta de 60000 imágenes dividido en 10 clases. El dataset se divide en cinco conjuntos de entrenamiento y uno de test, cada uno con 10000 imágenes."
      ]
    },
    {
      "metadata": {
        "id": "y5i4ttEagY-5",
        "colab_type": "code",
        "colab": {
          "autoexec": {
            "startup": false,
            "wait_interval": 0
          },
          "base_uri": "https://localhost:8080/",
          "height": 69
        },
        "outputId": "b8ec6ed4-cf18-463b-e2a2-2f2f752d85d2",
        "executionInfo": {
          "status": "ok",
          "timestamp": 1525450560630,
          "user_tz": -120,
          "elapsed": 43952,
          "user": {
            "displayName": "Jónathan Heras",
            "photoUrl": "https://lh3.googleusercontent.com/a/default-user=s128",
            "userId": "114823230722430926771"
          }
        }
      },
      "cell_type": "code",
      "source": [
        "print(\"[INFO] loading CIFAR-10 data...\")\n",
        "((trainX, trainY), (testX, testY)) = cifar10.load_data()\n",
        "trainX = trainX.astype(\"float\")\n",
        "testX = testX.astype(\"float\")"
      ],
      "execution_count": 4,
      "outputs": [
        {
          "output_type": "stream",
          "text": [
            "[INFO] loading CIFAR-10 data...\n",
            "Downloading data from https://www.cs.toronto.edu/~kriz/cifar-10-python.tar.gz\n",
            "143138816/170498071 [========================>.....] - ETA: 6s"
          ],
          "name": "stdout"
        },
        {
          "output_type": "stream",
          "text": [
            "170500096/170498071 [==============================] - 40s 0us/step\n"
          ],
          "name": "stdout"
        }
      ]
    },
    {
      "metadata": {
        "id": "S539EgPJgY-7",
        "colab_type": "text"
      },
      "cell_type": "markdown",
      "source": [
        "El siguiente paso consistirá en preprocesar los datos, es decir, calcularemos la media del dataset de entrenamiento y de test."
      ]
    },
    {
      "metadata": {
        "id": "-RrABkq-gY-7",
        "colab_type": "code",
        "colab": {
          "autoexec": {
            "startup": false,
            "wait_interval": 0
          }
        }
      },
      "cell_type": "code",
      "source": [
        "mean = np.mean(trainX, axis=0)\n",
        "trainX -= mean\n",
        "testX -= mean\n"
      ],
      "execution_count": 0,
      "outputs": []
    },
    {
      "metadata": {
        "id": "IwJH_a7ugY--",
        "colab_type": "text"
      },
      "cell_type": "markdown",
      "source": [
        "Aplicamos las transformaciones correspondientes al conjunto de entrenamiento convirtiendo las etiquestas para procesarlas y luego aplicamos la misma transformación al conjunto de test."
      ]
    },
    {
      "metadata": {
        "id": "wM7QXKCWgY--",
        "colab_type": "code",
        "colab": {
          "autoexec": {
            "startup": false,
            "wait_interval": 0
          }
        }
      },
      "cell_type": "code",
      "source": [
        "lb = LabelBinarizer()\n",
        "trainY = lb.fit_transform(trainY)\n",
        "testY = lb.transform(testY)"
      ],
      "execution_count": 0,
      "outputs": []
    },
    {
      "metadata": {
        "id": "EUnn-p6tgY_A",
        "colab_type": "text"
      },
      "cell_type": "markdown",
      "source": [
        "Una vez que ya tenemos todo preaparado empezamos a trabajar con los redes."
      ]
    },
    {
      "metadata": {
        "id": "jpk04rb-gY_A",
        "colab_type": "text"
      },
      "cell_type": "markdown",
      "source": [
        "# LeNet\n",
        "\n",
        "La arquitectura LeNet es sencilla y pequeña, por lo que es perfecta para enseñar los conceptos básicos de CNN. Se usa principalmente para OCR y reconocimiento de caracteres en documentos."
      ]
    },
    {
      "metadata": {
        "id": "vjIGc8XBgY_B",
        "colab_type": "text"
      },
      "cell_type": "markdown",
      "source": [
        "Definimos la red"
      ]
    },
    {
      "metadata": {
        "id": "xh_iTvzJgY_B",
        "colab_type": "code",
        "colab": {
          "autoexec": {
            "startup": false,
            "wait_interval": 0
          }
        }
      },
      "cell_type": "code",
      "source": [
        "model = LeNet.build(width=32, height=32, depth=3, classes=10)"
      ],
      "execution_count": 0,
      "outputs": []
    },
    {
      "metadata": {
        "id": "fB6oaIdOgY_E",
        "colab_type": "text"
      },
      "cell_type": "markdown",
      "source": [
        "Mostrar arquitectura de la red."
      ]
    },
    {
      "metadata": {
        "id": "JiSpNcHigY_E",
        "colab_type": "code",
        "colab": {
          "autoexec": {
            "startup": false,
            "wait_interval": 0
          },
          "base_uri": "https://localhost:8080/",
          "height": 4056
        },
        "outputId": "12afdaee-1100-4bea-ce8c-a90a5ec455f9",
        "executionInfo": {
          "status": "error",
          "timestamp": 1525450582232,
          "user_tz": -120,
          "elapsed": 19340,
          "user": {
            "displayName": "Jónathan Heras",
            "photoUrl": "https://lh3.googleusercontent.com/a/default-user=s128",
            "userId": "114823230722430926771"
          }
        }
      },
      "cell_type": "code",
      "source": [
        "!apt-get install graphviz\n",
        "!pip install graphviz pydotplus\n",
        "!pip install --upgrade --force-reinstall pydot\n",
        "plot_model(model, to_file=\"lenet.png\", show_shapes=True)\n",
        "Image(\"lenet.png\")"
      ],
      "execution_count": 8,
      "outputs": [
        {
          "output_type": "stream",
          "text": [
            "Reading package lists... Done\n",
            "Building dependency tree       \n",
            "Reading state information... Done\n",
            "The following additional packages will be installed:\n",
            "  fontconfig libcairo2 libcdt5 libcgraph6 libdatrie1 libgd3 libgraphite2-3\n",
            "  libgvc6 libgvpr2 libharfbuzz0b libjbig0 libltdl7 libpango-1.0-0\n",
            "  libpangocairo-1.0-0 libpangoft2-1.0-0 libpathplan4 libpixman-1-0\n",
            "  libthai-data libthai0 libtiff5 libwebp6 libxaw7 libxcb-render0 libxcb-shm0\n",
            "  libxmu6 libxpm4 libxt6\n",
            "Suggested packages:\n",
            "  gsfonts graphviz-doc libgd-tools\n",
            "The following NEW packages will be installed:\n",
            "  fontconfig graphviz libcairo2 libcdt5 libcgraph6 libdatrie1 libgd3\n",
            "  libgraphite2-3 libgvc6 libgvpr2 libharfbuzz0b libjbig0 libltdl7\n",
            "  libpango-1.0-0 libpangocairo-1.0-0 libpangoft2-1.0-0 libpathplan4\n",
            "  libpixman-1-0 libthai-data libthai0 libtiff5 libwebp6 libxaw7 libxcb-render0\n",
            "  libxcb-shm0 libxmu6 libxpm4 libxt6\n",
            "0 upgraded, 28 newly installed, 0 to remove and 0 not upgraded.\n",
            "Need to get 4,122 kB of archives.\n",
            "After this operation, 20.6 MB of additional disk space will be used.\n",
            "Get:1 http://archive.ubuntu.com/ubuntu artful/main amd64 fontconfig amd64 2.11.94-0ubuntu2 [177 kB]\n",
            "Get:2 http://archive.ubuntu.com/ubuntu artful/main amd64 libjbig0 amd64 2.1-3.1 [26.6 kB]\n",
            "Get:3 http://archive.ubuntu.com/ubuntu artful/main amd64 libcdt5 amd64 2.38.0-16ubuntu2 [19.5 kB]\n",
            "Get:4 http://archive.ubuntu.com/ubuntu artful/main amd64 libcgraph6 amd64 2.38.0-16ubuntu2 [40.0 kB]\n",
            "Get:5 http://archive.ubuntu.com/ubuntu artful-updates/main amd64 libtiff5 amd64 4.0.8-5ubuntu0.1 [150 kB]\n",
            "Get:6 http://archive.ubuntu.com/ubuntu artful/main amd64 libwebp6 amd64 0.6.0-3 [181 kB]\n",
            "Get:7 http://archive.ubuntu.com/ubuntu artful/main amd64 libxpm4 amd64 1:3.5.12-1 [34.0 kB]\n",
            "Get:8 http://archive.ubuntu.com/ubuntu artful/main amd64 libgd3 amd64 2.2.5-3 [119 kB]\n",
            "Get:9 http://archive.ubuntu.com/ubuntu artful/main amd64 libpixman-1-0 amd64 0.34.0-1 [230 kB]\n",
            "Get:10 http://archive.ubuntu.com/ubuntu artful/main amd64 libxcb-render0 amd64 1.12-1ubuntu1 [14.8 kB]\n",
            "Get:11 http://archive.ubuntu.com/ubuntu artful/main amd64 libxcb-shm0 amd64 1.12-1ubuntu1 [5,482 B]\n",
            "Get:12 http://archive.ubuntu.com/ubuntu artful/main amd64 libcairo2 amd64 1.14.10-1ubuntu1 [558 kB]\n",
            "Get:13 http://archive.ubuntu.com/ubuntu artful/main amd64 libltdl7 amd64 2.4.6-2 [38.8 kB]\n",
            "Get:14 http://archive.ubuntu.com/ubuntu artful/main amd64 libthai-data all 0.1.26-3 [132 kB]\n",
            "Get:15 http://archive.ubuntu.com/ubuntu artful/main amd64 libdatrie1 amd64 0.2.10-5 [17.6 kB]\n",
            "Get:16 http://archive.ubuntu.com/ubuntu artful/main amd64 libthai0 amd64 0.1.26-3 [17.7 kB]\n",
            "Get:17 http://archive.ubuntu.com/ubuntu artful/main amd64 libpango-1.0-0 amd64 1.40.12-1 [152 kB]\n",
            "Get:18 http://archive.ubuntu.com/ubuntu artful/main amd64 libgraphite2-3 amd64 1.3.10-2 [78.3 kB]\n",
            "Get:19 http://archive.ubuntu.com/ubuntu artful/main amd64 libharfbuzz0b amd64 1.4.2-1 [211 kB]\n",
            "Get:20 http://archive.ubuntu.com/ubuntu artful/main amd64 libpangoft2-1.0-0 amd64 1.40.12-1 [33.2 kB]\n",
            "Get:21 http://archive.ubuntu.com/ubuntu artful/main amd64 libpangocairo-1.0-0 amd64 1.40.12-1 [20.8 kB]\n",
            "Get:22 http://archive.ubuntu.com/ubuntu artful/main amd64 libpathplan4 amd64 2.38.0-16ubuntu2 [22.6 kB]\n",
            "Get:23 http://archive.ubuntu.com/ubuntu artful/main amd64 libgvc6 amd64 2.38.0-16ubuntu2 [587 kB]\n",
            "Get:24 http://archive.ubuntu.com/ubuntu artful/main amd64 libgvpr2 amd64 2.38.0-16ubuntu2 [167 kB]\n",
            "Get:25 http://archive.ubuntu.com/ubuntu artful/main amd64 libxt6 amd64 1:1.1.5-1 [160 kB]\n",
            "Get:26 http://archive.ubuntu.com/ubuntu artful/main amd64 libxmu6 amd64 2:1.1.2-2 [46.0 kB]\n",
            "Get:27 http://archive.ubuntu.com/ubuntu artful/main amd64 libxaw7 amd64 2:1.0.13-1 [173 kB]\n",
            "Get:28 http://archive.ubuntu.com/ubuntu artful/main amd64 graphviz amd64 2.38.0-16ubuntu2 [710 kB]\n",
            "Fetched 4,122 kB in 1s (2,119 kB/s)\n",
            "Selecting previously unselected package fontconfig.\n",
            "(Reading database ... 18352 files and directories currently installed.)\n",
            "Preparing to unpack .../00-fontconfig_2.11.94-0ubuntu2_amd64.deb ...\n",
            "Unpacking fontconfig (2.11.94-0ubuntu2) ...\n",
            "Selecting previously unselected package libjbig0:amd64.\n",
            "Preparing to unpack .../01-libjbig0_2.1-3.1_amd64.deb ...\n",
            "Unpacking libjbig0:amd64 (2.1-3.1) ...\n",
            "Selecting previously unselected package libcdt5.\n",
            "Preparing to unpack .../02-libcdt5_2.38.0-16ubuntu2_amd64.deb ...\n",
            "Unpacking libcdt5 (2.38.0-16ubuntu2) ...\n",
            "Selecting previously unselected package libcgraph6.\n",
            "Preparing to unpack .../03-libcgraph6_2.38.0-16ubuntu2_amd64.deb ...\n",
            "Unpacking libcgraph6 (2.38.0-16ubuntu2) ...\n",
            "Selecting previously unselected package libtiff5:amd64.\n",
            "Preparing to unpack .../04-libtiff5_4.0.8-5ubuntu0.1_amd64.deb ...\n",
            "Unpacking libtiff5:amd64 (4.0.8-5ubuntu0.1) ...\n",
            "Selecting previously unselected package libwebp6:amd64.\n",
            "Preparing to unpack .../05-libwebp6_0.6.0-3_amd64.deb ...\n",
            "Unpacking libwebp6:amd64 (0.6.0-3) ...\n",
            "Selecting previously unselected package libxpm4:amd64.\n",
            "Preparing to unpack .../06-libxpm4_1%3a3.5.12-1_amd64.deb ...\n",
            "Unpacking libxpm4:amd64 (1:3.5.12-1) ...\n",
            "Selecting previously unselected package libgd3:amd64.\n",
            "Preparing to unpack .../07-libgd3_2.2.5-3_amd64.deb ...\n",
            "Unpacking libgd3:amd64 (2.2.5-3) ...\n",
            "Selecting previously unselected package libpixman-1-0:amd64.\n",
            "Preparing to unpack .../08-libpixman-1-0_0.34.0-1_amd64.deb ...\n",
            "Unpacking libpixman-1-0:amd64 (0.34.0-1) ...\n",
            "Selecting previously unselected package libxcb-render0:amd64.\n",
            "Preparing to unpack .../09-libxcb-render0_1.12-1ubuntu1_amd64.deb ...\n",
            "Unpacking libxcb-render0:amd64 (1.12-1ubuntu1) ...\n"
          ],
          "name": "stdout"
        },
        {
          "output_type": "stream",
          "text": [
            "Selecting previously unselected package libxcb-shm0:amd64.\n",
            "Preparing to unpack .../10-libxcb-shm0_1.12-1ubuntu1_amd64.deb ...\n",
            "Unpacking libxcb-shm0:amd64 (1.12-1ubuntu1) ...\n",
            "Selecting previously unselected package libcairo2:amd64.\n",
            "Preparing to unpack .../11-libcairo2_1.14.10-1ubuntu1_amd64.deb ...\n",
            "Unpacking libcairo2:amd64 (1.14.10-1ubuntu1) ...\n",
            "Selecting previously unselected package libltdl7:amd64.\n",
            "Preparing to unpack .../12-libltdl7_2.4.6-2_amd64.deb ...\n",
            "Unpacking libltdl7:amd64 (2.4.6-2) ...\n",
            "Selecting previously unselected package libthai-data.\n",
            "Preparing to unpack .../13-libthai-data_0.1.26-3_all.deb ...\n",
            "Unpacking libthai-data (0.1.26-3) ...\n",
            "Selecting previously unselected package libdatrie1:amd64.\n",
            "Preparing to unpack .../14-libdatrie1_0.2.10-5_amd64.deb ...\n",
            "Unpacking libdatrie1:amd64 (0.2.10-5) ...\n",
            "Selecting previously unselected package libthai0:amd64.\n",
            "Preparing to unpack .../15-libthai0_0.1.26-3_amd64.deb ...\n",
            "Unpacking libthai0:amd64 (0.1.26-3) ...\n",
            "Selecting previously unselected package libpango-1.0-0:amd64.\n",
            "Preparing to unpack .../16-libpango-1.0-0_1.40.12-1_amd64.deb ...\n",
            "Unpacking libpango-1.0-0:amd64 (1.40.12-1) ...\n",
            "Selecting previously unselected package libgraphite2-3:amd64.\n",
            "Preparing to unpack .../17-libgraphite2-3_1.3.10-2_amd64.deb ...\n",
            "Unpacking libgraphite2-3:amd64 (1.3.10-2) ...\n",
            "Selecting previously unselected package libharfbuzz0b:amd64.\n",
            "Preparing to unpack .../18-libharfbuzz0b_1.4.2-1_amd64.deb ...\n",
            "Unpacking libharfbuzz0b:amd64 (1.4.2-1) ...\n",
            "Selecting previously unselected package libpangoft2-1.0-0:amd64.\n",
            "Preparing to unpack .../19-libpangoft2-1.0-0_1.40.12-1_amd64.deb ...\n",
            "Unpacking libpangoft2-1.0-0:amd64 (1.40.12-1) ...\n",
            "Selecting previously unselected package libpangocairo-1.0-0:amd64.\n",
            "Preparing to unpack .../20-libpangocairo-1.0-0_1.40.12-1_amd64.deb ...\n",
            "Unpacking libpangocairo-1.0-0:amd64 (1.40.12-1) ...\n",
            "Selecting previously unselected package libpathplan4.\n",
            "Preparing to unpack .../21-libpathplan4_2.38.0-16ubuntu2_amd64.deb ...\n",
            "Unpacking libpathplan4 (2.38.0-16ubuntu2) ...\n",
            "Selecting previously unselected package libgvc6.\n",
            "Preparing to unpack .../22-libgvc6_2.38.0-16ubuntu2_amd64.deb ...\n",
            "Unpacking libgvc6 (2.38.0-16ubuntu2) ...\n",
            "Selecting previously unselected package libgvpr2.\n",
            "Preparing to unpack .../23-libgvpr2_2.38.0-16ubuntu2_amd64.deb ...\n",
            "Unpacking libgvpr2 (2.38.0-16ubuntu2) ...\n",
            "Selecting previously unselected package libxt6:amd64.\n",
            "Preparing to unpack .../24-libxt6_1%3a1.1.5-1_amd64.deb ...\n",
            "Unpacking libxt6:amd64 (1:1.1.5-1) ...\n",
            "Selecting previously unselected package libxmu6:amd64.\n",
            "Preparing to unpack .../25-libxmu6_2%3a1.1.2-2_amd64.deb ...\n",
            "Unpacking libxmu6:amd64 (2:1.1.2-2) ...\n",
            "Selecting previously unselected package libxaw7:amd64.\n",
            "Preparing to unpack .../26-libxaw7_2%3a1.0.13-1_amd64.deb ...\n",
            "Unpacking libxaw7:amd64 (2:1.0.13-1) ...\n",
            "Selecting previously unselected package graphviz.\n",
            "Preparing to unpack .../27-graphviz_2.38.0-16ubuntu2_amd64.deb ...\n",
            "Unpacking graphviz (2.38.0-16ubuntu2) ...\n",
            "Setting up libpathplan4 (2.38.0-16ubuntu2) ...\n",
            "Setting up libxcb-render0:amd64 (1.12-1ubuntu1) ...\n",
            "Setting up libjbig0:amd64 (2.1-3.1) ...\n",
            "Setting up libdatrie1:amd64 (0.2.10-5) ...\n",
            "Setting up libtiff5:amd64 (4.0.8-5ubuntu0.1) ...\n",
            "Setting up libgraphite2-3:amd64 (1.3.10-2) ...\n",
            "Setting up libpixman-1-0:amd64 (0.34.0-1) ...\n",
            "Processing triggers for libc-bin (2.26-0ubuntu2.1) ...\n",
            "Setting up libltdl7:amd64 (2.4.6-2) ...\n",
            "Setting up libxcb-shm0:amd64 (1.12-1ubuntu1) ...\n",
            "Setting up libxpm4:amd64 (1:3.5.12-1) ...\n",
            "Setting up libxt6:amd64 (1:1.1.5-1) ...\n",
            "Setting up libthai-data (0.1.26-3) ...\n",
            "Setting up libcdt5 (2.38.0-16ubuntu2) ...\n",
            "Setting up fontconfig (2.11.94-0ubuntu2) ...\n",
            "Regenerating fonts cache... done.\n",
            "Setting up libcgraph6 (2.38.0-16ubuntu2) ...\n",
            "Setting up libwebp6:amd64 (0.6.0-3) ...\n",
            "Setting up libcairo2:amd64 (1.14.10-1ubuntu1) ...\n",
            "Setting up libgvpr2 (2.38.0-16ubuntu2) ...\n",
            "Setting up libgd3:amd64 (2.2.5-3) ...\n",
            "Setting up libharfbuzz0b:amd64 (1.4.2-1) ...\n",
            "Setting up libthai0:amd64 (0.1.26-3) ...\n",
            "Setting up libxmu6:amd64 (2:1.1.2-2) ...\n",
            "Setting up libpango-1.0-0:amd64 (1.40.12-1) ...\n",
            "Setting up libxaw7:amd64 (2:1.0.13-1) ...\n",
            "Setting up libpangoft2-1.0-0:amd64 (1.40.12-1) ...\n",
            "Setting up libpangocairo-1.0-0:amd64 (1.40.12-1) ...\n",
            "Setting up libgvc6 (2.38.0-16ubuntu2) ...\n",
            "Setting up graphviz (2.38.0-16ubuntu2) ...\n",
            "Processing triggers for libc-bin (2.26-0ubuntu2.1) ...\n",
            "Collecting graphviz\n",
            "  Downloading https://files.pythonhosted.org/packages/84/44/21a7fdd50841aaaef224b943f7d10df87e476e181bb926ccf859bcb53d48/graphviz-0.8.3-py2.py3-none-any.whl\n"
          ],
          "name": "stdout"
        },
        {
          "output_type": "stream",
          "text": [
            "Collecting pydotplus\n",
            "\u001b[?25l  Downloading https://files.pythonhosted.org/packages/60/bf/62567830b700d9f6930e9ab6831d6ba256f7b0b730acb37278b0ccdffacf/pydotplus-2.0.2.tar.gz (278kB)\n",
            "\u001b[K    100% |████████████████████████████████| 286kB 11.4MB/s \n",
            "\u001b[?25hRequirement already satisfied: pyparsing>=2.0.1 in /usr/local/lib/python3.6/dist-packages (from pydotplus) (2.2.0)\n",
            "Building wheels for collected packages: pydotplus\n",
            "  Running setup.py bdist_wheel for pydotplus ... \u001b[?25l-\b \bdone\n",
            "\u001b[?25h  Stored in directory: /content/.cache/pip/wheels/35/7b/ab/66fb7b2ac1f6df87475b09dc48e707b6e0de80a6d8444e3628\n",
            "Successfully built pydotplus\n",
            "Installing collected packages: graphviz, pydotplus\n",
            "Successfully installed graphviz-0.8.3 pydotplus-2.0.2\n",
            "Collecting pydot\n",
            "\u001b[?25l  Downloading https://files.pythonhosted.org/packages/c3/f1/e61d6dfe6c1768ed2529761a68f70939e2569da043e9f15a8d84bf56cadf/pydot-1.2.4.tar.gz (132kB)\n",
            "\u001b[K    100% |████████████████████████████████| 133kB 6.1MB/s \n",
            "\u001b[?25hCollecting pyparsing>=2.1.4 (from pydot)\n",
            "\u001b[?25l  Downloading https://files.pythonhosted.org/packages/6a/8a/718fd7d3458f9fab8e67186b00abdd345b639976bc7fb3ae722e1b026a50/pyparsing-2.2.0-py2.py3-none-any.whl (56kB)\n",
            "\u001b[K    100% |████████████████████████████████| 61kB 6.7MB/s \n",
            "\u001b[?25hBuilding wheels for collected packages: pydot\n",
            "  Running setup.py bdist_wheel for pydot ... \u001b[?25l-\b \bdone\n",
            "\u001b[?25h  Stored in directory: /content/.cache/pip/wheels/6a/a5/14/25541ebcdeaf97a37b6d05c7ff15f5bd20f5e91b99d313e5b4\n",
            "Successfully built pydot\n",
            "Installing collected packages: pyparsing, pydot\n",
            "  Found existing installation: pyparsing 2.2.0\n",
            "    Uninstalling pyparsing-2.2.0:\n",
            "      Successfully uninstalled pyparsing-2.2.0\n",
            "Successfully installed pydot-1.2.4 pyparsing-2.2.0\n"
          ],
          "name": "stdout"
        },
        {
          "output_type": "error",
          "ename": "ImportError",
          "evalue": "ignored",
          "traceback": [
            "\u001b[0;31m---------------------------------------------------------------------------\u001b[0m",
            "\u001b[0;31mImportError\u001b[0m                               Traceback (most recent call last)",
            "\u001b[0;32m<ipython-input-8-10d79b4af18c>\u001b[0m in \u001b[0;36m<module>\u001b[0;34m()\u001b[0m\n\u001b[1;32m      2\u001b[0m \u001b[0mget_ipython\u001b[0m\u001b[0;34m(\u001b[0m\u001b[0;34m)\u001b[0m\u001b[0;34m.\u001b[0m\u001b[0msystem\u001b[0m\u001b[0;34m(\u001b[0m\u001b[0;34m'pip install graphviz pydotplus'\u001b[0m\u001b[0;34m)\u001b[0m\u001b[0;34m\u001b[0m\u001b[0m\n\u001b[1;32m      3\u001b[0m \u001b[0mget_ipython\u001b[0m\u001b[0;34m(\u001b[0m\u001b[0;34m)\u001b[0m\u001b[0;34m.\u001b[0m\u001b[0msystem\u001b[0m\u001b[0;34m(\u001b[0m\u001b[0;34m'pip install --upgrade --force-reinstall pydot'\u001b[0m\u001b[0;34m)\u001b[0m\u001b[0;34m\u001b[0m\u001b[0m\n\u001b[0;32m----> 4\u001b[0;31m \u001b[0mplot_model\u001b[0m\u001b[0;34m(\u001b[0m\u001b[0mmodel\u001b[0m\u001b[0;34m,\u001b[0m \u001b[0mto_file\u001b[0m\u001b[0;34m=\u001b[0m\u001b[0;34m\"lenet.png\"\u001b[0m\u001b[0;34m,\u001b[0m \u001b[0mshow_shapes\u001b[0m\u001b[0;34m=\u001b[0m\u001b[0;32mTrue\u001b[0m\u001b[0;34m)\u001b[0m\u001b[0;34m\u001b[0m\u001b[0m\n\u001b[0m\u001b[1;32m      5\u001b[0m \u001b[0mImage\u001b[0m\u001b[0;34m(\u001b[0m\u001b[0;34m\"lenet.png\"\u001b[0m\u001b[0;34m)\u001b[0m\u001b[0;34m\u001b[0m\u001b[0m\n",
            "\u001b[0;32m/usr/local/lib/python3.6/dist-packages/keras/utils/vis_utils.py\u001b[0m in \u001b[0;36mplot_model\u001b[0;34m(model, to_file, show_shapes, show_layer_names, rankdir)\u001b[0m\n\u001b[1;32m    132\u001b[0m             \u001b[0;34m'LR'\u001b[0m \u001b[0mcreates\u001b[0m \u001b[0ma\u001b[0m \u001b[0mhorizontal\u001b[0m \u001b[0mplot\u001b[0m\u001b[0;34m.\u001b[0m\u001b[0;34m\u001b[0m\u001b[0m\n\u001b[1;32m    133\u001b[0m     \"\"\"\n\u001b[0;32m--> 134\u001b[0;31m     \u001b[0mdot\u001b[0m \u001b[0;34m=\u001b[0m \u001b[0mmodel_to_dot\u001b[0m\u001b[0;34m(\u001b[0m\u001b[0mmodel\u001b[0m\u001b[0;34m,\u001b[0m \u001b[0mshow_shapes\u001b[0m\u001b[0;34m,\u001b[0m \u001b[0mshow_layer_names\u001b[0m\u001b[0;34m,\u001b[0m \u001b[0mrankdir\u001b[0m\u001b[0;34m)\u001b[0m\u001b[0;34m\u001b[0m\u001b[0m\n\u001b[0m\u001b[1;32m    135\u001b[0m     \u001b[0m_\u001b[0m\u001b[0;34m,\u001b[0m \u001b[0mextension\u001b[0m \u001b[0;34m=\u001b[0m \u001b[0mos\u001b[0m\u001b[0;34m.\u001b[0m\u001b[0mpath\u001b[0m\u001b[0;34m.\u001b[0m\u001b[0msplitext\u001b[0m\u001b[0;34m(\u001b[0m\u001b[0mto_file\u001b[0m\u001b[0;34m)\u001b[0m\u001b[0;34m\u001b[0m\u001b[0m\n\u001b[1;32m    136\u001b[0m     \u001b[0;32mif\u001b[0m \u001b[0;32mnot\u001b[0m \u001b[0mextension\u001b[0m\u001b[0;34m:\u001b[0m\u001b[0;34m\u001b[0m\u001b[0m\n",
            "\u001b[0;32m/usr/local/lib/python3.6/dist-packages/keras/utils/vis_utils.py\u001b[0m in \u001b[0;36mmodel_to_dot\u001b[0;34m(model, show_shapes, show_layer_names, rankdir)\u001b[0m\n\u001b[1;32m     53\u001b[0m     \u001b[0;32mfrom\u001b[0m \u001b[0;34m.\u001b[0m\u001b[0;34m.\u001b[0m\u001b[0mmodels\u001b[0m \u001b[0;32mimport\u001b[0m \u001b[0mSequential\u001b[0m\u001b[0;34m\u001b[0m\u001b[0m\n\u001b[1;32m     54\u001b[0m \u001b[0;34m\u001b[0m\u001b[0m\n\u001b[0;32m---> 55\u001b[0;31m     \u001b[0m_check_pydot\u001b[0m\u001b[0;34m(\u001b[0m\u001b[0;34m)\u001b[0m\u001b[0;34m\u001b[0m\u001b[0m\n\u001b[0m\u001b[1;32m     56\u001b[0m     \u001b[0mdot\u001b[0m \u001b[0;34m=\u001b[0m \u001b[0mpydot\u001b[0m\u001b[0;34m.\u001b[0m\u001b[0mDot\u001b[0m\u001b[0;34m(\u001b[0m\u001b[0;34m)\u001b[0m\u001b[0;34m\u001b[0m\u001b[0m\n\u001b[1;32m     57\u001b[0m     \u001b[0mdot\u001b[0m\u001b[0;34m.\u001b[0m\u001b[0mset\u001b[0m\u001b[0;34m(\u001b[0m\u001b[0;34m'rankdir'\u001b[0m\u001b[0;34m,\u001b[0m \u001b[0mrankdir\u001b[0m\u001b[0;34m)\u001b[0m\u001b[0;34m\u001b[0m\u001b[0m\n",
            "\u001b[0;32m/usr/local/lib/python3.6/dist-packages/keras/utils/vis_utils.py\u001b[0m in \u001b[0;36m_check_pydot\u001b[0;34m()\u001b[0m\n\u001b[1;32m     18\u001b[0m     \u001b[0;32mif\u001b[0m \u001b[0mpydot\u001b[0m \u001b[0;32mis\u001b[0m \u001b[0;32mNone\u001b[0m\u001b[0;34m:\u001b[0m\u001b[0;34m\u001b[0m\u001b[0m\n\u001b[1;32m     19\u001b[0m         raise ImportError(\n\u001b[0;32m---> 20\u001b[0;31m             \u001b[0;34m'Failed to import `pydot`. '\u001b[0m\u001b[0;34m\u001b[0m\u001b[0m\n\u001b[0m\u001b[1;32m     21\u001b[0m             \u001b[0;34m'Please install `pydot`. '\u001b[0m\u001b[0;34m\u001b[0m\u001b[0m\n\u001b[1;32m     22\u001b[0m             'For example with `pip install pydot`.')\n",
            "\u001b[0;31mImportError\u001b[0m: Failed to import `pydot`. Please install `pydot`. For example with `pip install pydot`.",
            "",
            "\u001b[0;31m---------------------------------------------------------------------------\u001b[0;32m\nNOTE: If your import is failing due to a missing package, you can\nmanually install dependencies using either !pip or !apt.\n\nTo view examples of installing some common dependencies, click the\n\"Open Examples\" button below.\n\u001b[0;31m---------------------------------------------------------------------------\u001b[0m\n"
          ]
        }
      ]
    },
    {
      "metadata": {
        "id": "oMT4SkmLgY_G",
        "colab_type": "text"
      },
      "cell_type": "markdown",
      "source": [
        "Compilar la red."
      ]
    },
    {
      "metadata": {
        "id": "KtSe2zmTgY_H",
        "colab_type": "code",
        "colab": {
          "autoexec": {
            "startup": false,
            "wait_interval": 0
          }
        }
      },
      "cell_type": "code",
      "source": [
        "opt = SGD(lr=0.01)\n",
        "model.compile(loss=\"categorical_crossentropy\", optimizer=opt,metrics=[\"accuracy\"])"
      ],
      "execution_count": 0,
      "outputs": []
    },
    {
      "metadata": {
        "id": "lmZMH_MZgY_K",
        "colab_type": "text"
      },
      "cell_type": "markdown",
      "source": [
        "Entrenamos la red. "
      ]
    },
    {
      "metadata": {
        "id": "bUi-xw5CgY_K",
        "colab_type": "code",
        "colab": {
          "autoexec": {
            "startup": false,
            "wait_interval": 0
          },
          "base_uri": "https://localhost:8080/",
          "height": 121
        },
        "outputId": "c2b37796-1447-48b5-8791-4df680b5d511",
        "executionInfo": {
          "status": "ok",
          "timestamp": 1525450605190,
          "user_tz": -120,
          "elapsed": 10712,
          "user": {
            "displayName": "Jónathan Heras",
            "photoUrl": "https://lh3.googleusercontent.com/a/default-user=s128",
            "userId": "114823230722430926771"
          }
        }
      },
      "cell_type": "code",
      "source": [
        "%%time\n",
        "print(\"[INFO] training network...\")\n",
        "H = model.fit(trainX, trainY, validation_data=(testX, testY),batch_size=128, epochs=1, verbose=1)"
      ],
      "execution_count": 10,
      "outputs": [
        {
          "output_type": "stream",
          "text": [
            "[INFO] training network...\n",
            "Train on 50000 samples, validate on 10000 samples\n",
            "Epoch 1/1\n",
            "50000/50000 [==============================] - 10s 201us/step - loss: 4.0082 - acc: 0.2783 - val_loss: 1.7272 - val_acc: 0.3751\n",
            "CPU times: user 6.85 s, sys: 3.37 s, total: 10.2 s\n",
            "Wall time: 10.3 s\n"
          ],
          "name": "stdout"
        }
      ]
    },
    {
      "metadata": {
        "id": "l4R3OXYwgY_N",
        "colab_type": "text"
      },
      "cell_type": "markdown",
      "source": [
        "Evaluar la red en el conjunto de test, y mostrar el tiempo. "
      ]
    },
    {
      "metadata": {
        "id": "rA3jSAJsgY_O",
        "colab_type": "code",
        "colab": {
          "autoexec": {
            "startup": false,
            "wait_interval": 0
          },
          "base_uri": "https://localhost:8080/",
          "height": 330
        },
        "outputId": "9a2cdc8e-2e6e-49d8-ed3c-1e78b151320d",
        "executionInfo": {
          "status": "ok",
          "timestamp": 1525450606390,
          "user_tz": -120,
          "elapsed": 1128,
          "user": {
            "displayName": "Jónathan Heras",
            "photoUrl": "https://lh3.googleusercontent.com/a/default-user=s128",
            "userId": "114823230722430926771"
          }
        }
      },
      "cell_type": "code",
      "source": [
        "%%time\n",
        "print(\"[INFO] evaluating network...\")\n",
        "predictions = model.predict(testX, batch_size=128)\n",
        "print(classification_report(testY.argmax(axis=1),predictions.argmax(axis=1)))"
      ],
      "execution_count": 11,
      "outputs": [
        {
          "output_type": "stream",
          "text": [
            "[INFO] evaluating network...\n",
            "             precision    recall  f1-score   support\n",
            "\n",
            "          0       0.40      0.63      0.49      1000\n",
            "          1       0.44      0.47      0.46      1000\n",
            "          2       0.27      0.34      0.30      1000\n",
            "          3       0.26      0.17      0.20      1000\n",
            "          4       0.27      0.27      0.27      1000\n",
            "          5       0.33      0.27      0.30      1000\n",
            "          6       0.43      0.18      0.26      1000\n",
            "          7       0.43      0.39      0.41      1000\n",
            "          8       0.43      0.55      0.48      1000\n",
            "          9       0.46      0.47      0.47      1000\n",
            "\n",
            "avg / total       0.37      0.38      0.36     10000\n",
            "\n",
            "CPU times: user 410 ms, sys: 100 ms, total: 510 ms\n",
            "Wall time: 624 ms\n"
          ],
          "name": "stdout"
        }
      ]
    },
    {
      "metadata": {
        "id": "x9f_HbsAcyFZ",
        "colab_type": "text"
      },
      "cell_type": "markdown",
      "source": [
        "# GoogleNet\n",
        "Google generó la red GoogleNet con más capas (22 capas) internas y más sencillas de computar.  "
      ]
    },
    {
      "metadata": {
        "id": "Y0GufPOqcyFZ",
        "colab_type": "text"
      },
      "cell_type": "markdown",
      "source": [
        "Definimos la red"
      ]
    },
    {
      "metadata": {
        "id": "yBKe_De7cyFa",
        "colab_type": "code",
        "colab": {
          "autoexec": {
            "startup": false,
            "wait_interval": 0
          }
        }
      },
      "cell_type": "code",
      "source": [
        "model = GoogLeNet.build(width=32, height=32, depth=3, classes=10)"
      ],
      "execution_count": 0,
      "outputs": []
    },
    {
      "metadata": {
        "id": "-3HPgwM9cyFb",
        "colab_type": "text"
      },
      "cell_type": "markdown",
      "source": [
        "Compilamos la red."
      ]
    },
    {
      "metadata": {
        "id": "Yv0haDCvcyFc",
        "colab_type": "code",
        "colab": {
          "autoexec": {
            "startup": false,
            "wait_interval": 0
          }
        }
      },
      "cell_type": "code",
      "source": [
        "model.compile(loss=\"categorical_crossentropy\", optimizer=RMSprop())\n"
      ],
      "execution_count": 0,
      "outputs": []
    },
    {
      "metadata": {
        "id": "32BAzLwycyFg",
        "colab_type": "text"
      },
      "cell_type": "markdown",
      "source": [
        "Entrenamos la red."
      ]
    },
    {
      "metadata": {
        "id": "tUQSZzR3cyFh",
        "colab_type": "code",
        "colab": {
          "autoexec": {
            "startup": false,
            "wait_interval": 0
          },
          "base_uri": "https://localhost:8080/",
          "height": 104
        },
        "outputId": "f978fa36-73f9-460f-ce3b-17c5606a984a",
        "executionInfo": {
          "status": "ok",
          "timestamp": 1525450716564,
          "user_tz": -120,
          "elapsed": 106796,
          "user": {
            "displayName": "Jónathan Heras",
            "photoUrl": "https://lh3.googleusercontent.com/a/default-user=s128",
            "userId": "114823230722430926771"
          }
        }
      },
      "cell_type": "code",
      "source": [
        "%%time\n",
        "H = model.fit(trainX, trainY, validation_data=(testX, testY),batch_size=128, epochs=1, verbose=1)"
      ],
      "execution_count": 14,
      "outputs": [
        {
          "output_type": "stream",
          "text": [
            "Train on 50000 samples, validate on 10000 samples\n",
            "Epoch 1/1\n",
            "50000/50000 [==============================] - 104s 2ms/step - loss: 1.3015 - val_loss: 1.2627\n",
            "CPU times: user 1min 15s, sys: 34.3 s, total: 1min 49s\n",
            "Wall time: 1min 46s\n"
          ],
          "name": "stdout"
        }
      ]
    },
    {
      "metadata": {
        "id": "9ueHA0AucyFj",
        "colab_type": "text"
      },
      "cell_type": "markdown",
      "source": [
        "Evaluar la red en el conjunto de test, y mostramos el tiempo que le ha costado."
      ]
    },
    {
      "metadata": {
        "id": "z0FAHqYfcyFj",
        "colab_type": "code",
        "colab": {
          "autoexec": {
            "startup": false,
            "wait_interval": 0
          },
          "base_uri": "https://localhost:8080/",
          "height": 330
        },
        "outputId": "1e64530e-8233-4ff2-a8b9-12e0cce4fe45",
        "executionInfo": {
          "status": "ok",
          "timestamp": 1525450724760,
          "user_tz": -120,
          "elapsed": 8120,
          "user": {
            "displayName": "Jónathan Heras",
            "photoUrl": "https://lh3.googleusercontent.com/a/default-user=s128",
            "userId": "114823230722430926771"
          }
        }
      },
      "cell_type": "code",
      "source": [
        "%%time\n",
        "print(\"[INFO] evaluating network...\")\n",
        "predictions = model.predict(testX, batch_size=64)\n",
        "print(classification_report(testY.argmax(axis=1),predictions.argmax(axis=1)))"
      ],
      "execution_count": 15,
      "outputs": [
        {
          "output_type": "stream",
          "text": [
            "[INFO] evaluating network...\n",
            "             precision    recall  f1-score   support\n",
            "\n",
            "          0       0.71      0.55      0.62      1000\n",
            "          1       0.90      0.31      0.47      1000\n",
            "          2       0.67      0.27      0.38      1000\n",
            "          3       0.65      0.17      0.27      1000\n",
            "          4       0.47      0.72      0.57      1000\n",
            "          5       0.68      0.46      0.55      1000\n",
            "          6       0.46      0.88      0.60      1000\n",
            "          7       0.67      0.74      0.70      1000\n",
            "          8       0.78      0.77      0.77      1000\n",
            "          9       0.47      0.95      0.63      1000\n",
            "\n",
            "avg / total       0.65      0.58      0.56     10000\n",
            "\n",
            "CPU times: user 2.59 s, sys: 889 ms, total: 3.48 s\n",
            "Wall time: 7.63 s\n"
          ],
          "name": "stdout"
        }
      ]
    },
    {
      "metadata": {
        "id": "T_QfFKiUcyFl",
        "colab_type": "text"
      },
      "cell_type": "markdown",
      "source": [
        "# VGGNet\n",
        "Esta red se caracteriza por su simplicidad, utilizando solo capas 3 × 3 convolucionales apiladas una sobre la otra en profundidad creciente."
      ]
    },
    {
      "metadata": {
        "id": "meuOmdCscyFm",
        "colab_type": "text"
      },
      "cell_type": "markdown",
      "source": [
        "Definimos la red"
      ]
    },
    {
      "metadata": {
        "id": "D1HaFZ1YcyFn",
        "colab_type": "code",
        "colab": {
          "autoexec": {
            "startup": false,
            "wait_interval": 0
          }
        }
      },
      "cell_type": "code",
      "source": [
        "model = VGGNet.build(width=32, height=32, depth=3, classes=10)"
      ],
      "execution_count": 0,
      "outputs": []
    },
    {
      "metadata": {
        "id": "X-2d2NPZcyFp",
        "colab_type": "text"
      },
      "cell_type": "markdown",
      "source": [
        "Compilamos la red."
      ]
    },
    {
      "metadata": {
        "id": "rmBknLTacyFp",
        "colab_type": "code",
        "colab": {
          "autoexec": {
            "startup": false,
            "wait_interval": 0
          }
        }
      },
      "cell_type": "code",
      "source": [
        "opt = SGD(lr=0.01, decay=0.01 / 40, momentum=0.9, nesterov=True)\n",
        "model.compile(loss=\"categorical_crossentropy\" , optimizer=opt, metrics=[\"accuracy\" ])"
      ],
      "execution_count": 0,
      "outputs": []
    },
    {
      "metadata": {
        "id": "KPVOIDctcyFs",
        "colab_type": "text"
      },
      "cell_type": "markdown",
      "source": [
        "Entrenamos la red. "
      ]
    },
    {
      "metadata": {
        "id": "uvoPIv6ecyFt",
        "colab_type": "code",
        "colab": {
          "autoexec": {
            "startup": false,
            "wait_interval": 0
          },
          "base_uri": "https://localhost:8080/",
          "height": 141
        },
        "outputId": "b94f5930-612f-454c-8c21-d44ad6d79146",
        "executionInfo": {
          "status": "ok",
          "timestamp": 1525450757862,
          "user_tz": -120,
          "elapsed": 30962,
          "user": {
            "displayName": "Jónathan Heras",
            "photoUrl": "https://lh3.googleusercontent.com/a/default-user=s128",
            "userId": "114823230722430926771"
          }
        }
      },
      "cell_type": "code",
      "source": [
        "%%time\n",
        "H = model.fit(trainX, trainY, validation_data=(testX, testY), batch_size=64, epochs=1, verbose=1)"
      ],
      "execution_count": 18,
      "outputs": [
        {
          "output_type": "stream",
          "text": [
            "WARNING:tensorflow:Variable *= will be deprecated. Use variable.assign_mul if you want assignment to the variable value or 'x = x * y' if you want a new python Tensor object.\n",
            "Train on 50000 samples, validate on 10000 samples\n",
            "Epoch 1/1\n",
            "37952/50000 [=====================>........] - ETA: 6s - loss: 1.6862 - acc: 0.4405"
          ],
          "name": "stdout"
        },
        {
          "output_type": "stream",
          "text": [
            "50000/50000 [==============================] - 30s 594us/step - loss: 1.6042 - acc: 0.4625 - val_loss: 1.0818 - val_acc: 0.6203\n",
            "CPU times: user 27.8 s, sys: 10 s, total: 37.8 s\n",
            "Wall time: 30.5 s\n"
          ],
          "name": "stdout"
        }
      ]
    },
    {
      "metadata": {
        "id": "nleEUPErcyFv",
        "colab_type": "text"
      },
      "cell_type": "markdown",
      "source": [
        "Evaluar la red en el conjunto de test, y mostramos el tiempo que le ha costado. "
      ]
    },
    {
      "metadata": {
        "id": "Ni7txnoCcyFv",
        "colab_type": "code",
        "colab": {
          "autoexec": {
            "startup": false,
            "wait_interval": 0
          },
          "base_uri": "https://localhost:8080/",
          "height": 330
        },
        "outputId": "810e3d33-edc6-4d4b-a712-58269dd6d842",
        "executionInfo": {
          "status": "ok",
          "timestamp": 1525450760200,
          "user_tz": -120,
          "elapsed": 2282,
          "user": {
            "displayName": "Jónathan Heras",
            "photoUrl": "https://lh3.googleusercontent.com/a/default-user=s128",
            "userId": "114823230722430926771"
          }
        }
      },
      "cell_type": "code",
      "source": [
        "%%time\n",
        "print(\"[INFO] evaluating network...\")\n",
        "predictions = model.predict(testX, batch_size=64)\n",
        "print(classification_report(testY.argmax(axis=1),predictions.argmax(axis=1)))"
      ],
      "execution_count": 19,
      "outputs": [
        {
          "output_type": "stream",
          "text": [
            "[INFO] evaluating network...\n",
            "             precision    recall  f1-score   support\n",
            "\n",
            "          0       0.71      0.55      0.62      1000\n",
            "          1       0.75      0.79      0.77      1000\n",
            "          2       0.54      0.35      0.42      1000\n",
            "          3       0.44      0.45      0.44      1000\n",
            "          4       0.53      0.54      0.53      1000\n",
            "          5       0.53      0.51      0.52      1000\n",
            "          6       0.65      0.79      0.71      1000\n",
            "          7       0.65      0.74      0.69      1000\n",
            "          8       0.65      0.83      0.73      1000\n",
            "          9       0.72      0.66      0.69      1000\n",
            "\n",
            "avg / total       0.62      0.62      0.61     10000\n",
            "\n",
            "CPU times: user 1.28 s, sys: 260 ms, total: 1.54 s\n",
            "Wall time: 1.8 s\n"
          ],
          "name": "stdout"
        }
      ]
    },
    {
      "metadata": {
        "id": "byO_r_BicyFy",
        "colab_type": "text"
      },
      "cell_type": "markdown",
      "source": [
        "# ResNet"
      ]
    },
    {
      "metadata": {
        "id": "sZq9OFYzcyFy",
        "colab_type": "text"
      },
      "cell_type": "markdown",
      "source": [
        "Definimos la red"
      ]
    },
    {
      "metadata": {
        "id": "U2ST_FEScyFy",
        "colab_type": "code",
        "colab": {
          "autoexec": {
            "startup": false,
            "wait_interval": 0
          }
        }
      },
      "cell_type": "code",
      "source": [
        "model = ResNet.build(width=32, height=32, depth=3, classes=10)"
      ],
      "execution_count": 0,
      "outputs": []
    },
    {
      "metadata": {
        "id": "8h-ZtwjgcyF2",
        "colab_type": "text"
      },
      "cell_type": "markdown",
      "source": [
        "Compilamos la red"
      ]
    },
    {
      "metadata": {
        "id": "UgH9E8NUcyF3",
        "colab_type": "code",
        "colab": {
          "autoexec": {
            "startup": false,
            "wait_interval": 0
          }
        }
      },
      "cell_type": "code",
      "source": [
        "opt = SGD(lr=0.005)\n",
        "model.compile(loss=\"categorical_crossentropy\", optimizer=opt,metrics=[\"accuracy\"])"
      ],
      "execution_count": 0,
      "outputs": []
    },
    {
      "metadata": {
        "id": "4l9uECZTewB6",
        "colab_type": "text"
      },
      "cell_type": "markdown",
      "source": [
        ""
      ]
    },
    {
      "metadata": {
        "id": "sqdSPKPBewL1",
        "colab_type": "code",
        "colab": {
          "autoexec": {
            "startup": false,
            "wait_interval": 0
          },
          "base_uri": "https://localhost:8080/",
          "height": 121
        },
        "outputId": "9c349ed4-2cae-4233-da9b-7dbee66b5fff",
        "executionInfo": {
          "status": "ok",
          "timestamp": 1525450993658,
          "user_tz": -120,
          "elapsed": 222374,
          "user": {
            "displayName": "Jónathan Heras",
            "photoUrl": "https://lh3.googleusercontent.com/a/default-user=s128",
            "userId": "114823230722430926771"
          }
        }
      },
      "cell_type": "code",
      "source": [
        "%%time\n",
        "print(\"[INFO] training network...\")\n",
        "H = model.fit(trainX, trainY, validation_data=(testX, testY),batch_size=128, epochs=1, verbose=1)"
      ],
      "execution_count": 22,
      "outputs": [
        {
          "output_type": "stream",
          "text": [
            "[INFO] training network...\n",
            "Train on 50000 samples, validate on 10000 samples\n",
            "Epoch 1/1\n",
            "50000/50000 [==============================] - 214s 4ms/step - loss: 2.6629 - acc: 0.1901 - val_loss: 2.5161 - val_acc: 0.2556\n",
            "CPU times: user 3min 8s, sys: 1min 18s, total: 4min 26s\n",
            "Wall time: 3min 41s\n"
          ],
          "name": "stdout"
        }
      ]
    },
    {
      "metadata": {
        "id": "4Uk1nqpzfoZo",
        "colab_type": "text"
      },
      "cell_type": "markdown",
      "source": [
        "Evaluar la red en el conjunto de test, y mostramos el tiempo que le ha costado. "
      ]
    },
    {
      "metadata": {
        "id": "yvhEVQgzfoZy",
        "colab_type": "code",
        "colab": {
          "autoexec": {
            "startup": false,
            "wait_interval": 0
          },
          "base_uri": "https://localhost:8080/",
          "height": 330
        },
        "outputId": "e70becc7-b1ed-4ec5-c9fe-942b5836a41d",
        "executionInfo": {
          "status": "ok",
          "timestamp": 1525451010524,
          "user_tz": -120,
          "elapsed": 16804,
          "user": {
            "displayName": "Jónathan Heras",
            "photoUrl": "https://lh3.googleusercontent.com/a/default-user=s128",
            "userId": "114823230722430926771"
          }
        }
      },
      "cell_type": "code",
      "source": [
        "%%time\n",
        "print(\"[INFO] evaluating network...\")\n",
        "predictions = model.predict(testX, batch_size=64)\n",
        "print(classification_report(testY.argmax(axis=1),predictions.argmax(axis=1)))"
      ],
      "execution_count": 23,
      "outputs": [
        {
          "output_type": "stream",
          "text": [
            "[INFO] evaluating network...\n",
            "             precision    recall  f1-score   support\n",
            "\n",
            "          0       0.40      0.34      0.37      1000\n",
            "          1       0.30      0.46      0.36      1000\n",
            "          2       0.22      0.10      0.13      1000\n",
            "          3       0.18      0.10      0.13      1000\n",
            "          4       0.25      0.46      0.32      1000\n",
            "          5       0.22      0.08      0.12      1000\n",
            "          6       0.24      0.27      0.25      1000\n",
            "          7       0.21      0.07      0.10      1000\n",
            "          8       0.26      0.28      0.27      1000\n",
            "          9       0.21      0.40      0.28      1000\n",
            "\n",
            "avg / total       0.25      0.26      0.23     10000\n",
            "\n",
            "CPU times: user 5.94 s, sys: 1.56 s, total: 7.5 s\n",
            "Wall time: 16.3 s\n"
          ],
          "name": "stdout"
        }
      ]
    },
    {
      "metadata": {
        "id": "eEc1APMAcyF6",
        "colab_type": "text"
      },
      "cell_type": "markdown",
      "source": [
        "# ShallowNet"
      ]
    },
    {
      "metadata": {
        "id": "KsnoSlPYcyF7",
        "colab_type": "text"
      },
      "cell_type": "markdown",
      "source": [
        "Definimos la red"
      ]
    },
    {
      "metadata": {
        "id": "F7Mj7oPKcyF9",
        "colab_type": "code",
        "colab": {
          "autoexec": {
            "startup": false,
            "wait_interval": 0
          }
        }
      },
      "cell_type": "code",
      "source": [
        "model = ShallowNet.build(width=32, height=32, depth=3, classes=10)"
      ],
      "execution_count": 0,
      "outputs": []
    },
    {
      "metadata": {
        "id": "R4hgG3kecyGB",
        "colab_type": "text"
      },
      "cell_type": "markdown",
      "source": [
        "Compilamos la red."
      ]
    },
    {
      "metadata": {
        "id": "jq_bOzOscyGC",
        "colab_type": "code",
        "colab": {
          "autoexec": {
            "startup": false,
            "wait_interval": 0
          }
        }
      },
      "cell_type": "code",
      "source": [
        "opt = SGD(lr=0.005)\n",
        "model.compile(loss=\"categorical_crossentropy\", optimizer=opt,metrics=[\"accuracy\"])"
      ],
      "execution_count": 0,
      "outputs": []
    },
    {
      "metadata": {
        "id": "do8NnOiTcyGF",
        "colab_type": "text"
      },
      "cell_type": "markdown",
      "source": [
        "Entrenamos la red"
      ]
    },
    {
      "metadata": {
        "id": "LRtYntXGcyGF",
        "colab_type": "code",
        "colab": {
          "autoexec": {
            "startup": false,
            "wait_interval": 0
          },
          "base_uri": "https://localhost:8080/",
          "height": 121
        },
        "outputId": "4ff518cb-5f43-4562-94e2-c04b26cd72c6",
        "executionInfo": {
          "status": "ok",
          "timestamp": 1525451022620,
          "user_tz": -120,
          "elapsed": 10580,
          "user": {
            "displayName": "Jónathan Heras",
            "photoUrl": "https://lh3.googleusercontent.com/a/default-user=s128",
            "userId": "114823230722430926771"
          }
        }
      },
      "cell_type": "code",
      "source": [
        "%%time\n",
        "print(\"[INFO] training network...\")\n",
        "H = model.fit(trainX, trainY, validation_data=(testX, testY),batch_size=128, epochs=1, verbose=1)"
      ],
      "execution_count": 26,
      "outputs": [
        {
          "output_type": "stream",
          "text": [
            "[INFO] training network...\n",
            "Train on 50000 samples, validate on 10000 samples\n",
            "Epoch 1/1\n",
            "50000/50000 [==============================] - 10s 200us/step - loss: 14.5037 - acc: 0.1000 - val_loss: 14.5063 - val_acc: 0.1000\n",
            "CPU times: user 7.71 s, sys: 2.03 s, total: 9.74 s\n",
            "Wall time: 10.2 s\n"
          ],
          "name": "stdout"
        }
      ]
    },
    {
      "metadata": {
        "id": "7HCpFAZycyGH",
        "colab_type": "text"
      },
      "cell_type": "markdown",
      "source": [
        "Evaluar la red en el conjunto de test, y mostramos el tiempo que le ha costado. "
      ]
    },
    {
      "metadata": {
        "id": "zDFq_ufYcyGI",
        "colab_type": "code",
        "colab": {
          "autoexec": {
            "startup": false,
            "wait_interval": 0
          },
          "base_uri": "https://localhost:8080/",
          "height": 384
        },
        "outputId": "5a8e15c1-6012-4675-f33a-2a0eb2349acd",
        "executionInfo": {
          "status": "ok",
          "timestamp": 1525451024842,
          "user_tz": -120,
          "elapsed": 2144,
          "user": {
            "displayName": "Jónathan Heras",
            "photoUrl": "https://lh3.googleusercontent.com/a/default-user=s128",
            "userId": "114823230722430926771"
          }
        }
      },
      "cell_type": "code",
      "source": [
        "%%time\n",
        "print(\"[INFO] evaluating network...\")\n",
        "predictions = model.predict(testX, batch_size=128)\n",
        "print(classification_report(testY.argmax(axis=1),predictions.argmax(axis=1)))"
      ],
      "execution_count": 27,
      "outputs": [
        {
          "output_type": "stream",
          "text": [
            "[INFO] evaluating network...\n",
            "             precision    recall  f1-score   support\n",
            "\n",
            "          0       0.00      0.00      0.00      1000\n",
            "          1       0.00      0.00      0.00      1000\n",
            "          2       0.00      0.00      0.00      1000\n",
            "          3       0.00      0.00      0.00      1000\n",
            "          4       0.00      0.00      0.00      1000\n",
            "          5       0.00      0.00      0.00      1000\n",
            "          6       0.00      0.00      0.00      1000\n",
            "          7       0.10      1.00      0.18      1000\n",
            "          8       0.00      0.00      0.00      1000\n",
            "          9       0.00      0.00      0.00      1000\n",
            "\n",
            "avg / total       0.01      0.10      0.02     10000\n",
            "\n",
            "CPU times: user 1.33 s, sys: 294 ms, total: 1.63 s\n",
            "Wall time: 1.63 s\n"
          ],
          "name": "stdout"
        },
        {
          "output_type": "stream",
          "text": [
            "/usr/local/lib/python3.6/dist-packages/sklearn/metrics/classification.py:1135: UndefinedMetricWarning: Precision and F-score are ill-defined and being set to 0.0 in labels with no predicted samples.\n",
            "  'precision', 'predicted', average, warn_for)\n"
          ],
          "name": "stderr"
        }
      ]
    },
    {
      "metadata": {
        "id": "rfxDXN3CxMlw",
        "colab_type": "code",
        "colab": {
          "autoexec": {
            "startup": false,
            "wait_interval": 0
          }
        }
      },
      "cell_type": "code",
      "source": [
        ""
      ],
      "execution_count": 0,
      "outputs": []
    }
  ]
}