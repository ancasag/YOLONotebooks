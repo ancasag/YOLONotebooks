{
  "nbformat": 4,
  "nbformat_minor": 0,
  "metadata": {
    "colab": {
      "name": "YOLO1.ipynb",
      "version": "0.3.2",
      "views": {},
      "default_view": {},
      "provenance": [],
      "collapsed_sections": []
    },
    "kernelspec": {
      "display_name": "Python 3",
      "language": "python",
      "name": "python3"
    }
  },
  "cells": [
    {
      "metadata": {
        "id": "hJBJBBVGO-Jz",
        "colab_type": "text"
      },
      "cell_type": "markdown",
      "source": [
        "# Notebook 5: YOLO Parte 1\n",
        "\n",
        "\n",
        "Este notebook nos guiará a través de la detección de objetos con YOLO utilizando un modelo pre-entrenado con el dataset CoCo. En concreto veremos cómo poder utilizarla. "
      ]
    },
    {
      "metadata": {
        "id": "QAq_d-jkQ6JC",
        "colab_type": "text"
      },
      "cell_type": "markdown",
      "source": [
        "El primer lugar descargaremos YOLO, que se distribuye en una carpeta llamada darknet donde tenemos todo lo necesario para poder trabajar con YOLO. Para ello ejecutamos el siguiente comando que permite clonar un repositorio de github:"
      ]
    },
    {
      "metadata": {
        "id": "pcX_semTO5T8",
        "colab_type": "code",
        "colab": {
          "autoexec": {
            "startup": false,
            "wait_interval": 0
          },
          "base_uri": "https://localhost:8080/",
          "height": 51
        },
        "outputId": "a2fa358e-8ddb-4b5f-db3f-4b80d2ffe746",
        "executionInfo": {
          "elapsed": 3842,
          "status": "ok",
          "timestamp": 1525769454653,
          "user": {
            "displayName": "Angela Casado",
            "photoUrl": "https://lh3.googleusercontent.com/a/default-user=s128",
            "userId": "101403690752030519003"
          },
          "user_tz": -120
        }
      },
      "cell_type": "code",
      "source": [
        "!git clone https://github.com/AlexeyAB/darknet.git"
      ],
      "execution_count": 0,
      "outputs": [
        {
          "output_type": "stream",
          "text": [
            "Clonar en «darknet»...\n",
            "remote: Counting objects: 5792, done.\u001b[K\n",
            "remote: Total 5792 (delta 0), reused 0 (delta 0), pack-reused 5791\u001b[K\n",
            "Receiving objects: 100% (5792/5792), 6.00 MiB | 1.24 MiB/s, done.\n",
            "Resolving deltas: 100% (3883/3883), done.\n",
            "Comprobando la conectividad… hecho.\n"
          ],
          "name": "stdout"
        }
      ]
    },
    {
      "metadata": {
        "id": "ufyBQhHrRexg",
        "colab_type": "text"
      },
      "cell_type": "markdown",
      "source": [
        "El siguiente paso será copiar el resto de Notebooks dentro de la carpeta donde se encuentra YOLO."
      ]
    },
    {
      "metadata": {
        "id": "KNzBDQsI8XdF",
        "colab_type": "code",
        "colab": {
          "autoexec": {
            "startup": false,
            "wait_interval": 0
          }
        }
      },
      "cell_type": "code",
      "source": [
        "!cp -r YOLO2.ipynb darknet/YOLO2.ipynb\n",
        "!cp -r YOLO2.ipynb darknet/Filtros.ipynb\n",
        "!cp -r YOLO2.ipynb darknet/VentanaDeslizante.ipynb\n",
        "!cp -r YOLO2.ipynb darknet/CPUs_GPUs.ipynb\n",
        "!cp -r YOLO2.ipynb darknet/CPUs_GPUsDrive_GPU.ipynb\n",
        "!cp -r YOLO2.ipynb darknet/YOLO_PASCAL_VOC.ipynb\n",
        "!cp -r YOLO2.ipynb darknet/YOLO_CoCo.ipynb\n",
        "!cp -r YOLO2.ipynb darknet/YOLO_Estomas.ipynb\n",
        "!cp -r YOLO2.ipynb darknet/CLODSA_Estomas.ipynb\n",
        "!cp -r YOLO2.ipynb darknet/NotebookGeneral.ipynb\n"
      ],
      "execution_count": 0,
      "outputs": []
    },
    {
      "metadata": {
        "id": "Td-3-xtESSH2",
        "colab_type": "text"
      },
      "cell_type": "markdown",
      "source": [
        "Una vez que ya lo tenemos copiado vamos a la carpeta de darknet y ejecutamos el notebook YOLO2"
      ]
    }
  ]
}