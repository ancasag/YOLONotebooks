{
  "nbformat": 4,
  "nbformat_minor": 0,
  "metadata": {
    "colab": {
      "name": "CLODSA_Estomas.ipynb",
      "version": "0.3.2",
      "views": {},
      "default_view": {},
      "provenance": []
    },
    "kernelspec": {
      "display_name": "Python 2",
      "language": "python",
      "name": "python2"
    }
  },
  "cells": [
    {
      "metadata": {
        "id": "5n9M6O7oafRP",
        "colab_type": "text"
      },
      "cell_type": "markdown",
      "source": [
        "# Data Augmentation"
      ]
    },
    {
      "metadata": {
        "id": "cxA9V3xGafRW",
        "colab_type": "text"
      },
      "cell_type": "markdown",
      "source": [
        "## Loading the necessary libraries\n",
        "\n",
        "The first step in the pipeline consists in loading the necessary libraries to apply the data augmentation techniques in CLODSA. We also load some libraries to show the results."
      ]
    },
    {
      "metadata": {
        "id": "qO1fejKIafRZ",
        "colab_type": "code",
        "colab": {
          "autoexec": {
            "startup": false,
            "wait_interval": 0
          }
        }
      },
      "cell_type": "code",
      "source": [
        "from matplotlib import pyplot as plt\n",
        "from clodsa.augmentors.augmentorFactory import createAugmentor\n",
        "from clodsa.augmentors.generator import Generator\n",
        "from clodsa.techniques.techniqueFactory import createTechnique\n",
        "import xml.etree.ElementTree as ET\n",
        "import cv2\n",
        "%matplotlib inline"
      ],
      "execution_count": 0,
      "outputs": []
    },
    {
      "metadata": {
        "id": "E_0autm-afRe",
        "colab_type": "text"
      },
      "cell_type": "markdown",
      "source": [
        "## Creating the augmentor object\n",
        "\n",
        "As explained in the documentation of CLODSA, we need to specify some parameters for the augmentation process, and use them to create an augmentor object.  \n",
        "\n",
        "_The kind of problem_. In this case, we are working in a detection problem"
      ]
    },
    {
      "metadata": {
        "id": "hxz6HsATafRg",
        "colab_type": "code",
        "colab": {
          "autoexec": {
            "startup": false,
            "wait_interval": 0
          }
        }
      },
      "cell_type": "code",
      "source": [
        "PROBLEM = \"detection\""
      ],
      "execution_count": 0,
      "outputs": []
    },
    {
      "metadata": {
        "id": "W6O4tVUPafRl",
        "colab_type": "text"
      },
      "cell_type": "markdown",
      "source": [
        "_The annotation mode_. We use the YOLO format. "
      ]
    },
    {
      "metadata": {
        "id": "yNHRztstafRm",
        "colab_type": "code",
        "colab": {
          "autoexec": {
            "startup": false,
            "wait_interval": 0
          }
        }
      },
      "cell_type": "code",
      "source": [
        "ANNOTATION_MODE = \"yolo\""
      ],
      "execution_count": 0,
      "outputs": []
    },
    {
      "metadata": {
        "id": "SiKYMZBYafRq",
        "colab_type": "text"
      },
      "cell_type": "markdown",
      "source": [
        "_The input path_. The input path containing the images. "
      ]
    },
    {
      "metadata": {
        "id": "-pzsCqaXafRs",
        "colab_type": "code",
        "colab": {
          "autoexec": {
            "startup": false,
            "wait_interval": 0
          }
        }
      },
      "cell_type": "code",
      "source": [
        "INPUT_PATH = \"dataset/\""
      ],
      "execution_count": 0,
      "outputs": []
    },
    {
      "metadata": {
        "id": "XM6Kzl-OafRw",
        "colab_type": "text"
      },
      "cell_type": "markdown",
      "source": [
        "_The generation mode_. In this case, linear, that is, all the augmentation techniques are applied to all the images of the original dataset. "
      ]
    },
    {
      "metadata": {
        "id": "-Tq04z7nafRx",
        "colab_type": "code",
        "colab": {
          "autoexec": {
            "startup": false,
            "wait_interval": 0
          }
        }
      },
      "cell_type": "code",
      "source": [
        "GENERATION_MODE = \"linear\""
      ],
      "execution_count": 0,
      "outputs": []
    },
    {
      "metadata": {
        "id": "kQLgW6izafR1",
        "colab_type": "text"
      },
      "cell_type": "markdown",
      "source": [
        "_The output mode_. The generated images will be stored in a new folder called train.  "
      ]
    },
    {
      "metadata": {
        "id": "zUWyaD8rafR2",
        "colab_type": "code",
        "colab": {
          "autoexec": {
            "startup": false,
            "wait_interval": 0
          }
        }
      },
      "cell_type": "code",
      "source": [
        "OUTPUT_MODE = \"yolo\"\n",
        "OUTPUT_PATH= \"train\""
      ],
      "execution_count": 0,
      "outputs": []
    },
    {
      "metadata": {
        "id": "wwV-nrdJafR5",
        "colab_type": "text"
      },
      "cell_type": "markdown",
      "source": [
        "Using the above information, we can create our augmentor object. "
      ]
    },
    {
      "metadata": {
        "id": "mTaCIQD-afR7",
        "colab_type": "code",
        "colab": {
          "autoexec": {
            "startup": false,
            "wait_interval": 0
          }
        }
      },
      "cell_type": "code",
      "source": [
        "augmentor = createAugmentor(PROBLEM,ANNOTATION_MODE,OUTPUT_MODE,GENERATION_MODE,INPUT_PATH,{\"outputPath\":OUTPUT_PATH})"
      ],
      "execution_count": 0,
      "outputs": []
    },
    {
      "metadata": {
        "id": "Mu-dmlc0VaGR",
        "colab_type": "text"
      },
      "cell_type": "markdown",
      "source": [
        "We apply the following augmentation techniques."
      ]
    },
    {
      "metadata": {
        "id": "Vax19fU3afSV",
        "colab_type": "text"
      },
      "cell_type": "markdown",
      "source": [
        "#### Vertical flip"
      ]
    },
    {
      "metadata": {
        "id": "60yK0EbHafSW",
        "colab_type": "code",
        "colab": {
          "autoexec": {
            "startup": false,
            "wait_interval": 0
          }
        }
      },
      "cell_type": "code",
      "source": [
        "vFlip = createTechnique(\"flip\",{\"flip\":0})\n",
        "augmentor.addGenerator(Generator(vFlip))"
      ],
      "execution_count": 0,
      "outputs": []
    },
    {
      "metadata": {
        "id": "b3fsGvQfafSc",
        "colab_type": "text"
      },
      "cell_type": "markdown",
      "source": [
        "#### Horizontal flip"
      ]
    },
    {
      "metadata": {
        "id": "xx7VxTUSafSe",
        "colab_type": "code",
        "colab": {
          "autoexec": {
            "startup": false,
            "wait_interval": 0
          }
        }
      },
      "cell_type": "code",
      "source": [
        "hFlip = createTechnique(\"flip\",{\"flip\":1})\n",
        "augmentor.addGenerator(Generator(hFlip))"
      ],
      "execution_count": 0,
      "outputs": []
    },
    {
      "metadata": {
        "id": "PWGlYPUjafSm",
        "colab_type": "text"
      },
      "cell_type": "markdown",
      "source": [
        "#### Horizontal and vertical flip"
      ]
    },
    {
      "metadata": {
        "id": "z-A_1OCOafSo",
        "colab_type": "code",
        "colab": {
          "autoexec": {
            "startup": false,
            "wait_interval": 0
          }
        }
      },
      "cell_type": "code",
      "source": [
        "hvFlip = createTechnique(\"flip\",{\"flip\":-1})\n",
        "augmentor.addGenerator(Generator(hvFlip))"
      ],
      "execution_count": 0,
      "outputs": []
    },
    {
      "metadata": {
        "id": "kZzS82tnafSw",
        "colab_type": "text"
      },
      "cell_type": "markdown",
      "source": [
        "#### Rotation (90º, 180º, and 270º):"
      ]
    },
    {
      "metadata": {
        "id": "ZJ7eV97aafSx",
        "colab_type": "code",
        "colab": {
          "autoexec": {
            "startup": false,
            "wait_interval": 0
          }
        }
      },
      "cell_type": "code",
      "source": [
        "rotate = createTechnique(\"rotate\", {\"angle\" : 90})\n",
        "augmentor.addGenerator(Generator(rotate))"
      ],
      "execution_count": 0,
      "outputs": []
    },
    {
      "metadata": {
        "id": "xVkoxWQEVaGg",
        "colab_type": "code",
        "colab": {
          "autoexec": {
            "startup": false,
            "wait_interval": 0
          }
        }
      },
      "cell_type": "code",
      "source": [
        "rotate = createTechnique(\"rotate\", {\"angle\" : 180})\n",
        "augmentor.addGenerator(Generator(rotate))"
      ],
      "execution_count": 0,
      "outputs": []
    },
    {
      "metadata": {
        "id": "AXht4UaEVaGi",
        "colab_type": "code",
        "colab": {
          "autoexec": {
            "startup": false,
            "wait_interval": 0
          }
        }
      },
      "cell_type": "code",
      "source": [
        "rotate = createTechnique(\"rotate\", {\"angle\" : 270})\n",
        "augmentor.addGenerator(Generator(rotate))"
      ],
      "execution_count": 0,
      "outputs": []
    },
    {
      "metadata": {
        "id": "MXXVAlmNafS4",
        "colab_type": "text"
      },
      "cell_type": "markdown",
      "source": [
        "#### Average blurring"
      ]
    },
    {
      "metadata": {
        "id": "Q_SSywejafS4",
        "colab_type": "code",
        "colab": {
          "autoexec": {
            "startup": false,
            "wait_interval": 0
          }
        }
      },
      "cell_type": "code",
      "source": [
        "avgBlur =  createTechnique(\"average_blurring\", {\"kernel\" : 5})\n",
        "augmentor.addGenerator(Generator(avgBlur))"
      ],
      "execution_count": 0,
      "outputs": []
    },
    {
      "metadata": {
        "id": "10pBecF-VaGn",
        "colab_type": "text"
      },
      "cell_type": "markdown",
      "source": [
        "#### Gaussian noise"
      ]
    },
    {
      "metadata": {
        "id": "ai4m67IyVaGn",
        "colab_type": "code",
        "colab": {
          "autoexec": {
            "startup": false,
            "wait_interval": 0
          }
        }
      },
      "cell_type": "code",
      "source": [
        "avgNoise =  createTechnique(\"gaussian_noise\", {\"mean\":0, \"sigma\":10})\n",
        "augmentor.addGenerator(Generator(avgNoise))"
      ],
      "execution_count": 0,
      "outputs": []
    },
    {
      "metadata": {
        "id": "ouZ-I-DbafTO",
        "colab_type": "text"
      },
      "cell_type": "markdown",
      "source": [
        "## Applying the augmentation process\n",
        "\n",
        "Finally, we apply the augmentation process (this might take some time depending on the number of images of the original dataset and the number of transformations that will be applied). "
      ]
    },
    {
      "metadata": {
        "id": "y12SznC4Y0Vl",
        "colab_type": "code",
        "colab": {
          "autoexec": {
            "startup": false,
            "wait_interval": 0
          }
        }
      },
      "cell_type": "code",
      "source": [
        "augmentor.applyAugmentation()"
      ],
      "execution_count": 0,
      "outputs": []
    },
    {
      "metadata": {
        "id": "ZydpyBjTafTT",
        "colab_type": "text"
      },
      "cell_type": "markdown",
      "source": [
        "Finally, we can check the amount of images in the output folder."
      ]
    },
    {
      "metadata": {
        "id": "UwPtjMjbVaGv",
        "colab_type": "code",
        "colab": {
          "autoexec": {
            "startup": false,
            "wait_interval": 0
          }
        },
        "outputId": "cebcd4cb-3c7f-428b-e5c7-59f36de2e2b2"
      },
      "cell_type": "code",
      "source": [
        "from imutils import paths\n",
        "len(list(paths.list_files(\"train/\",validExts=(\".jpg\"))))"
      ],
      "execution_count": 0,
      "outputs": [
        {
          "output_type": "execute_result",
          "data": {
            "text/plain": [
              "3744"
            ]
          },
          "metadata": {
            "tags": []
          },
          "execution_count": 38
        }
      ]
    },
    {
      "metadata": {
        "id": "pS4p7gfZY9xk",
        "colab_type": "text"
      },
      "cell_type": "markdown",
      "source": [
        "We can see that we have augmented by 9 the number of original images."
      ]
    },
    {
      "metadata": {
        "id": "atu1eEVUafTU",
        "colab_type": "code",
        "colab": {
          "autoexec": {
            "startup": false,
            "wait_interval": 0
          }
        },
        "outputId": "cfea033f-ca14-4800-889c-294691d30027"
      },
      "cell_type": "code",
      "source": [
        "print(\"Number of images in the folder\")\n",
        "!ls -1 dataset/*.jpg | wc -l"
      ],
      "execution_count": 0,
      "outputs": [
        {
          "output_type": "stream",
          "text": [
            "Number of images in the folder\n",
            "468\r\n"
          ],
          "name": "stdout"
        }
      ]
    },
    {
      "metadata": {
        "id": "NnlkZUUrafTX",
        "colab_type": "code",
        "colab": {
          "autoexec": {
            "startup": false,
            "wait_interval": 0
          }
        }
      },
      "cell_type": "code",
      "source": [
        ""
      ],
      "execution_count": 0,
      "outputs": []
    }
  ]
}